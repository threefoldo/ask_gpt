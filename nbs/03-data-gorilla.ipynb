{
 "cells": [
  {
   "cell_type": "raw",
   "metadata": {},
   "source": [
    "---\n",
    "{}\n",
    "\n",
    "---\n",
    "\n"
   ]
  },
  {
   "cell_type": "code",
   "execution_count": 2,
   "id": "1facf611-53ca-4931-af8f-fb6208f71b70",
   "metadata": {},
   "outputs": [
    {
     "name": "stdout",
     "output_type": "stream",
     "text": [
      "total 1812\n",
      "-rw-rw-r-- 1 jinzy jinzy 1058195 5月  27 15:04 huggingface_api.jsonl\n",
      "-rw-rw-r-- 1 jinzy jinzy  660154 5月  27 15:04 tensorflowhub_api.jsonl\n",
      "-rw-rw-r-- 1 jinzy jinzy  127463 5月  27 15:04 torchhub_api.jsonl\n"
     ]
    }
   ],
   "source": [
    "!ls -l ../gorilla/data/api"
   ]
  },
  {
   "cell_type": "code",
   "execution_count": null,
   "id": "9b19c778-fb74-469c-b432-438d992799fa",
   "metadata": {},
   "outputs": [],
   "source": []
  }
 ],
 "metadata": {
  "kernelspec": {
   "display_name": "Python 3 (ipykernel)",
   "language": "python",
   "name": "python3"
  },
  "language_info": {
   "codemirror_mode": {
    "name": "ipython",
    "version": 3
   },
   "file_extension": ".py",
   "mimetype": "text/x-python",
   "name": "python",
   "nbconvert_exporter": "python",
   "pygments_lexer": "ipython3",
   "version": "3.9.13"
  }
 },
 "nbformat": 4,
 "nbformat_minor": 5
}
