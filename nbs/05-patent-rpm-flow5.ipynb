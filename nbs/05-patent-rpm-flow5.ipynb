{
 "cells": [
  {
   "cell_type": "markdown",
   "id": "9327a203-ea77-462a-b4a3-6d8851e55090",
   "metadata": {},
   "source": [
    "针对RPM产品，给定一个问题和解决方案，先扩张问题描述，然后反思这个更新的问题描述是否与原始版本保持一致。接着，根据更新的问题描述和原始的解决方案来生成多个解决方案，\n",
    "再结合多个解决方案来生成最终的解决方案。目前的重点是完善问题描述和解决方案。\n",
    "\n",
    "Use GPT-4"
   ]
  },
  {
   "cell_type": "code",
   "execution_count": 1,
   "id": "efddb790-e7a9-4f0a-b1b5-38d0bb187ca1",
   "metadata": {},
   "outputs": [],
   "source": [
    "import os\n",
    "from dotenv import load_dotenv\n",
    "from datetime import datetime\n",
    "\n",
    "import openai\n",
    "from IPython.display import HTML, display\n",
    "from ipywidgets import widgets\n",
    "from langchain.chains import ConversationalRetrievalChain\n",
    "from langchain.chat_models import ChatOpenAI\n",
    "from langchain.document_loaders import DirectoryLoader\n",
    "from langchain.vectorstores import Chroma\n",
    "\n",
    "from langchain.chains import LLMChain\n",
    "from langchain.chains.question_answering import load_qa_chain\n",
    "from langchain.prompts import PromptTemplate\n",
    "from langchain.prompts.chat import ChatPromptTemplate\n",
    "from langchain.memory import ConversationBufferMemory, ConversationSummaryBufferMemory\n",
    "\n",
    "\n",
    "# load_dotenv(\"../gpt4.env\")\n",
    "# llm = ChatOpenAI(model_name=\"gpt-3.5-turbo-16k-0613\", temperature=0.7, max_tokens=4000)\n",
    "load_dotenv(\"../openai.env\")\n",
    "llm = ChatOpenAI(model_name=\"gpt-4-0613\", temperature=0.7, max_tokens=2000)"
   ]
  },
  {
   "cell_type": "code",
   "execution_count": 2,
   "id": "59d31d73-911c-4582-93d5-5c6346ee1d6f",
   "metadata": {},
   "outputs": [],
   "source": [
    "template_rewriteq = '''你是一个专业的软件方法方向的专利代理，你的任务是帮助专利发明人完善发明点设计。\n",
    "发明人的问题描述往往比较模糊，只集中于核心的概念和逻辑，对于问题相关的背景、价值和创新描述模糊不清。\n",
    "请根据以下提示，为发明人的简单描述补充相关信息，重新生成一个更好的问题描述：\n",
    "1，这个发明解决了什么具体的软件或计算问题吗？\n",
    "2，那些用户、软件系统或计算环境会遇到这个问题？\n",
    "3，你能举一个这个软件问题通常出现的例子吗？\n",
    "4，这个问题如何影响软件系统或应用的操作、效率或用户体验？\n",
    "5，目前存在哪些针对这个问题的软件或算法解决方案？他们在哪些方面不够完善、高效或者对用户不友好？\n",
    "6，在技术领域或者行业发展中，有哪些最近或即将发生的变化使得这个问题变得特别相关或紧迫？\n",
    "7，你能量化这个问题吗？有没有任何统计数据或者度量标准能够说明其对计算性能、系统效率或用户体验的影响？\n",
    "8，这个问题如何影响不同的利益相关者（例如：开发人员、终端用户、系统管理员、业务所有者）？\n",
    "9，这个软件问题是被广泛认知的，还是说你的发明揭示了它？\n",
    "10，解决这个问题有没有任何特定的软件、硬件或系统约束？\n",
    "\n",
    "发明人提供的问题描述: {raw_question}\n",
    "\n",
    "系统的、详细的、完整的问题描述是：'''\n",
    "\n",
    "prompt_rewriteq = PromptTemplate(input_variables=['raw_question'], template=template_rewriteq)\n",
    "rewriteq_chain = LLMChain(llm=llm, prompt=prompt_rewriteq, output_key='question')"
   ]
  },
  {
   "cell_type": "code",
   "execution_count": 3,
   "id": "c9af9044-f61b-486f-9aa1-0e24ed0764c5",
   "metadata": {},
   "outputs": [],
   "source": [
    "template_commentq = '''你是一个著名的产品经理，请根据发明人提供的问题描述和自动补充的问题描述，提取其中涉及到的核心概念、术语。\n",
    "请提供这些概念、术语的精简描述，并说明它们之间可能存在的逻辑或者语义关系。对于复杂的技术或者过程，请提供示例来说明，以方便理解。\n",
    "\n",
    "发明人提供的问题描述: {raw_question}\n",
    "自动补全后的问题描述: {question}\n",
    "\n",
    "概念和术语的介绍：'''\n",
    "\n",
    "prompt_commentq = PromptTemplate(input_variables=['raw_question', 'question'], template=template_commentq)\n",
    "commentq_chain = LLMChain(llm=llm, prompt=prompt_commentq, output_key='commentq')"
   ]
  },
  {
   "cell_type": "code",
   "execution_count": 4,
   "id": "98fb3203-71ce-4667-a4c2-20017df2056b",
   "metadata": {},
   "outputs": [],
   "source": [
    "template_candidates = '''你们是三个著名的程序员，请基于问题描述和用户提供的解决方案，各自提供一个具体的且有创新性的解决方案。\n",
    "生成的解决方案要满足以下要求：\n",
    "1，解决方案可以转换为代码设计说明书，并且方便使用代码来实现；\n",
    "2，每个解决方案要包含基本的解决思路，使用的算法和数据描述，技术分析，以及实现步骤。\n",
    "3，技术分析应该包括所用的算法，以及论证这个算法能够解决当前问题的分析。\n",
    "4，解决步骤不应该存在多余的步骤，同时也不能缺失必须的处理过程。\n",
    "5，用户提供的解决方案可以用于参考，也可以直接引用，只要最终的方案能够解决问题就可以。\n",
    "\n",
    "待解决的问题: {question}\n",
    "用户提供的解决方案：{raw_solution}\n",
    "\n",
    "请一步步思考，确保解决方案能够解决上述问题，三个解决方案分别是：'''\n",
    "\n",
    "prompt_candidates = PromptTemplate(input_variables=['question', 'raw_solution'], template=template_candidates)\n",
    "candidates_chain = LLMChain(llm=llm, prompt=prompt_candidates, output_key='candidates')"
   ]
  },
  {
   "cell_type": "code",
   "execution_count": 5,
   "id": "4ae3e006-40ad-4019-b7bc-de00348c601a",
   "metadata": {},
   "outputs": [],
   "source": [
    "template_rewritea = '''你是一个在知名大公司工作的软件系统架构师，你的任务是根据问题描述和多个解决方案，重新实现一个详细的、现实可行的实现方案。\n",
    "这个解决方案需要满足以下条件：\n",
    "1，它是可实现的，能够根据它来写出对应的代码；同时，它有创新性，可以用于专利申请；\n",
    "2，它不需要考虑所有的可能性，只要能够解决最核心的问题即可。\n",
    "3，请描述它的基本思路是什么？用到了哪些成熟算法和数据？\n",
    "4，请具体分析这个解决思路是如何解决这个问题的。\n",
    "5，它与一般的解决方法有什么不同？不管是算法上的不同，应用场景的不同，还是使用的数据不同都可以。\n",
    "6，创新点对应的优势和价值是什么？如果创新点的价值不高，可以通过什么样的方法来提高？\n",
    "7，它的具体解决步骤是什么？请以发明人的解决方案为核心思路，扩展实现步骤，并且保证每个步骤都是必须的。\n",
    "8，如果自动生成的方案中对某一问题的解决方法更好，请将这个更好的方法加入到解决方案中。\n",
    "\n",
    "问题描述: {question}\n",
    "自动生成的解决方案: {candidates}\n",
    "发明人提供的解决方案：{raw_solution}\n",
    "\n",
    "请重新生成一个具备创新性的解决方案：'''\n",
    "\n",
    "prompt_rewritea = PromptTemplate(input_variables=['question', 'candidates', 'raw_solution'], template=template_rewritea)\n",
    "rewritea_chain = LLMChain(llm=llm, prompt=prompt_rewritea, output_key='solution')"
   ]
  },
  {
   "cell_type": "code",
   "execution_count": 6,
   "id": "8fda88a3-27d0-49f8-9347-448db6c40394",
   "metadata": {},
   "outputs": [],
   "source": [
    "template_commenta = '''你是一个著名的程序员，请根据问题描述和选定的解决方案，提供一个详细的代码实现说明书。\n",
    "请根据以下提示，生成一份代码实现说明：\n",
    "1，可以根据这个解决方案来实现相应的功能吗？如果不能，请给出理由，并补充解决方法；\n",
    "2，实现这个解决方案都需要哪些数据？评估获取这些数据的工作量；\n",
    "3，在解决方案的执行步骤中，有哪些步骤并不是必要的，或者它们创造的价值小于提供相应数据的代价；\n",
    "4，针对解决方案的必须步骤，提供具体的实现说明；若是某个步骤过于复杂，请将它拆分为多个子步骤后，再提供实现说明；\n",
    "5，在涉及算法时，请给出具体的算法名；在涉及到数据时，请提供一个示例；\n",
    "\n",
    "问题描述: {question}\n",
    "解决方案: {solution}\n",
    "\n",
    "针对解决方案的说明：'''\n",
    "\n",
    "prompt_commenta = PromptTemplate(input_variables=['question', 'solution'], template=template_commenta)\n",
    "commenta_chain = LLMChain(llm=llm, prompt=prompt_commenta, output_key='commenta')"
   ]
  },
  {
   "cell_type": "code",
   "execution_count": 7,
   "id": "6e546061-fe73-4cb8-846a-593b644db820",
   "metadata": {},
   "outputs": [],
   "source": [
    "template_background = '''你是一个专业的流程挖掘领域的专利代理，帮助专利发明人设计发明点设计，并起草专利草稿。请根据以下待解决问题及解决方案的描述，起草专利的背景介绍部分。\n",
    "专利的背景介绍要包含所解决问题所在的技术领域介绍，问题的简单介绍，以及这个问题所产生的不良影响。\n",
    "待解决问题的描述: {question}\n",
    "解决方案的描述: {solution}\n",
    "请生成这个专利发明点的背景介绍（总长度不超过2000字）：'''\n",
    "\n",
    "prompt_background = PromptTemplate(input_variables=['question', 'solution'], template=template_background)\n",
    "background_chain = LLMChain(llm=llm, prompt=prompt_background, output_key='background')"
   ]
  },
  {
   "cell_type": "code",
   "execution_count": 8,
   "id": "0500bf7d-074e-48ae-8f23-c3673c742a9f",
   "metadata": {},
   "outputs": [],
   "source": [
    "template_claims = '''你是一个专业的流程挖掘和任务挖掘方面的专利代理，负责专利发明点设计和专利文档起草。请根据以下要解决的问题及解决方案，起草专利的权利要求部分。\n",
    "在设计专利的权利要求时要一步步来，先判断解决方案的创新性和价值所在，然后再根据创新点来设计对应的权利要求。针对要解决的问题，先将解决方案重新描述为多个步骤，再判断每一个步骤\n",
    "是否有必要存在，若是没有必要，则可以删除；对于必要存在的步骤，再考虑它是否具备创新性。若是不具备，则更新对应的步骤。只要其中一个步骤具备创新性即可。\n",
    "可使用以下问题来引导生成过程：\n",
    "\n",
    "要解决的问题: {question}\n",
    "提供的解决方案: {solution}\n",
    "请生成这个专利发明点的权利要求（总长度不超过4000字）：'''\n",
    "\n",
    "prompt_claims = PromptTemplate(input_variables=['question', 'solution'], template=template_claims)\n",
    "claims_chain = LLMChain(llm=llm, prompt=prompt_claims, output_key='claims')"
   ]
  },
  {
   "cell_type": "code",
   "execution_count": 9,
   "id": "2ad57207-2cd9-4142-a2b5-6be4c55f37ad",
   "metadata": {},
   "outputs": [],
   "source": [
    "template_explanation = '''你是一个专业的流程挖掘和任务挖掘方面的专利代理，负责专利发明点设计和专利文档起草。请根据解决的问题、解决方案及权利要求，\n",
    "扩充权利要求部分的内容。扩充的方法是，先设计一个具体的应用场景，将权利要求转换为具体的实现步骤，并结合应用场景进行描述每一步的输入输出，以及中间的处理过程。\n",
    "若是不同权利要求对应的操作步骤是相同的，则只需要在第一次给出描述，后面的则省略。\n",
    "可使用这些问题来引导生成过程：它的主要算法或者技术是什么？需要什么样的软硬件运行环境？是否有多种实现方式？每种实现方式最简单的形式是什么样的？\n",
    "\n",
    "要解决的问题: {question}\n",
    "提供的解决方案: {solution}\n",
    "独立权利要求: {claims}\n",
    "\n",
    "请将权利要求扩展为具体的实现步骤，并给出相应的示例说明（总长度不超过2000字）：'''\n",
    "\n",
    "prompt_explanation = PromptTemplate(input_variables=['question', 'solution', 'claims'], template=template_explanation)\n",
    "explanation_chain = LLMChain(llm=llm, prompt=prompt_explanation, output_key='explanation')"
   ]
  },
  {
   "cell_type": "code",
   "execution_count": 10,
   "id": "54a9d925-38a6-4bf1-b788-e0f97a7c51b6",
   "metadata": {},
   "outputs": [],
   "source": [
    "from langchain.chains import SequentialChain\n",
    "\n",
    "def generate(pno, question, solution, version=1):\n",
    "    result = overall_chain({'raw_question': question, 'raw_solution': solution})\n",
    "\n",
    "    with open(f'patents/patent-rpm-{pno}v{version}.txt', 'w') as f:\n",
    "        f.write('>>> original question: \\n' + result['raw_question'])  \n",
    "        f.write('\\n\\n>>> original solution: \\n' + result['raw_solution'])\n",
    "        f.write('\\n\\n>>> revised question: \\n' + result['question'])\n",
    "        f.write('\\n\\n>>> commented question: \\n' + result['commentq'])\n",
    "        f.write('\\n\\n>>> solution candidates: \\n' + result['candidates'])\n",
    "        f.write('\\n\\n>>> final solution: \\n' + result['solution'])\n",
    "        f.write('\\n\\n>>> commented solution: \\n' + result['commenta'])\n",
    "        f.write('\\n\\n>>> background: \\n' + result['background'])\n",
    "        f.write('\\n\\n>>> claims: \\n' + result['claims'])\n",
    "        f.write('\\n\\n>>> explanation: \\n' + result['explanation'])\n",
    "\n",
    "overall_chain = SequentialChain(\n",
    "    chains=[rewriteq_chain, commentq_chain, candidates_chain, rewritea_chain, commenta_chain, background_chain, claims_chain, explanation_chain],\n",
    "    input_variables=[\"raw_question\", \"raw_solution\"],\n",
    "    # Here we return multiple variables\n",
    "    output_variables=[\"question\", \"commentq\", \"candidates\", \"solution\", \"commenta\", \"background\", \"claims\", \"explanation\"],\n",
    "    verbose=True)"
   ]
  },
  {
   "cell_type": "code",
   "execution_count": 11,
   "id": "a26a1e56-ab37-411a-926a-087afb12910d",
   "metadata": {},
   "outputs": [
    {
     "name": "stdout",
     "output_type": "stream",
     "text": [
      "P73 使用ChatGPT可以生成能够正常运行的、不太复杂的代码，可以用于生成RPA代码（模拟人工操作来实现UI任务的自动化执行）。一般的方法是设置一个比较详细的生成提示词，让它直接生成最终代码，但是这样的生成过程难以控制，比如使用了不存在的库函数，或者缺少必要的数据等等，也难以保证生成的流程可以正确执行。为了保证实现方法足够简单，在提供解决方案时，除了chatgpt，请不要使用任何别的机器学习或者深度学习方法。\n",
      "\n",
      "\n",
      "\u001b[1m> Entering new SequentialChain chain...\u001b[0m\n",
      "\n",
      "\u001b[1m> Finished chain.\u001b[0m\n",
      "P74 使用ChatGPT可以生成能够正常运行的不太复杂的代码，但是没有简单的方法控制生成的代码。在实际业务场景中，一段代码只能够使用数量有限的几个数据，以及调用一定范围内的函数，而任意生成的代码则不考虑这种限制，所以生成的代码即使可以正确运行，也无法直接使用，还需要程序员重新理解代码、修改代码，并没有节省太多人力。为了保证实现方法足够简单，在提供解决方案时，除了chatgpt，请不要使用任何别的机器学习或者深度学习方法。\n",
      "\n",
      "\n",
      "\u001b[1m> Entering new SequentialChain chain...\u001b[0m\n",
      "\n",
      "\u001b[1m> Finished chain.\u001b[0m\n",
      "P75 使用ChatGPT来生成代码时，生成所需要的上下文有可能非常多，无法容纳在模型的窗口大小范围之内。常用的方法是先对上下文做摘要，然后使用摘要作为上下文来指导代码的生成。由于代码包含的细节非常多，这种摘要方式很容易丢失大量的细节。为了保证实现方法足够简单，在提供解决方案时，除了chatgpt，请不要使用任何别的机器学习或者深度学习方法。\n",
      "\n",
      "\n",
      "\u001b[1m> Entering new SequentialChain chain...\u001b[0m\n",
      "\n",
      "\u001b[1m> Finished chain.\u001b[0m\n"
     ]
    }
   ],
   "source": [
    "import pandas as pd\n",
    "\n",
    "\n",
    "version = 7\n",
    "df = pd.read_excel('patents/rpm-patents-0628d.xlsx')\n",
    "for i, row in df.iterrows():\n",
    "    pno, question, solution = row['no.'], row['question'], row['solution']\n",
    "    if pd.isna(question) or pd.isna(solution): continue\n",
    "    print(pno, question)\n",
    "    generate(pno, question, solution, version)"
   ]
  },
  {
   "cell_type": "code",
   "execution_count": null,
   "id": "09f79f6b-37fb-44fd-ba6c-6be313d36365",
   "metadata": {},
   "outputs": [],
   "source": []
  }
 ],
 "metadata": {
  "kernelspec": {
   "display_name": "Python 3 (ipykernel)",
   "language": "python",
   "name": "python3"
  },
  "language_info": {
   "codemirror_mode": {
    "name": "ipython",
    "version": 3
   },
   "file_extension": ".py",
   "mimetype": "text/x-python",
   "name": "python",
   "nbconvert_exporter": "python",
   "pygments_lexer": "ipython3",
   "version": "3.9.13"
  }
 },
 "nbformat": 4,
 "nbformat_minor": 5
}
