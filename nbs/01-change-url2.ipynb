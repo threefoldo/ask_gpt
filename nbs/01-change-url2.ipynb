{
 "cells": [
  {
   "cell_type": "raw",
   "metadata": {},
   "source": [
    "---\n",
    "{}\n",
    "\n",
    "---\n",
    "\n"
   ]
  },
  {
   "cell_type": "code",
   "execution_count": 1,
   "id": "e8b0eb82",
   "metadata": {},
   "outputs": [
    {
     "data": {
      "text/plain": [
       "'https://chatgpt.snaplearn.ai/'"
      ]
     },
     "execution_count": 1,
     "metadata": {},
     "output_type": "execute_result"
    }
   ],
   "source": [
    "import os\n",
    "from dotenv import load_dotenv\n",
    "\n",
    "load_dotenv() \n",
    "os.environ.get(\"OPENAI_API_HOST\")"
   ]
  },
  {
   "cell_type": "code",
   "execution_count": 7,
   "id": "fe648643",
   "metadata": {},
   "outputs": [
    {
     "name": "stdout",
     "output_type": "stream",
     "text": [
      "{\n",
      "  \"choices\": [\n",
      "    {\n",
      "      \"finish_reason\": \"length\",\n",
      "      \"index\": 0,\n",
      "      \"message\": {\n",
      "        \"content\": \"Michael Jordan is a retired American professional basketball player. He is widely considered one of the greatest basketball players of all time and is known for his incredible skills, athleticism, and competitive spirit. Jordan played for the Chicago Bulls and Washington Wizards during his career and\",\n",
      "        \"role\": \"assistant\"\n",
      "      }\n",
      "    }\n",
      "  ],\n",
      "  \"created\": 1684294372,\n",
      "  \"id\": \"chatcmpl-7H2CCkVqnM4H3D2UIapO4NF52tLDM\",\n",
      "  \"model\": \"gpt-3.5-turbo-0301\",\n",
      "  \"object\": \"chat.completion\",\n",
      "  \"usage\": {\n",
      "    \"completion_tokens\": 50,\n",
      "    \"prompt_tokens\": 13,\n",
      "    \"total_tokens\": 63\n",
      "  }\n",
      "}\n"
     ]
    }
   ],
   "source": [
    "import openai\n",
    "\n",
    "openai.api_base = os.environ.get(\"OPENAI_API_HOST\") + '/v1/chat'\n",
    "#openai.api_base = \"https://api.openai.com/v1\"\n",
    "\n",
    "openai.api_key = os.environ.get(\"OPENAI_API_KEY\")\n",
    "\n",
    "# Set up the prompt and other parameters for the API request\n",
    "prompt = \"Who is Michael Jordan?\"\n",
    "\n",
    "model = \"gpt-3.5-turbo\"\n",
    "#model = \"mpt-7b-chat\"\n",
    "#model = \"gpt4all-j-v1.3-groovy\"\n",
    "\n",
    "# Make the API request\n",
    "response = openai.Completion.create(\n",
    "    model=model,\n",
    "    messages = [{\"role\": \"user\", \"content\": prompt}],\n",
    "    max_tokens=50,\n",
    "    temperature=0.28,\n",
    "    top_p=0.95,\n",
    "    n=1,\n",
    "#     echo=True,\n",
    "#     stream=False\n",
    ")\n",
    "\n",
    "# Print the generated completion\n",
    "print(response)"
   ]
  }
 ],
 "metadata": {
  "kernelspec": {
   "display_name": "Python 3 (ipykernel)",
   "language": "python",
   "name": "python3"
  },
  "language_info": {
   "codemirror_mode": {
    "name": "ipython",
    "version": 3
   },
   "file_extension": ".py",
   "mimetype": "text/x-python",
   "name": "python",
   "nbconvert_exporter": "python",
   "pygments_lexer": "ipython3",
   "version": "3.9.13"
  }
 },
 "nbformat": 4,
 "nbformat_minor": 5
}
