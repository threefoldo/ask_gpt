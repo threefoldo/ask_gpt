{
 "cells": [
  {
   "cell_type": "raw",
   "metadata": {},
   "source": [
    "---\n",
    "{}\n",
    "\n",
    "---\n",
    "\n"
   ]
  },
  {
   "cell_type": "code",
   "execution_count": 1,
   "id": "a50cb09c-8ac6-458e-9fff-1cba9a0ca45c",
   "metadata": {},
   "outputs": [
    {
     "data": {
      "text/plain": [
       "True"
      ]
     },
     "execution_count": 1,
     "metadata": {},
     "output_type": "execute_result"
    }
   ],
   "source": [
    "import os\n",
    "from dotenv import load_dotenv\n",
    "from datetime import datetime\n",
    "\n",
    "import openai\n",
    "from IPython.display import HTML, display\n",
    "from ipywidgets import widgets\n",
    "from langchain.chains import ConversationalRetrievalChain\n",
    "from langchain.chat_models import ChatOpenAI\n",
    "from langchain.document_loaders import DirectoryLoader\n",
    "from langchain.embeddings.openai import OpenAIEmbeddings\n",
    "from langchain.vectorstores import Chroma\n",
    "\n",
    "load_dotenv()"
   ]
  },
  {
   "cell_type": "code",
   "execution_count": 2,
   "id": "c97be6ae-40ab-4bfa-9bcf-e62da6972a6d",
   "metadata": {},
   "outputs": [],
   "source": [
    "loader = DirectoryLoader(\"/home/jinzy/work/automation/ask_gpt/testdocs\", glob=\"**/*.pdf\", show_progress=True, use_multithreading=True)"
   ]
  },
  {
   "cell_type": "code",
   "execution_count": 3,
   "id": "efec7d9c-c167-4961-bc21-d82fa1272421",
   "metadata": {},
   "outputs": [
    {
     "name": "stderr",
     "output_type": "stream",
     "text": [
      "100%|████████████████████████████████████████████████████████████████████████████████████████████████████████████████████████████████████████████████████████████████████| 3/3 [00:04<00:00,  1.60s/it]\n"
     ]
    }
   ],
   "source": [
    "from langchain.text_splitter import RecursiveCharacterTextSplitter\n",
    "\n",
    "\n",
    "text_splitter = RecursiveCharacterTextSplitter(\n",
    "    # Set a really small chunk size, just to show.\n",
    "    chunk_size = 1000,\n",
    "    chunk_overlap  = 100,\n",
    "    length_function = len,\n",
    ")\n",
    "txt_docs = loader.load_and_split(text_splitter=text_splitter)\n",
    "\n",
    "embeddings = OpenAIEmbeddings()\n",
    "txt_docsearch = Chroma.from_documents(txt_docs, embeddings)\n",
    "\n",
    "llm = ChatOpenAI(model_name=\"gpt-3.5-turbo\", temperature=0.5, max_tokens=2048)"
   ]
  },
  {
   "cell_type": "code",
   "execution_count": 4,
   "id": "08153394-ffd2-4b0b-ab22-c19cfcd50f7c",
   "metadata": {},
   "outputs": [],
   "source": [
    "from langchain.chains.summarize import load_summarize_chain\n",
    "\n",
    "# 创建总结链\n",
    "#vchain = load_summarize_chain(llm, chain_type=\"refine\", verbose=True)"
   ]
  },
  {
   "cell_type": "code",
   "execution_count": 6,
   "id": "d2322d6e-9d18-4b67-9a24-555ae2437215",
   "metadata": {},
   "outputs": [],
   "source": [
    "from langchain.chains import LLMChain\n",
    "from langchain.chains.question_answering import load_qa_chain\n",
    "from langchain.prompts import PromptTemplate\n",
    "from langchain.prompts.chat import (\n",
    "  ChatPromptTemplate,\n",
    "  SystemMessagePromptTemplate,\n",
    "  HumanMessagePromptTemplate\n",
    ")\n",
    "from langchain.memory import ConversationBufferMemory\n",
    "\n",
    "\n",
    "system_template = \"\"\"\n",
    "Use the following context to answer the user's question.\n",
    "If you don't know the answer, say you don't, don't try to make it up. 请用中文回答.\n",
    "-----------\n",
    "{context}\n",
    "-----------\n",
    "{chat_history}\n",
    "\"\"\"\n",
    "\n",
    "# 构建初始 messages 列表，这里可以理解为是 openai 传入的 messages 参数\n",
    "messages = [\n",
    "  SystemMessagePromptTemplate.from_template(system_template),\n",
    "  HumanMessagePromptTemplate.from_template('{question}')\n",
    "]\n",
    "\n",
    "# 初始化 prompt 对象\n",
    "prompt = ChatPromptTemplate.from_messages(messages)\n",
    "\n",
    "# 初始化问答链\n",
    "question_generator = LLMChain(llm=llm, prompt=prompt)\n",
    "doc_chain = load_qa_chain(llm, chain_type=\"refine\")\n",
    "\n",
    "memory = ConversationBufferMemory(memory_key=\"chat_history\", return_messages=True)\n",
    "# chain = ConversationalRetrievalChain(\n",
    "#     retriever=txt_docsearch.as_retriever(),\n",
    "#     question_generator=question_generator,\n",
    "#     combine_docs_chain=doc_chain,\n",
    "#     memory=memory\n",
    "# )\n",
    "chain = ConversationalRetrievalChain.from_llm(llm=llm, retriever=txt_docsearch.as_retriever(), \n",
    "                                              chain_type='refine', memory=memory)"
   ]
  },
  {
   "cell_type": "code",
   "execution_count": 7,
   "id": "9a53bf8b-8559-4f77-8301-09b8190c7f6c",
   "metadata": {},
   "outputs": [
    {
     "name": "stdout",
     "output_type": "stream",
     "text": [
      "{'question': '请用中文解释一下RPM产品中的任务挖掘功能', 'chat_history': [HumanMessage(content='请用中文解释一下RPM产品中的任务挖掘功能', additional_kwargs={}, example=False), AIMessage(content='iS-RPM的任务挖掘功能通过分析桌面用户交互数据和从IT系统后台数据中挖掘的流程详细信息，打通业务断点，提高流程数据的完整可见性。企业领导者能够轻松实现海量流程数据的可视化分析，发现重复、低效的任务在哪些地方减慢了流程的运行，并在正确的位置分配资源以解决这些问题，为端到端流程优化做出数据驱动的决策。iS-RPM的任务挖掘功能可以帮助决策者确定在流程的什么阶段实施RPA机器人，更有效地拓展RPA项目，提升流程自动化收益。', additional_kwargs={}, example=False)], 'answer': 'iS-RPM的任务挖掘功能通过分析桌面用户交互数据和从IT系统后台数据中挖掘的流程详细信息，打通业务断点，提高流程数据的完整可见性。企业领导者能够轻松实现海量流程数据的可视化分析，发现重复、低效的任务在哪些地方减慢了流程的运行，并在正确的位置分配资源以解决这些问题，为端到端流程优化做出数据驱动的决策。iS-RPM的任务挖掘功能可以帮助决策者确定在流程的什么阶段实施RPA机器人，更有效地拓展RPA项目，提升流程自动化收益。'}\n"
     ]
    }
   ],
   "source": [
    "query = \"请用中文解释一下RPM产品中的任务挖掘功能\"\n",
    "result = chain({\"question\": query})\n",
    "print(result)"
   ]
  },
  {
   "cell_type": "code",
   "execution_count": 9,
   "id": "e6df3305-135f-467e-a673-96190ca5eca3",
   "metadata": {},
   "outputs": [
    {
     "name": "stdout",
     "output_type": "stream",
     "text": [
      "{'question': '请给一个RPM产品的实际案例介绍', 'chat_history': [HumanMessage(content='请用中文解释一下RPM产品中的任务挖掘功能', additional_kwargs={}, example=False), AIMessage(content='iS-RPM的任务挖掘功能通过分析桌面用户交互数据和从IT系统后台数据中挖掘的流程详细信息，打通业务断点，提高流程数据的完整可见性。企业领导者能够轻松实现海量流程数据的可视化分析，发现重复、低效的任务在哪些地方减慢了流程的运行，并在正确的位置分配资源以解决这些问题，为端到端流程优化做出数据驱动的决策。iS-RPM的任务挖掘功能可以帮助决策者确定在流程的什么阶段实施RPA机器人，更有效地拓展RPA项目，提升流程自动化收益。', additional_kwargs={}, example=False), HumanMessage(content='请给一个RPM产品的实际案例介绍', additional_kwargs={}, example=False), AIMessage(content='iS-RPM\\'s task mining feature is a part of the product\\'s overall process mining capabilities, which helps businesses discover automation opportunities and optimize their end-to-end processes. The feature uses a \"Discovery Robot\" to capture screen shots and log data of user actions and applies machine learning to identify tasks with high automation potential. This helps decision-makers determine at which stage of the process to implement RPA robots, effectively expanding RPA projects and improving process automation benefits.\\n\\nIn addition, iS-RPM\\'s process mining capabilities, including the task mining feature, provide businesses with a comprehensive view of their processes, enabling them to identify automation opportunities, optimize processes, and improve their overall efficiency. The product captures events\\' system logs or event logs that contain other related information about each step, such as a supplier\\'s detailed information for invoices or the priority of payment requests, to increase the context\\'s relevance and readability.\\n\\nThe process mining technology can recognize and analyze different ways of executing business data, allowing analysts to overlay each step of each case taken throughout the entire cycle into the data model. The product efficiently and flexibly handles changing business logic, restoring a 100% objective process view that shows the trajectory of each business execution by employees.\\n\\nWith iS-RPM\\'s multidimensional analysis, businesses can understand the duration of each link, locate process bottlenecks, and find the starting point for process optimization. The product\\'s intelligent analysis feature also supports drill-down analysis, filtering by different conditions such as step filtering and attribute filtering, to help businesses quickly identify and quantify the root causes of process inefficiencies that impact business-critical KPIs.\\n\\nOverall, iS-RPM\\'s process mining capabilities, including the task mining feature and intelligent analysis, provide businesses with a complete understanding of their processes, enabling them to identify inefficiencies, optimize processes, and improve their overall efficiency.', additional_kwargs={}, example=False)], 'answer': 'iS-RPM\\'s task mining feature is a part of the product\\'s overall process mining capabilities, which helps businesses discover automation opportunities and optimize their end-to-end processes. The feature uses a \"Discovery Robot\" to capture screen shots and log data of user actions and applies machine learning to identify tasks with high automation potential. This helps decision-makers determine at which stage of the process to implement RPA robots, effectively expanding RPA projects and improving process automation benefits.\\n\\nIn addition, iS-RPM\\'s process mining capabilities, including the task mining feature, provide businesses with a comprehensive view of their processes, enabling them to identify automation opportunities, optimize processes, and improve their overall efficiency. The product captures events\\' system logs or event logs that contain other related information about each step, such as a supplier\\'s detailed information for invoices or the priority of payment requests, to increase the context\\'s relevance and readability.\\n\\nThe process mining technology can recognize and analyze different ways of executing business data, allowing analysts to overlay each step of each case taken throughout the entire cycle into the data model. The product efficiently and flexibly handles changing business logic, restoring a 100% objective process view that shows the trajectory of each business execution by employees.\\n\\nWith iS-RPM\\'s multidimensional analysis, businesses can understand the duration of each link, locate process bottlenecks, and find the starting point for process optimization. The product\\'s intelligent analysis feature also supports drill-down analysis, filtering by different conditions such as step filtering and attribute filtering, to help businesses quickly identify and quantify the root causes of process inefficiencies that impact business-critical KPIs.\\n\\nOverall, iS-RPM\\'s process mining capabilities, including the task mining feature and intelligent analysis, provide businesses with a complete understanding of their processes, enabling them to identify inefficiencies, optimize processes, and improve their overall efficiency.'}\n"
     ]
    }
   ],
   "source": [
    "query = \"请给一个RPM产品的实际案例介绍\"\n",
    "#result = chain({\"question\": query, \"chat_history\": chat_history})\n",
    "result = chain({\"question\": query})\n",
    "print(result)\n",
    "#print(result['answer'])"
   ]
  },
  {
   "cell_type": "code",
   "execution_count": 10,
   "id": "29515dd2-8af6-4f5f-a8ad-dec539e8559f",
   "metadata": {},
   "outputs": [
    {
     "name": "stdout",
     "output_type": "stream",
     "text": [
      "iS-RPM's task mining feature is a part of the product's overall process mining capabilities, which helps businesses discover automation opportunities and optimize their end-to-end processes. The feature uses a \"Discovery Robot\" to capture screen shots and log data of user actions and applies machine learning to identify tasks with high automation potential. This helps decision-makers determine at which stage of the process to implement RPA robots, effectively expanding RPA projects and improving process automation benefits.\n",
      "\n",
      "In addition, iS-RPM's process mining capabilities, including the task mining feature, provide businesses with a comprehensive view of their processes, enabling them to identify automation opportunities, optimize processes, and improve their overall efficiency. The product captures events' system logs or event logs that contain other related information about each step, such as a supplier's detailed information for invoices or the priority of payment requests, to increase the context's relevance and readability.\n",
      "\n",
      "The process mining technology can recognize and analyze different ways of executing business data, allowing analysts to overlay each step of each case taken throughout the entire cycle into the data model. The product efficiently and flexibly handles changing business logic, restoring a 100% objective process view that shows the trajectory of each business execution by employees.\n",
      "\n",
      "With iS-RPM's multidimensional analysis, businesses can understand the duration of each link, locate process bottlenecks, and find the starting point for process optimization. The product's intelligent analysis feature also supports drill-down analysis, filtering by different conditions such as step filtering and attribute filtering, to help businesses quickly identify and quantify the root causes of process inefficiencies that impact business-critical KPIs.\n",
      "\n",
      "Overall, iS-RPM's process mining capabilities, including the task mining feature and intelligent analysis, provide businesses with a complete understanding of their processes, enabling them to identify inefficiencies, optimize processes, and improve their overall efficiency.\n"
     ]
    }
   ],
   "source": [
    "print(result['answer'])"
   ]
  },
  {
   "cell_type": "code",
   "execution_count": 12,
   "id": "e59c0449-a976-4ab7-9b0a-a6e41757a833",
   "metadata": {},
   "outputs": [
    {
     "name": "stdout",
     "output_type": "stream",
     "text": [
      "An example of iS-RPM in action is a Chinese manufacturing company that used the software to integrate and optimize their business processes. The company had dispersed business processes across multiple departments and systems, leading to difficulties in process management and low efficiency. iS-RPM helped the company identify best practices for business processes and implement corresponding improvement measures. The task mining feature also helped decision-makers determine when to implement RPA robots in the process, effectively extending RPA projects to improve process automation benefits. Overall, iS-RPM helped the Chinese manufacturing company optimize their business processes, increase efficiency, reduce costs, and improve transparency. With its ability to provide real-time data collection, visual process maps, and task mining capabilities, iS-RPM allowed for data-driven decision-making, making it easier for business leaders to identify and prioritize automation opportunities for end-to-end process optimization.\n"
     ]
    }
   ],
   "source": [
    "query = \"请介绍一个RPM产品的实际案例\"\n",
    "#result = chain({\"question\": query, \"chat_history\": chat_history})\n",
    "result = chain({\"question\": '请用中文回答: ' + query})\n",
    "\n",
    "print(result['answer'])"
   ]
  },
  {
   "cell_type": "code",
   "execution_count": 13,
   "id": "9506b9f1-2a9e-4688-ba9a-d5a82493f8d9",
   "metadata": {},
   "outputs": [
    {
     "data": {
      "text/plain": [
       "{'question': '请用中文回答: 请介绍一个RPM产品的实际案例',\n",
       " 'chat_history': [HumanMessage(content='请用中文解释一下RPM产品中的任务挖掘功能', additional_kwargs={}, example=False),\n",
       "  AIMessage(content='iS-RPM的任务挖掘功能通过分析桌面用户交互数据和从IT系统后台数据中挖掘的流程详细信息，打通业务断点，提高流程数据的完整可见性。企业领导者能够轻松实现海量流程数据的可视化分析，发现重复、低效的任务在哪些地方减慢了流程的运行，并在正确的位置分配资源以解决这些问题，为端到端流程优化做出数据驱动的决策。iS-RPM的任务挖掘功能可以帮助决策者确定在流程的什么阶段实施RPA机器人，更有效地拓展RPA项目，提升流程自动化收益。', additional_kwargs={}, example=False),\n",
       "  HumanMessage(content='请给一个RPM产品的实际案例介绍', additional_kwargs={}, example=False),\n",
       "  AIMessage(content='iS-RPM\\'s task mining feature is a part of the product\\'s overall process mining capabilities, which helps businesses discover automation opportunities and optimize their end-to-end processes. The feature uses a \"Discovery Robot\" to capture screen shots and log data of user actions and applies machine learning to identify tasks with high automation potential. This helps decision-makers determine at which stage of the process to implement RPA robots, effectively expanding RPA projects and improving process automation benefits.\\n\\nIn addition, iS-RPM\\'s process mining capabilities, including the task mining feature, provide businesses with a comprehensive view of their processes, enabling them to identify automation opportunities, optimize processes, and improve their overall efficiency. The product captures events\\' system logs or event logs that contain other related information about each step, such as a supplier\\'s detailed information for invoices or the priority of payment requests, to increase the context\\'s relevance and readability.\\n\\nThe process mining technology can recognize and analyze different ways of executing business data, allowing analysts to overlay each step of each case taken throughout the entire cycle into the data model. The product efficiently and flexibly handles changing business logic, restoring a 100% objective process view that shows the trajectory of each business execution by employees.\\n\\nWith iS-RPM\\'s multidimensional analysis, businesses can understand the duration of each link, locate process bottlenecks, and find the starting point for process optimization. The product\\'s intelligent analysis feature also supports drill-down analysis, filtering by different conditions such as step filtering and attribute filtering, to help businesses quickly identify and quantify the root causes of process inefficiencies that impact business-critical KPIs.\\n\\nOverall, iS-RPM\\'s process mining capabilities, including the task mining feature and intelligent analysis, provide businesses with a complete understanding of their processes, enabling them to identify inefficiencies, optimize processes, and improve their overall efficiency.', additional_kwargs={}, example=False),\n",
       "  HumanMessage(content='请用中文回答: 请介绍一个RPM产品的实际案例', additional_kwargs={}, example=False),\n",
       "  AIMessage(content='An example of iS-RPM in action is a Chinese manufacturing company that used the software to integrate and optimize their business processes. The company had dispersed business processes across multiple departments and systems, leading to difficulties in process management and low efficiency. iS-RPM helped the company identify best practices for business processes and implement corresponding improvement measures. The task mining feature also helped decision-makers determine when to implement RPA robots in the process, effectively extending RPA projects to improve process automation benefits. Overall, iS-RPM helped the Chinese manufacturing company optimize their business processes, increase efficiency, reduce costs, and improve transparency. With its ability to provide real-time data collection, visual process maps, and task mining capabilities, iS-RPM allowed for data-driven decision-making, making it easier for business leaders to identify and prioritize automation opportunities for end-to-end process optimization.', additional_kwargs={}, example=False)],\n",
       " 'answer': 'An example of iS-RPM in action is a Chinese manufacturing company that used the software to integrate and optimize their business processes. The company had dispersed business processes across multiple departments and systems, leading to difficulties in process management and low efficiency. iS-RPM helped the company identify best practices for business processes and implement corresponding improvement measures. The task mining feature also helped decision-makers determine when to implement RPA robots in the process, effectively extending RPA projects to improve process automation benefits. Overall, iS-RPM helped the Chinese manufacturing company optimize their business processes, increase efficiency, reduce costs, and improve transparency. With its ability to provide real-time data collection, visual process maps, and task mining capabilities, iS-RPM allowed for data-driven decision-making, making it easier for business leaders to identify and prioritize automation opportunities for end-to-end process optimization.'}"
      ]
     },
     "execution_count": 13,
     "metadata": {},
     "output_type": "execute_result"
    }
   ],
   "source": [
    "result"
   ]
  },
  {
   "cell_type": "code",
   "execution_count": 14,
   "id": "9c7be78c-252d-4c02-86d0-55ac3b30f270",
   "metadata": {},
   "outputs": [
    {
     "name": "stdout",
     "output_type": "stream",
     "text": [
      "Yes, I can provide a practical case of using iS-RPM, which is an RPM product from Yisaqi. The task mining feature of iS-RPM can help decision-makers identify which stage of the process to implement RPA robots, enabling more effective expansion of RPA projects and improving process automation benefits. The \"Discovery Robot\" installed on the user's desktop allows enterprises to capture any operation by employees on their desktops and analyze the captured event information, providing bottom-level technical support for discovering and mining automated business processes. iS-RPM breaks through the \"manual\" demand management bottleneck in traditional automation business management activities by automatically identifying high-frequency tasks and giving evaluators a global perspective to prioritize the development of automated processes, continuously outputting automation opportunities from the bottom up. The product also provides ROI analysis, time analysis, and other analysis panels to help analysts conduct in-depth research on tasks and understand the process events. Additionally, iS-RPM supports seamless integration with RPA and can export RPA requirement documents and engineering files, making it easier and faster for RPA developers to generate process steps and nodes. Overall, iS-RPM can help enterprises accelerate the implementation of RPA industry-scale changes, reduce RPA project operation and maintenance costs, and help enterprises start the automation flywheel.\n"
     ]
    }
   ],
   "source": [
    "query = \"请介绍一个RPM产品的实际案例\"\n",
    "#result = chain({\"question\": query, \"chat_history\": chat_history})\n",
    "result = chain({\"question\": query + ' 请用中文回答。'})\n",
    "\n",
    "print(result['answer'])"
   ]
  },
  {
   "cell_type": "code",
   "execution_count": null,
   "id": "ce281092-800b-4fc1-94b9-1c742d195d5c",
   "metadata": {},
   "outputs": [],
   "source": []
  }
 ],
 "metadata": {
  "kernelspec": {
   "display_name": "Python 3 (ipykernel)",
   "language": "python",
   "name": "python3"
  },
  "language_info": {
   "codemirror_mode": {
    "name": "ipython",
    "version": 3
   },
   "file_extension": ".py",
   "mimetype": "text/x-python",
   "name": "python",
   "nbconvert_exporter": "python",
   "pygments_lexer": "ipython3",
   "version": "3.9.13"
  }
 },
 "nbformat": 4,
 "nbformat_minor": 5
}
