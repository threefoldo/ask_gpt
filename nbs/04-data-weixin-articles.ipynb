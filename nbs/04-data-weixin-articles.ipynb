{
 "cells": [
  {
   "cell_type": "raw",
   "metadata": {},
   "source": [
    "---\n",
    "{}\n",
    "\n",
    "---\n",
    "\n"
   ]
  },
  {
   "cell_type": "code",
   "execution_count": 1,
   "id": "9c9b0f23-a552-44c2-9bc4-15eb79c1d97a",
   "metadata": {},
   "outputs": [],
   "source": [
    "collection_url = 'https://mp.weixin.qq.com/mp/appmsgalbum?action=getalbum&__biz=MzAwNDEwNzUzNw==&scene=1&album_id=2359811200353763331&count=3#wechat_redirect'"
   ]
  },
  {
   "cell_type": "code",
   "execution_count": 2,
   "id": "6e5861a0-242c-434d-bcae-2be1dca6b6a9",
   "metadata": {},
   "outputs": [],
   "source": [
    "from unstructured.partition.html import partition_html\n",
    "\n",
    "# url = \"https://www.cnn.com/2023/01/30/sport/empire-state-building-green-philadelphia-eagles-spt-intl/index.html\"\n",
    "elements = partition_html(url=collection_url)\n",
    "# print(\"\\n\\n\".join([str(el) for el in elements]))"
   ]
  },
  {
   "cell_type": "code",
   "execution_count": 6,
   "id": "f55d5785-7c19-4ac8-8706-e631008266c9",
   "metadata": {},
   "outputs": [],
   "source": [
    "from selenium import webdriver\n",
    "from selenium.webdriver.chrome.options import Options\n",
    "from selenium.webdriver.chrome.service import Service\n",
    "\n",
    "\n",
    "options = Options()\n",
    "options.add_argument('--headless')\n",
    "\n",
    "driver = webdriver.Chrome(service=Service(\"/usr/bin/chromedriver\"), options=options)\n",
    "\n",
    "driver.set_window_size(1920, 1080)  # width, height\n",
    "driver.maximize_window()"
   ]
  },
  {
   "cell_type": "code",
   "execution_count": 43,
   "id": "abf210b4-68e3-400b-b401-753b3b7e7ef7",
   "metadata": {},
   "outputs": [],
   "source": [
    "import time\n",
    "import random\n",
    "\n",
    "def scroll_by_func(driver):\n",
    "    # get the initial scroll height of the page\n",
    "    last_height = driver.execute_script(\"return document.body.scrollHeight\")\n",
    "\n",
    "    while True:\n",
    "        # scroll to the bottom of the page\n",
    "        driver.execute_script(\"window.scrollTo(0, document.body.scrollHeight);\")\n",
    "\n",
    "        # wait for new content to load\n",
    "        time.sleep(random.random() * 5)\n",
    "\n",
    "        # get the new scroll height\n",
    "        new_height = driver.execute_script(\"return document.body.scrollHeight\")\n",
    "        #print(new_height)\n",
    "\n",
    "        # check if the scroll height has changed\n",
    "        if new_height == last_height:\n",
    "            # if the scroll height hasn't changed, all content is loaded\n",
    "            break\n",
    "\n",
    "        # update the scroll height\n",
    "        last_height = new_height\n",
    "        \n",
    "def scroll_by_mouse(driver):\n",
    "    for i in range(5):\n",
    "        driver.execute_script(\"\"\"\n",
    "            window.scrollBy({\n",
    "                top: 100,  // the number of pixels to scroll by\n",
    "                behavior: 'smooth'  // smooth scrolling\n",
    "            });\n",
    "        \"\"\")\n",
    "        time.sleep(random.random() * 3)"
   ]
  },
  {
   "cell_type": "code",
   "execution_count": 50,
   "id": "4b97e7d1-7870-41c1-8ed3-31e0c59c1438",
   "metadata": {},
   "outputs": [
    {
     "data": {
      "text/plain": [
       "True"
      ]
     },
     "execution_count": 50,
     "metadata": {},
     "output_type": "execute_result"
    }
   ],
   "source": [
    "# navigate to a webpage\n",
    "# driver.get(collection_url) # 微信公众平台网址\n",
    "scroll_by_mouse(driver)\n",
    "\n",
    "# help(driver)\n",
    "driver.save_screenshot('articles-list.png')"
   ]
  },
  {
   "cell_type": "code",
   "execution_count": 77,
   "id": "1a9c36be-3b51-45a0-a133-c399a873fe2a",
   "metadata": {},
   "outputs": [
    {
     "name": "stdout",
     "output_type": "stream",
     "text": [
      "33 66\n",
      "33\n"
     ]
    },
    {
     "data": {
      "text/plain": [
       "[('透视全业务 精进全流程——邀您见证，艺赛旗iS—RPM产品发布会',\n",
       "  'http://mp.weixin.qq.com/s?__biz=MzAwNDEwNzUzNw==&mid=2650336149&idx=1&sn=dd7bfe88574c21f982734003a7657a22&chksm=833cb7ebb44b3efd209c231f78ab8395417e5810fbd2cd67ac6963d7f8df743419056a682df3#rd'),\n",
       " ('洞察前沿趋势，助力智慧运营，德勤中国合伙人何铮将出席艺赛旗流程挖掘产品iS-RPM发布会',\n",
       "  'http://mp.weixin.qq.com/s?__biz=MzAwNDEwNzUzNw==&mid=2650336184&idx=1&sn=0208b2646ee496859bc2727bb25facbb&chksm=833cb7c6b44b3ed0459f40eaca728af7c371feb3f5ad091fbc3e28e8ce60c2588433b8b41f7e#rd'),\n",
       " ('卓越成长，共筑未来，上海国家会计学院副教授杨寅将出席艺赛旗流程挖掘产品iS-RPM发布会',\n",
       "  'http://mp.weixin.qq.com/s?__biz=MzAwNDEwNzUzNw==&mid=2650336203&idx=1&sn=2cdbce89b6823891021b732e097b4e3a&chksm=833cb7b5b44b3ea3d0f5bf2c0fce574da98116e6ee3df341652f533115584b41769f7a9926f2#rd'),\n",
       " ('产学研融合 | 南京大学人工智能学院副院长黎铭教授将出席艺赛旗流程挖掘产品iS-RPM发布会',\n",
       "  'http://mp.weixin.qq.com/s?__biz=MzAwNDEwNzUzNw==&mid=2650336221&idx=1&sn=82cd86a4ab9b6b9972ec9be9d620320c&chksm=833cb7a3b44b3eb5b2df2a722a8c3bc5626038c8fdea75839fc39bd7375eda00635ce9443794#rd'),\n",
       " ('聚力前行，携手共赢 | 金蝶软件（中国）有限公司苍穹平台解决方案总监吴耿壕将出席艺赛旗流程挖掘产品iS-RPM发布会',\n",
       "  'http://mp.weixin.qq.com/s?__biz=MzAwNDEwNzUzNw==&mid=2650336234&idx=1&sn=a826948c2a41b2c0005f50854d443081&chksm=833cb794b44b3e82e244d3c94dcb8589d8f359178f3c897ecd15c7c9577b304ef2805c9aad82#rd'),\n",
       " ('行业标准 | RPA产业推进方阵秘书长，南京新一代人工智能研究院总经理董晓飞将出席艺赛旗流程挖掘产品iS-RPM发布会',\n",
       "  'http://mp.weixin.qq.com/s?__biz=MzAwNDEwNzUzNw==&mid=2650336245&idx=1&sn=662545fccb807db951a2c500404c148b&chksm=833cb78bb44b3e9dffb713fed9049db884b7efdc2430006eb9c43a3a83a9abfb24cda333559d#rd'),\n",
       " ('标杆客户 | 太保寿险科技安全与运营团队副总何俊将出席艺赛旗iS-RPM产品发布会',\n",
       "  'http://mp.weixin.qq.com/s?__biz=MzAwNDEwNzUzNw==&mid=2650336256&idx=1&sn=3ac2b3f66a0b4f34cb2720bdbff78b79&chksm=833cb07eb44b39686691f57bb61b45ced3ca4832bd7f5b3f57369b447172f97d44893295e11c#rd'),\n",
       " ('专业解读 | 艺赛旗CTO吴鑫将出席iS-RPM产品发布会',\n",
       "  'http://mp.weixin.qq.com/s?__biz=MzAwNDEwNzUzNw==&mid=2650336278&idx=1&sn=22fa87bf0198595935fbe42be74ead2b&chksm=833cb068b44b397ead873ebd82e61fba521eb3bf4e54ece05f3584ce4c989a80aee4d3af637a#rd'),\n",
       " ('十年磨一剑 艺赛旗iS-RPM机器人流程挖掘产品正式发布',\n",
       "  'http://mp.weixin.qq.com/s?__biz=MzAwNDEwNzUzNw==&mid=2650336292&idx=1&sn=29a05dbe09f2661b94c9d59250fcd346&chksm=833cb05ab44b394c532714c20a63ca9356449ec5e0185834aa31ae6562eeb7e25313d6ba6f48#rd'),\n",
       " ('专业解读 | 艺赛旗CTO吴鑫iS-RPM流程挖掘产品发布会演讲分享',\n",
       "  'http://mp.weixin.qq.com/s?__biz=MzAwNDEwNzUzNw==&mid=2650336340&idx=1&sn=1c5a5a63a8f3bfffd54221483139ff10&chksm=833cb02ab44b393cdc6e8dd91d4e5322246fd29d80ed522d9f29a2491287fe9b5f73bf6fb2a7#rd')]"
      ]
     },
     "execution_count": 77,
     "metadata": {},
     "output_type": "execute_result"
    }
   ],
   "source": [
    "import time\n",
    "import random\n",
    "from selenium.webdriver.common.by import By\n",
    "\n",
    "#elements = driver.find_elements(By.CLASS_NAME, 'album__list-item')\n",
    "elements = driver.find_elements(By.CSS_SELECTOR, 'ul.album__list li')\n",
    "#elements_span = driver.find_elements(By.CSS_SELECTOR, 'ul.album__list li span')\n",
    "elements_span = driver.find_elements(By.CSS_SELECTOR, 'span.album__item-title-wrp')\n",
    "print(len(elements), len(elements_span))\n",
    "\n",
    "titles = [sp.text for sp in elements_span if sp.text != '']\n",
    "articles = [(sp, e.get_attribute('data-link')) for e,sp in zip(elements, titles)]\n",
    "print(len(articles))\n",
    "\n",
    "articles[:10]"
   ]
  },
  {
   "cell_type": "code",
   "execution_count": 80,
   "id": "bce12f8c-d11b-4243-9ce8-7ec9a4c11fbb",
   "metadata": {},
   "outputs": [
    {
     "data": {
      "text/html": [
       "<div>\n",
       "<style scoped>\n",
       "    .dataframe tbody tr th:only-of-type {\n",
       "        vertical-align: middle;\n",
       "    }\n",
       "\n",
       "    .dataframe tbody tr th {\n",
       "        vertical-align: top;\n",
       "    }\n",
       "\n",
       "    .dataframe thead th {\n",
       "        text-align: right;\n",
       "    }\n",
       "</style>\n",
       "<table border=\"1\" class=\"dataframe\">\n",
       "  <thead>\n",
       "    <tr style=\"text-align: right;\">\n",
       "      <th></th>\n",
       "      <th>title</th>\n",
       "      <th>url</th>\n",
       "    </tr>\n",
       "  </thead>\n",
       "  <tbody>\n",
       "    <tr>\n",
       "      <th>28</th>\n",
       "      <td>一文看懂企业为什么需要同时使用流程挖掘与任务挖掘？</td>\n",
       "      <td>http://mp.weixin.qq.com/s?__biz=MzAwNDEwNzUzNw...</td>\n",
       "    </tr>\n",
       "    <tr>\n",
       "      <th>29</th>\n",
       "      <td>艺赛旗流程挖掘产品iS-RPM获中国信通院最高评级</td>\n",
       "      <td>http://mp.weixin.qq.com/s?__biz=MzAwNDEwNzUzNw...</td>\n",
       "    </tr>\n",
       "    <tr>\n",
       "      <th>30</th>\n",
       "      <td>某大型能源集团超自动化平台建设探索之路</td>\n",
       "      <td>http://mp.weixin.qq.com/s?__biz=MzAwNDEwNzUzNw...</td>\n",
       "    </tr>\n",
       "    <tr>\n",
       "      <th>31</th>\n",
       "      <td>艺赛旗CTO吴鑫接受中国信通院专访</td>\n",
       "      <td>http://mp.weixin.qq.com/s?__biz=MzAwNDEwNzUzNw...</td>\n",
       "    </tr>\n",
       "    <tr>\n",
       "      <th>32</th>\n",
       "      <td>从发现问题到解决问题，RPM助力企业提升流程运营效率</td>\n",
       "      <td>http://mp.weixin.qq.com/s?__biz=MzAwNDEwNzUzNw...</td>\n",
       "    </tr>\n",
       "  </tbody>\n",
       "</table>\n",
       "</div>"
      ],
      "text/plain": [
       "                         title  \\\n",
       "28   一文看懂企业为什么需要同时使用流程挖掘与任务挖掘？   \n",
       "29   艺赛旗流程挖掘产品iS-RPM获中国信通院最高评级   \n",
       "30         某大型能源集团超自动化平台建设探索之路   \n",
       "31           艺赛旗CTO吴鑫接受中国信通院专访   \n",
       "32  从发现问题到解决问题，RPM助力企业提升流程运营效率   \n",
       "\n",
       "                                                  url  \n",
       "28  http://mp.weixin.qq.com/s?__biz=MzAwNDEwNzUzNw...  \n",
       "29  http://mp.weixin.qq.com/s?__biz=MzAwNDEwNzUzNw...  \n",
       "30  http://mp.weixin.qq.com/s?__biz=MzAwNDEwNzUzNw...  \n",
       "31  http://mp.weixin.qq.com/s?__biz=MzAwNDEwNzUzNw...  \n",
       "32  http://mp.weixin.qq.com/s?__biz=MzAwNDEwNzUzNw...  "
      ]
     },
     "execution_count": 80,
     "metadata": {},
     "output_type": "execute_result"
    }
   ],
   "source": [
    "import pandas as pd\n",
    "\n",
    "df = pd.DataFrame(articles, columns=['title', 'url'])\n",
    "df.tail()"
   ]
  },
  {
   "cell_type": "code",
   "execution_count": 81,
   "id": "ab49e5b0-4e7e-47b0-be14-fa34d6237019",
   "metadata": {},
   "outputs": [
    {
     "data": {
      "text/plain": [
       "True"
      ]
     },
     "execution_count": 81,
     "metadata": {},
     "output_type": "execute_result"
    }
   ],
   "source": [
    "article = articles[9]\n",
    "print(article)\n",
    "driver.get(article[1])\n",
    "scroll_by_func(driver)\n",
    "\n",
    "driver.save_screenshot('article9.png')"
   ]
  },
  {
   "cell_type": "code",
   "execution_count": 84,
   "id": "52a89121-3edf-4db3-a5b7-a1dacf5af671",
   "metadata": {},
   "outputs": [
    {
     "name": "stdout",
     "output_type": "stream",
     "text": [
      "('专业解读 | 艺赛旗CTO吴鑫iS-RPM流程挖掘产品发布会演讲分享', 'http://mp.weixin.qq.com/s?__biz=MzAwNDEwNzUzNw==&mid=2650336340&idx=1&sn=1c5a5a63a8f3bfffd54221483139ff10&chksm=833cb02ab44b393cdc6e8dd91d4e5322246fd29d80ed522d9f29a2491287fe9b5f73bf6fb2a7#rd')\n"
     ]
    }
   ],
   "source": [
    "print(article)"
   ]
  },
  {
   "cell_type": "code",
   "execution_count": 85,
   "id": "8b0ca236-50a0-4e45-b3eb-b345a8cbcae3",
   "metadata": {},
   "outputs": [],
   "source": [
    "# js_content\n",
    "\n",
    "content = driver.find_element(By.ID, 'js_content').text\n",
    "# print(len(content), content)"
   ]
  },
  {
   "cell_type": "code",
   "execution_count": 93,
   "id": "6c149501-e45d-4af9-a0dc-746488b94201",
   "metadata": {},
   "outputs": [],
   "source": [
    "def get_article(driver, article):\n",
    "    driver.get(article[1])\n",
    "    scroll_by_func(driver)\n",
    "    #driver.save_screenshot(f'{article[0]}.png')\n",
    "    time.sleep(random.random() * 3)\n",
    "    content = driver.find_element(By.ID, 'js_content').text\n",
    "    return content"
   ]
  },
  {
   "cell_type": "code",
   "execution_count": 94,
   "id": "b1fc405a-5301-4285-9e81-fbcb1e979664",
   "metadata": {},
   "outputs": [],
   "source": [
    "for i in range(len(articles)):\n",
    "    content = get_article(driver, articles[i])\n",
    "    with open(f'rpmarticles/{i}-{articles[i][0]}.txt', 'w') as f:\n",
    "        f.write(content)"
   ]
  },
  {
   "cell_type": "code",
   "execution_count": null,
   "id": "62bb4210-a9f0-400a-a724-2a124822f39a",
   "metadata": {},
   "outputs": [],
   "source": []
  }
 ],
 "metadata": {
  "kernelspec": {
   "display_name": "Python 3 (ipykernel)",
   "language": "python",
   "name": "python3"
  },
  "language_info": {
   "codemirror_mode": {
    "name": "ipython",
    "version": 3
   },
   "file_extension": ".py",
   "mimetype": "text/x-python",
   "name": "python",
   "nbconvert_exporter": "python",
   "pygments_lexer": "ipython3",
   "version": "3.9.13"
  }
 },
 "nbformat": 4,
 "nbformat_minor": 5
}
