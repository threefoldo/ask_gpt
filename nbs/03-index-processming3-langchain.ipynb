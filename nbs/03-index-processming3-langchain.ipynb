{
 "cells": [
  {
   "cell_type": "raw",
   "metadata": {},
   "source": [
    "---\n",
    "{}\n",
    "\n",
    "---\n",
    "\n"
   ]
  },
  {
   "cell_type": "code",
   "execution_count": 1,
   "id": "a50cb09c-8ac6-458e-9fff-1cba9a0ca45c",
   "metadata": {},
   "outputs": [
    {
     "data": {
      "text/plain": [
       "True"
      ]
     },
     "execution_count": 1,
     "metadata": {},
     "output_type": "execute_result"
    }
   ],
   "source": [
    "import os\n",
    "from dotenv import load_dotenv\n",
    "from datetime import datetime\n",
    "\n",
    "import openai\n",
    "from IPython.display import HTML, display\n",
    "from ipywidgets import widgets\n",
    "from langchain.chains import ConversationalRetrievalChain\n",
    "from langchain.chat_models import ChatOpenAI\n",
    "from langchain.document_loaders import DirectoryLoader\n",
    "from langchain.embeddings.openai import OpenAIEmbeddings\n",
    "from langchain.vectorstores import Chroma\n",
    "\n",
    "load_dotenv()"
   ]
  },
  {
   "cell_type": "code",
   "execution_count": 2,
   "id": "df12493a-8d61-4678-847f-dd3ad4bf89e9",
   "metadata": {},
   "outputs": [
    {
     "data": {
      "text/html": [
       "<link rel=\"stylesheet\" \n",
       "      href=\"https://cdn.jsdelivr.net/npm/bootstrap@4.5.3/dist/css/bootstrap.min.css\" \n",
       "      integrity=\"sha384-TX8t27EcRE3e/ihU7zmQxVncDAy5uIKz4rEkgIXeMed4M0jlfIDPvg6uqKI2xXr2\" \n",
       "      crossorigin=\"anonymous\">\n",
       "<style>\n",
       "    body{margin-top:20px;}\n",
       "\n",
       "    .chat-message-left,\n",
       "    .chat-message-right {\n",
       "        display: flex;\n",
       "        flex-shrink: 0\n",
       "    }\n",
       "\n",
       "    .chat-message-left {\n",
       "        margin-right: auto\n",
       "    }\n",
       "\n",
       "    .chat-message-right {\n",
       "        flex-direction: row-reverse;\n",
       "        margin-left: auto\n",
       "    }\n",
       "</style>\n"
      ],
      "text/plain": [
       "<IPython.core.display.HTML object>"
      ]
     },
     "metadata": {},
     "output_type": "display_data"
    }
   ],
   "source": [
    "%%html\n",
    "<link rel=\"stylesheet\" \n",
    "      href=\"https://cdn.jsdelivr.net/npm/bootstrap@4.5.3/dist/css/bootstrap.min.css\" \n",
    "      integrity=\"sha384-TX8t27EcRE3e/ihU7zmQxVncDAy5uIKz4rEkgIXeMed4M0jlfIDPvg6uqKI2xXr2\" \n",
    "      crossorigin=\"anonymous\">\n",
    "<style>\n",
    "    body{margin-top:20px;}\n",
    "\n",
    "    .chat-message-left,\n",
    "    .chat-message-right {\n",
    "        display: flex;\n",
    "        flex-shrink: 0\n",
    "    }\n",
    "\n",
    "    .chat-message-left {\n",
    "        margin-right: auto\n",
    "    }\n",
    "\n",
    "    .chat-message-right {\n",
    "        flex-direction: row-reverse;\n",
    "        margin-left: auto\n",
    "    }\n",
    "</style>"
   ]
  },
  {
   "cell_type": "code",
   "execution_count": 3,
   "id": "c97be6ae-40ab-4bfa-9bcf-e62da6972a6d",
   "metadata": {},
   "outputs": [],
   "source": [
    "loader = DirectoryLoader(\"/home/jinzy/work/automation/ask_gpt/testdocs\", glob=\"**/*.pdf\", show_progress=True, use_multithreading=True)"
   ]
  },
  {
   "cell_type": "code",
   "execution_count": 4,
   "id": "efec7d9c-c167-4961-bc21-d82fa1272421",
   "metadata": {},
   "outputs": [
    {
     "name": "stderr",
     "output_type": "stream",
     "text": [
      "100%|████████████████████████████████████████████████████████████████████████████████████████████████████████████████████████████████████████████████████████████████████| 3/3 [00:04<00:00,  1.55s/it]\n"
     ]
    }
   ],
   "source": [
    "from langchain.text_splitter import RecursiveCharacterTextSplitter\n",
    "\n",
    "text_splitter = RecursiveCharacterTextSplitter(\n",
    "    # Set a really small chunk size, just to show.\n",
    "    chunk_size = 500,\n",
    "    chunk_overlap  = 100,\n",
    "    length_function = len,\n",
    ")\n",
    "txt_docs = loader.load_and_split(text_splitter=text_splitter)\n",
    "\n",
    "embeddings = OpenAIEmbeddings()\n",
    "txt_docsearch = Chroma.from_documents(txt_docs, embeddings)\n",
    "\n",
    "llm = ChatOpenAI(model_name=\"gpt-3.5-turbo\", temperature=0.5)"
   ]
  },
  {
   "cell_type": "code",
   "execution_count": 5,
   "id": "08153394-ffd2-4b0b-ab22-c19cfcd50f7c",
   "metadata": {},
   "outputs": [
    {
     "data": {
      "text/plain": [
       "286"
      ]
     },
     "execution_count": 5,
     "metadata": {},
     "output_type": "execute_result"
    }
   ],
   "source": [
    "len(txt_docs)"
   ]
  },
  {
   "cell_type": "code",
   "execution_count": 6,
   "id": "6e4be1cb-9e0e-437b-bf6f-96db85184fce",
   "metadata": {},
   "outputs": [
    {
     "data": {
      "text/plain": [
       "475"
      ]
     },
     "execution_count": 6,
     "metadata": {},
     "output_type": "execute_result"
    }
   ],
   "source": [
    "len(txt_docs[0].page_content)"
   ]
  },
  {
   "cell_type": "code",
   "execution_count": 7,
   "id": "210245aa-c769-4587-ba24-700488a63f6b",
   "metadata": {},
   "outputs": [],
   "source": [
    "def text_eventhandler(*args):\n",
    "    # Needed bc when we \"reset\" the text input\n",
    "    # it fires instantly another event since\n",
    "    # we \"changed\" it's value to \"\"\n",
    "    if args[0][\"new\"] == \"\":\n",
    "        return\n",
    "\n",
    "    # Show loading animation\n",
    "    loading_bar.layout.display = \"block\"\n",
    "\n",
    "    # Get question\n",
    "    question = args[0][\"new\"]\n",
    "\n",
    "    # Reset text field\n",
    "    args[0][\"owner\"].value = \"\"\n",
    "\n",
    "    # Formatting question for output\n",
    "    q = (\n",
    "        f'<div class=\"chat-message-right pb-4\"><div>'\n",
    "        + f'<img src=\"bear.png\" class=\"rounded-circle mr-1\" width=\"40\" height=\"40\">'\n",
    "        + f'<div class=\"text-muted small text-nowrap mt-2\">{datetime.now().strftime(\"%H:%M:%S\")}</div></div>'\n",
    "        + '<div class=\"flex-shrink-1 bg-light rounded py-2 px-3 ml-3\">'\n",
    "        + f'<div class=\"font-weight-bold mb-1\">You</div>{question}</div>'\n",
    "    )\n",
    "\n",
    "    # Display formatted question\n",
    "    output.append_display_data(HTML(q))\n",
    "\n",
    "    try:\n",
    "        response = qa({\"question\": f\"{question}\", \"chat_history\": chat_history})\n",
    "        answer = response[\"answer\"]\n",
    "        chat_history.append((question, answer))\n",
    "    except Exception as e:\n",
    "        answer = \"<b>Error:</b> \" + str(e)\n",
    "\n",
    "    # Formatting answer for output\n",
    "    # Replacing all $ otherwise matjax would format them in a strange way\n",
    "    answer_formatted = answer.replace(\"$\", r\"\\$\")\n",
    "    a = (\n",
    "        f'<div class=\"chat-message-left pb-4\"><div>'\n",
    "        + f'<img src=\"cat.png\" class=\"rounded-circle mr-1\" width=\"40\" height=\"40\">'\n",
    "        + f'<div class=\"text-muted small text-nowrap mt-2\">{datetime.now().strftime(\"%H:%M:%S\")}</div></div>'\n",
    "        + '<div class=\"flex-shrink-1 bg-light rounded py-2 px-3 ml-3\">'\n",
    "        + f'<div class=\"font-weight-bold mb-1\">LLM</div>{answer_formatted}</div>'\n",
    "    )\n",
    "\n",
    "    # Turn off loading animation\n",
    "    loading_bar.layout.display = \"none\"\n",
    "\n",
    "    output.append_display_data(HTML(a))"
   ]
  },
  {
   "cell_type": "code",
   "execution_count": 8,
   "id": "9a53bf8b-8559-4f77-8301-09b8190c7f6c",
   "metadata": {},
   "outputs": [],
   "source": [
    "chat_history = []\n",
    "qa = ConversationalRetrievalChain.from_llm(llm, retriever=txt_docsearch.as_retriever())\n",
    "\n",
    "in_text = widgets.Text()\n",
    "in_text.continuous_update = False\n",
    "in_text.observe(text_eventhandler, \"value\")\n",
    "output = widgets.Output()\n",
    "\n",
    "file = open(\"loading.gif\", \"rb\")\n",
    "image = file.read()\n",
    "loading_bar = widgets.Image(\n",
    "    value=image, format=\"gif\", width=\"20\", height=\"20\", layout={\"display\": \"None\"}\n",
    ")"
   ]
  },
  {
   "cell_type": "code",
   "execution_count": 14,
   "id": "c11c886a-179c-4b91-9f8e-5e0cf06d983c",
   "metadata": {},
   "outputs": [
    {
     "data": {
      "application/vnd.jupyter.widget-view+json": {
       "model_id": "85252daea28949a1935194e88b8e7d37",
       "version_major": 2,
       "version_minor": 0
      },
      "text/plain": [
       "HBox(children=(Output(outputs=({'output_type': 'display_data', 'data': {'text/plain': '<IPython.core.display.H…"
      ]
     },
     "metadata": {},
     "output_type": "display_data"
    },
    {
     "data": {
      "application/vnd.jupyter.widget-view+json": {
       "model_id": "b07be8b832f94620883ac90a941c4c78",
       "version_major": 2,
       "version_minor": 0
      },
      "text/plain": [
       "Box(children=(Image(value=b'GIF89a\\xc8\\x00\\xc8\\x00\\xf7\\x00\\x00;Ch\\x83\\x90\\xb7\\xcf\\xdc\\xe8\\xda\\xec\\xf1\\xf1\\xf2\\…"
      ]
     },
     "metadata": {},
     "output_type": "display_data"
    }
   ],
   "source": [
    "display(\n",
    "    widgets.HBox(\n",
    "        [output],\n",
    "        layout=widgets.Layout(\n",
    "            width=\"100%\",\n",
    "            max_height=\"500px\",\n",
    "            display=\"inline-flex\",\n",
    "            flex_flow=\"column-reverse\",\n",
    "        ),\n",
    "    )\n",
    ")\n",
    "\n",
    "\n",
    "display(\n",
    "    widgets.Box(\n",
    "        children=[loading_bar, in_text],\n",
    "        layout=widgets.Layout(display=\"flex\", flex_flow=\"row\"),\n",
    "    )\n",
    ")"
   ]
  },
  {
   "cell_type": "code",
   "execution_count": null,
   "id": "e6df3305-135f-467e-a673-96190ca5eca3",
   "metadata": {},
   "outputs": [],
   "source": []
  }
 ],
 "metadata": {
  "kernelspec": {
   "display_name": "Python 3 (ipykernel)",
   "language": "python",
   "name": "python3"
  },
  "language_info": {
   "codemirror_mode": {
    "name": "ipython",
    "version": 3
   },
   "file_extension": ".py",
   "mimetype": "text/x-python",
   "name": "python",
   "nbconvert_exporter": "python",
   "pygments_lexer": "ipython3",
   "version": "3.9.13"
  }
 },
 "nbformat": 4,
 "nbformat_minor": 5
}
