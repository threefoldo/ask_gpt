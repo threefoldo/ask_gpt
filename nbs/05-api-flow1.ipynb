{
 "cells": [
  {
   "cell_type": "markdown",
   "id": "9327a203-ea77-462a-b4a3-6d8851e55090",
   "metadata": {},
   "source": [
    "给定一个RPA流程需求描述，先让LLM重新描述一个需求和执行步骤，然后生成伪代码，再根据API文档和伪代码，生成实际的代码。"
   ]
  },
  {
   "cell_type": "code",
   "execution_count": 1,
   "id": "efddb790-e7a9-4f0a-b1b5-38d0bb187ca1",
   "metadata": {},
   "outputs": [
    {
     "data": {
      "text/plain": [
       "True"
      ]
     },
     "execution_count": 1,
     "metadata": {},
     "output_type": "execute_result"
    }
   ],
   "source": [
    "import os\n",
    "from dotenv import load_dotenv\n",
    "from datetime import datetime\n",
    "\n",
    "import openai\n",
    "from IPython.display import HTML, display\n",
    "from ipywidgets import widgets\n",
    "from langchain.chains import ConversationalRetrievalChain\n",
    "from langchain.chat_models import ChatOpenAI\n",
    "from langchain.document_loaders import DirectoryLoader\n",
    "from langchain.vectorstores import Chroma\n",
    "\n",
    "load_dotenv()"
   ]
  },
  {
   "cell_type": "code",
   "execution_count": 2,
   "id": "c38abb79-6416-4da4-8f61-1c428cdb0386",
   "metadata": {},
   "outputs": [
    {
     "name": "stderr",
     "output_type": "stream",
     "text": [
      "WARNING! engine is not default parameter.\n",
      "                    engine was transferred to model_kwargs.\n",
      "                    Please confirm that engine is what you intended.\n"
     ]
    },
    {
     "name": "stdout",
     "output_type": "stream",
     "text": [
      "azure https://test0406.openai.azure.com/ 2023-03-15-preview\n"
     ]
    }
   ],
   "source": [
    "from langchain.chains import LLMChain\n",
    "from langchain.chains.question_answering import load_qa_chain\n",
    "from langchain.prompts import PromptTemplate\n",
    "from langchain.prompts.chat import ChatPromptTemplate\n",
    "from langchain.memory import ConversationBufferMemory, ConversationSummaryBufferMemory\n",
    "\n",
    "openai.api_type = os.getenv(\"OPENAI_API_TYPE\")\n",
    "openai.api_key = os.getenv(\"OPENAI_API_KEY\")\n",
    "openai.api_base = os.getenv(\"OPENAI_API_BASE\")\n",
    "openai.api_version = os.getenv(\"OPENAI_API_VERSION\")\n",
    "print(openai.api_type, openai.api_base, openai.api_version)\n",
    "\n",
    "llm = ChatOpenAI(engine='test0406', model_name=\"gpt-3.5-turbo\", temperature=0.3, max_tokens=4096)"
   ]
  },
  {
   "cell_type": "code",
   "execution_count": 3,
   "id": "0e355aa8-96b3-43f6-81be-40649c514270",
   "metadata": {},
   "outputs": [],
   "source": [
    "task_description = '''通过RPA机器人，进入网银系统获取前一个工作日的资金流水数据，\n",
    "按数据类型写入到模板表对应的银行列中，并下载前一工作日电子回单，生成文件清单并打印，\n",
    "再发送资金日报及电子回单清单给对应的业务人员。\n",
    "'''\n",
    "\n",
    "task_steps = '''操作步骤及说明\n",
    "1.\t业务人员配置好银行账号数据表，和邮箱账号数据；\n",
    "2.\t读取账号配置表，根据账号信息自动登录网银系统；\n",
    "3.\t获取前一天历史余额数据，写入资金日报表模板对应银行账户余额栏；\n",
    "4.\t下载前一天电子回单、网银流水，按照固定规则命名（命名规则：公司_收/付_账号_日期，例：X公司_收_账号_20211222），并在日志记录表中写入记录；\n",
    "5.\t将日报excel及回、流水文件夹进行压缩；\n",
    "6.\t邮件发送运行异常提醒，将运行的数据压缩文件发送到指定邮箱；\n",
    "7.\t业务人员接收邮件文件，进行确认操作。\n",
    "'''"
   ]
  },
  {
   "cell_type": "code",
   "execution_count": 4,
   "id": "59d31d73-911c-4582-93d5-5c6346ee1d6f",
   "metadata": {},
   "outputs": [],
   "source": [
    "template_task = '''你是个非常优秀的RPA程序员，你的任务是根据RPA流程的需求描述和步骤描述，生成一个伪代码表示的RPA流程。\n",
    "请一步步思考，确保正确理解实现该流程的所有必要条件，然后更新步骤描述，确保新的步骤描述包含了所有的上下文信息，以方便后面的代码。\n",
    "\n",
    "流程描述: {description}\n",
    "\n",
    "任务步骤：{steps}\n",
    "\n",
    "重新描述实现该RPA流程的具体步骤，包括每个步骤的输入输出和实现功能：'''\n",
    "\n",
    "prompt_task = PromptTemplate(input_variables=['description', 'steps'], template=template_task)\n",
    "task_chain = LLMChain(llm=llm, prompt=prompt_task, output_key='revised')"
   ]
  },
  {
   "cell_type": "code",
   "execution_count": 5,
   "id": "4ae3e006-40ad-4019-b7bc-de00348c601a",
   "metadata": {},
   "outputs": [],
   "source": [
    "template_draft = '''你是个非常优秀的RPA程序员，请根据RPA流程描述和实现步骤描述，先生成一个用伪代码表示的RPA流程草稿。\n",
    "\n",
    "流程描述: {description}\n",
    "\n",
    "详细步骤：{revised}\n",
    "\n",
    "生成的伪代码RPA流程是：'''\n",
    "\n",
    "prompt_draft = PromptTemplate(input_variables=['description', 'revised'], template=template_draft)\n",
    "draft_chain = LLMChain(llm=llm, prompt=prompt_draft, output_key='draft')"
   ]
  },
  {
   "cell_type": "code",
   "execution_count": 6,
   "id": "6e546061-fe73-4cb8-846a-593b644db820",
   "metadata": {},
   "outputs": [],
   "source": [
    "template_code = '''你是个非常优秀的RPA程序员，请根据RPA流程描述和流程草稿，实现一个伪代码表示的RPA流程。\n",
    "\n",
    "流程描述: {description}\n",
    "流程草稿: {draft}\n",
    "\n",
    "生成的RPA流程伪代码：'''\n",
    "\n",
    "prompt_code = PromptTemplate(input_variables=['description', 'draft'], template=template_code)\n",
    "\n",
    "code_chain = LLMChain(llm=llm, prompt=prompt_code, output_key='code')"
   ]
  },
  {
   "cell_type": "code",
   "execution_count": 7,
   "id": "54a9d925-38a6-4bf1-b788-e0f97a7c51b6",
   "metadata": {},
   "outputs": [],
   "source": [
    "from langchain.chains import SequentialChain\n",
    "\n",
    "overall_chain = SequentialChain(\n",
    "    chains=[task_chain, draft_chain, code_chain],\n",
    "    input_variables=['description', 'steps'],\n",
    "    # Here we return multiple variables\n",
    "    output_variables=[\"revised\", \"draft\", \"code\"],\n",
    "    verbose=True)"
   ]
  },
  {
   "cell_type": "code",
   "execution_count": 8,
   "id": "37944f04-7c2c-41c6-9181-5adb531f29bc",
   "metadata": {},
   "outputs": [
    {
     "name": "stdout",
     "output_type": "stream",
     "text": [
      "\n",
      "\n",
      "\u001b[1m> Entering new SequentialChain chain...\u001b[0m\n",
      "\n",
      "\u001b[1m> Finished chain.\u001b[0m\n"
     ]
    }
   ],
   "source": [
    "result = overall_chain({'description': task_description, 'steps': task_steps})"
   ]
  },
  {
   "cell_type": "code",
   "execution_count": 9,
   "id": "b59c9b51-d09b-4112-8af2-7d5a819b8601",
   "metadata": {},
   "outputs": [
    {
     "name": "stdout",
     "output_type": "stream",
     "text": [
      "1. 业务人员配置好银行账号数据表和邮箱账号数据；\n",
      "   - 输入：银行账号数据表和邮箱账号数据；\n",
      "   - 输出：无；\n",
      "   - 功能：配置银行账号数据表和邮箱账号数据。\n",
      "\n",
      "2. 读取账号配置表，根据账号信息自动登录网银系统；\n",
      "   - 输入：银行账号数据表；\n",
      "   - 输出：无；\n",
      "   - 功能：根据银行账号数据表中的账号信息，自动登录网银系统。\n",
      "\n",
      "3. 获取前一天历史余额数据，写入资金日报表模板对应银行账户余额栏；\n",
      "   - 输入：前一天历史余额数据；\n",
      "   - 输出：资金日报表模板对应银行账户余额栏；\n",
      "   - 功能：获取前一天历史余额数据，并将其写入资金日报表模板对应银行账户余额栏。\n",
      "\n",
      "4. 下载前一天电子回单、网银流水，按照固定规则命名（命名规则：公司_收/付_账号_日期，例：X公司_收_账号_20211222），并在日志记录表中写入记录；\n",
      "   - 输入：前一天电子回单和网银流水；\n",
      "   - 输出：按照固定规则命名的电子回单和网银流水，日志记录表；\n",
      "   - 功能：下载前一天电子回单和网银流水，并按照固定规则命名，同时在日志记录表中写入记录。\n",
      "\n",
      "5. 将日报excel及回、流水文件夹进行压缩；\n",
      "   - 输入：资金日报表模板对应银行账户余额栏、按照固定规则命名的电子回单和网银流水；\n",
      "   - 输出：压缩后的日报excel及回、流水文件夹；\n",
      "   - 功能：将资金日报表模板对应银行账户余额栏、按照固定规则命名的电子回单和网银流水进行压缩。\n",
      "\n",
      "6. 邮件发送运行异常提醒，将运行的数据压缩文件发送到指定邮箱；\n",
      "   - 输入：压缩后的日报excel及回、流水文件夹、邮箱账号数据；\n",
      "   - 输出：无；\n",
      "   - 功能：将压缩后的日报excel及回、流水文件夹发送到指定邮箱，并发送运行异常提醒。\n",
      "\n",
      "7. 业务人员接收邮件文件，进行确认操作。\n",
      "   - 输入：邮件文件；\n",
      "   - 输出：无；\n",
      "   - 功能：业务人员接收邮件文件，并进行确认操作。\n"
     ]
    }
   ],
   "source": [
    "print(result['revised'])"
   ]
  },
  {
   "cell_type": "code",
   "execution_count": 10,
   "id": "5a286262-da20-4065-9bbf-72cce5eb84d5",
   "metadata": {},
   "outputs": [
    {
     "name": "stdout",
     "output_type": "stream",
     "text": [
      "1. 读取银行账号数据表和邮箱账号数据；\n",
      "2. 自动登录网银系统；\n",
      "3. 获取前一天历史余额数据，并将其写入资金日报表模板对应银行账户余额栏；\n",
      "4. 下载前一天电子回单和网银流水，并按照固定规则命名，同时在日志记录表中写入记录；\n",
      "5. 将资金日报表模板对应银行账户余额栏、按照固定规则命名的电子回单和网银流水进行压缩；\n",
      "6. 将压缩后的日报excel及回、流水文件夹发送到指定邮箱，并发送运行异常提醒；\n",
      "7. 业务人员接收邮件文件，并进行确认操作。\n"
     ]
    }
   ],
   "source": [
    "print(result['draft'])"
   ]
  },
  {
   "cell_type": "code",
   "execution_count": 11,
   "id": "770814b1-ccd8-4210-b6ee-34761328e198",
   "metadata": {},
   "outputs": [
    {
     "name": "stdout",
     "output_type": "stream",
     "text": [
      "1. Read bank account data table and email account data\n",
      "2. Login to online banking system automatically\n",
      "3. Get historical balance data from the previous day and write it to the corresponding bank account balance column in the financial report template\n",
      "4. Download electronic receipts and online banking transactions from the previous day, name them according to a fixed rule, and write a record in the log\n",
      "5. Compress the bank account balance column in the financial report template, the named electronic receipts and online banking transactions according to a fixed rule\n",
      "6. Send the compressed financial report excel and the folder containing the named electronic receipts and online banking transactions to the designated email address, and send a notification if there is an exception during the process\n",
      "7. The business personnel receive the email files and perform confirmation operations.\n"
     ]
    }
   ],
   "source": [
    "print(result['code'])"
   ]
  },
  {
   "cell_type": "code",
   "execution_count": 12,
   "id": "1d28050a-0d86-4dea-846d-8746be5c25db",
   "metadata": {},
   "outputs": [],
   "source": [
    "# with open('patents/requirements-test4.txt', 'w') as f:\n",
    "#     f.write('requirements: ' + result['requirements'])\n",
    "#     f.write('\\n\\nfeature: ' + result['feature'])\n",
    "#     f.write('\\n\\nsolution: ' + result['solution'])\n",
    "#     f.write('\\n\\nselection: ' + result['selection'])"
   ]
  },
  {
   "cell_type": "code",
   "execution_count": 13,
   "id": "6c78b3ad-1c25-4482-8960-e2a8f7a5dcb2",
   "metadata": {},
   "outputs": [
    {
     "data": {
      "text/plain": [
       "['1. Read bank account data table and email account data',\n",
       " '2. Login to online banking system automatically',\n",
       " '3. Get historical balance data from the previous day and write it to the corresponding bank account balance column in the financial report template']"
      ]
     },
     "execution_count": 13,
     "metadata": {},
     "output_type": "execute_result"
    }
   ],
   "source": [
    "steps = result['code'].split('\\n')\n",
    "steps[:3]"
   ]
  },
  {
   "cell_type": "code",
   "execution_count": 14,
   "id": "ad46501c-8e9a-4299-841b-7d1bc987c335",
   "metadata": {},
   "outputs": [],
   "source": [
    "from langchain.vectorstores import Chroma\n",
    "from langchain.embeddings.openai import OpenAIEmbeddings\n",
    "from langchain.text_splitter import CharacterTextSplitter\n",
    "from langchain.chains import RetrievalQA\n",
    "from langchain.llms import OpenAI\n",
    "\n",
    "\n",
    "embeddings = OpenAIEmbeddings(model='text-embedding-ada-002',\n",
    "                              deployment='emb0614',\n",
    "                              openai_api_base=os.getenv(\"OPENAI_API_BASE\"),\n",
    "                              openai_api_type=os.getenv(\"OPENAI_API_TYPE\"),\n",
    "                              chunk_size=1)\n",
    "\n",
    "docsearch = Chroma(persist_directory='apidocs', embedding_function=embeddings)"
   ]
  },
  {
   "cell_type": "code",
   "execution_count": 17,
   "id": "94a89b5c-db53-47e6-ad7d-dddcb447b698",
   "metadata": {},
   "outputs": [],
   "source": [
    "template_generate = \"\"\"你是一个专业的RPA开发人员，请根据RPA库函数描述，选择合适的函数来生成一个任务步骤的代码。\n",
    "如果实现这个任务步骤所需要的函数不存在于上下文中，则可以使用通用第三方函数库。如果存在，则必须使用已有的RPA库函数。\n",
    "\n",
    "相关函数: {context}\n",
    "\n",
    "当前步骤：{question}\n",
    "\n",
    "生成的代码:\"\"\"\n",
    "\n",
    "prompt_generate = PromptTemplate(\n",
    "    template=template_generate, input_variables=[\"context\", \"question\"]\n",
    ")\n",
    "chain_type_kwargs = {\"prompt\": prompt_generate}\n",
    "qa = RetrievalQA.from_chain_type(llm=llm, chain_type=\"stuff\", retriever=docsearch.as_retriever(), chain_type_kwargs=chain_type_kwargs)"
   ]
  },
  {
   "cell_type": "code",
   "execution_count": 18,
   "id": "d770564a-dc75-474e-8780-1c940db0b617",
   "metadata": {},
   "outputs": [
    {
     "data": {
      "text/plain": [
       "\"// Read bank account data table\\nconst bankData = readDataTable('bankData', { headers: true });\\n\\n// Read email account data\\nconst emailData = readDataTable('emailData', { headers: true });\\n\\n// Retrieve emails from Exchange email account\\nconst emails = receiveExchangeEmail(emailData.serverAddress, emailData.adDomain, emailData.username, emailData.password, emailData.emailAddress, emailData.folder, emailData.senderFilter, emailData.subjectFilter, emailData.contentFilter, true, true, emailData.attachmentSavePath, true, 10);\""
      ]
     },
     "execution_count": 18,
     "metadata": {},
     "output_type": "execute_result"
    }
   ],
   "source": [
    "result = qa.run(steps[0])"
   ]
  },
  {
   "cell_type": "code",
   "execution_count": 20,
   "id": "a09eb06b-8434-464c-857a-70cc7b7b225f",
   "metadata": {},
   "outputs": [
    {
     "name": "stdout",
     "output_type": "stream",
     "text": [
      "// Read bank account data table\n",
      "const bankData = readDataTable('bankData', { headers: true });\n",
      "\n",
      "// Read email account data\n",
      "const emailData = readDataTable('emailData', { headers: true });\n",
      "\n",
      "// Retrieve emails from Exchange email account\n",
      "const emails = receiveExchangeEmail(emailData.serverAddress, emailData.adDomain, emailData.username, emailData.password, emailData.emailAddress, emailData.folder, emailData.senderFilter, emailData.subjectFilter, emailData.contentFilter, true, true, emailData.attachmentSavePath, true, 10);\n"
     ]
    }
   ],
   "source": [
    "print(result)"
   ]
  },
  {
   "cell_type": "code",
   "execution_count": 21,
   "id": "8b142bae-342d-4c3b-ab9a-7dd6493d8300",
   "metadata": {},
   "outputs": [
    {
     "name": "stdout",
     "output_type": "stream",
     "text": [
      "// Read bank account data table\n",
      "const bankAccounts = readDataTable('bankAccountsTable');\n",
      "\n",
      "// Read email account data\n",
      "const emailAccount = readDataTable('emailAccountTable')[0];\n",
      "\n",
      "// Retrieve emails from inbox folder\n",
      "const emails = receiveExchangeEmail(emailAccount.serverAddress, emailAccount.adDomain, emailAccount.username, emailAccount.password, emailAccount.emailAddress, 'inbox', null, 'Bank statement', null, true, true, null, true, null);\n",
      "\n",
      "// Loop through retrieved emails\n",
      "for (const email of emails) {\n",
      "  // Check if email contains bank account number\n",
      "  for (const account of bankAccounts) {\n",
      "    if (email.body.includes(account.accountNumber)) {\n",
      "      // Do something with the email\n",
      "      break;\n",
      "    }\n",
      "  }\n",
      "}\n",
      "autoSFTPLogin('bankingserver.com', '22', 'username', 'password')\n",
      "calculateDateDifference('previous_day', 1, '%Y-%m-%d', '%Y-%m-%d')\n",
      "appendDataToCSV('historical_balance_data.csv', 'bank_account_balance_column', 'financial_report_template.csv')\n",
      "setDataRecordState('historical_balance_data.csv', 'processed')\n",
      "batch_download_files_from_server('receipts', 'process_file', 'path/to/downloaded/files', 'yes')\n",
      "batch_download_files_from_server('banking_transactions', 'process_file', 'path/to/downloaded/files', 'yes')\n",
      "try_exception():\n",
      "    # code to name the downloaded files according to a fixed rule\n",
      "    # code to write a log record\n",
      "由于当前步骤需要对Excel表格进行操作，因此我们选择使用RPA库函数中的export_dataframe_to_excel函数来实现。\n",
      "\n",
      "代码如下：\n",
      "\n",
      "# 导入所需库\n",
      "import pandas as pd\n",
      "from RPA.Excel.Application import Application\n",
      "\n",
      "# 读取Excel文件\n",
      "file_path = \"financial_report_template.xlsx\"\n",
      "df = pd.read_excel(file_path)\n",
      "\n",
      "# 对银行账户余额列进行压缩\n",
      "df[\"bank_account_balance\"] = df[\"bank_account_balance\"].apply(lambda x: str(x)[:4] + \"***\" + str(x)[-4:])\n",
      "\n",
      "# 对电子收据和网银交易进行命名\n",
      "df[\"electronic_receipts\"] = \"receipt_\" + df[\"transaction_id\"].astype(str)\n",
      "df[\"online_banking_transactions\"] = \"transaction_\" + df[\"transaction_id\"].astype(str)\n",
      "\n",
      "# 将处理后的数据导出到Excel文件中\n",
      "excel = Application()\n",
      "excel.visible = True\n",
      "excel.display_alerts = False\n",
      "excel.screen_updating = False\n",
      "\n",
      "excel_file = excel.workbooks.open(file_path)\n",
      "sheet = excel_file.sheets(\"Sheet1\")\n",
      "\n",
      "export_dataframe_to_excel(file=file_path, df=df, sheet=\"Sheet1\", header=True, index=False)\n",
      "\n",
      "excel_file.save()\n",
      "excel_file.close()\n",
      "excel.quit()\n",
      "sendEmailViaSMTP('smtp.example.com', 587, 'yes', 'sender@example.com', 'recipient@example.com', 'cc@example.com', 'bcc@example.com', 'Financial Report and Receipts', 'Please find attached the compressed financial report excel and the folder containing the named electronic receipts and online banking transactions.', 'C:/attachments/financial_report.zip,C:/attachments/receipts_folder', 'text', 'password')\n",
      "if exception:\n",
      "    sendEmailViaSMTP('smtp.example.com', 587, 'yes', 'sender@example.com', 'admin@example.com', '', '', 'Error Notification', 'An exception occurred during the process of sending the financial report and receipts. Please check the logs for more information.', '', 'text', 'password')\n",
      "receiveExchangeEmail(serverAddress, adDomain, username, password, recipient, folder, senderFilter, subjectFilter, contentFilter, onlyUnread=True, sortByDate=True, attachmentSavePath=None, markAsRead=True, numberOfEmails=None)\n"
     ]
    }
   ],
   "source": [
    "for i in range(len(steps)):\n",
    "    result = qa.run(steps[i])\n",
    "    print(result)"
   ]
  },
  {
   "cell_type": "code",
   "execution_count": null,
   "id": "45312936-47bc-400a-bd3a-64def7fa51e4",
   "metadata": {},
   "outputs": [],
   "source": []
  }
 ],
 "metadata": {
  "kernelspec": {
   "display_name": "Python 3 (ipykernel)",
   "language": "python",
   "name": "python3"
  },
  "language_info": {
   "codemirror_mode": {
    "name": "ipython",
    "version": 3
   },
   "file_extension": ".py",
   "mimetype": "text/x-python",
   "name": "python",
   "nbconvert_exporter": "python",
   "pygments_lexer": "ipython3",
   "version": "3.9.13"
  }
 },
 "nbformat": 4,
 "nbformat_minor": 5
}
