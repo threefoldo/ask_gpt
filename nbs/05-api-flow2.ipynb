{
 "cells": [
  {
   "cell_type": "markdown",
   "id": "9327a203-ea77-462a-b4a3-6d8851e55090",
   "metadata": {},
   "source": [
    "给定一个RPA流程需求描述，先让LLM重新描述一个需求和执行步骤，然后生成伪代码，再根据API文档和伪代码，生成实际的代码。"
   ]
  },
  {
   "cell_type": "code",
   "execution_count": 1,
   "id": "efddb790-e7a9-4f0a-b1b5-38d0bb187ca1",
   "metadata": {},
   "outputs": [
    {
     "data": {
      "text/plain": [
       "True"
      ]
     },
     "execution_count": 1,
     "metadata": {},
     "output_type": "execute_result"
    }
   ],
   "source": [
    "import os\n",
    "from dotenv import load_dotenv\n",
    "from datetime import datetime\n",
    "\n",
    "import openai\n",
    "from IPython.display import HTML, display\n",
    "from ipywidgets import widgets\n",
    "from langchain.chains import ConversationalRetrievalChain\n",
    "from langchain.chat_models import ChatOpenAI\n",
    "from langchain.document_loaders import DirectoryLoader\n",
    "from langchain.vectorstores import Chroma\n",
    "\n",
    "load_dotenv()"
   ]
  },
  {
   "cell_type": "code",
   "execution_count": 2,
   "id": "c38abb79-6416-4da4-8f61-1c428cdb0386",
   "metadata": {},
   "outputs": [
    {
     "name": "stderr",
     "output_type": "stream",
     "text": [
      "WARNING! engine is not default parameter.\n",
      "                    engine was transferred to model_kwargs.\n",
      "                    Please confirm that engine is what you intended.\n"
     ]
    },
    {
     "name": "stdout",
     "output_type": "stream",
     "text": [
      "azure https://test0406.openai.azure.com/ 2023-03-15-preview\n"
     ]
    }
   ],
   "source": [
    "from langchain.chains import LLMChain\n",
    "from langchain.chains.question_answering import load_qa_chain\n",
    "from langchain.prompts import PromptTemplate\n",
    "from langchain.prompts.chat import ChatPromptTemplate\n",
    "from langchain.vectorstores import Chroma\n",
    "from langchain.embeddings.openai import OpenAIEmbeddings\n",
    "from langchain.text_splitter import CharacterTextSplitter\n",
    "from langchain.chains import RetrievalQA\n",
    "\n",
    "\n",
    "openai.api_type = os.getenv(\"OPENAI_API_TYPE\")\n",
    "openai.api_key = os.getenv(\"OPENAI_API_KEY\")\n",
    "openai.api_base = os.getenv(\"OPENAI_API_BASE\")\n",
    "openai.api_version = os.getenv(\"OPENAI_API_VERSION\")\n",
    "print(openai.api_type, openai.api_base, openai.api_version)\n",
    "\n",
    "\n",
    "embeddings = OpenAIEmbeddings(model='text-embedding-ada-002',\n",
    "                              deployment='emb0614',\n",
    "                              openai_api_base=os.getenv(\"OPENAI_API_BASE\"),\n",
    "                              openai_api_type=os.getenv(\"OPENAI_API_TYPE\"),\n",
    "                              chunk_size=1)\n",
    "\n",
    "docsearch = Chroma(persist_directory='apidocs', embedding_function=embeddings)\n",
    "\n",
    "llm = ChatOpenAI(engine='test0406', model_name=\"gpt-3.5-turbo\", temperature=0.3, max_tokens=4096)"
   ]
  },
  {
   "cell_type": "code",
   "execution_count": 3,
   "id": "59d31d73-911c-4582-93d5-5c6346ee1d6f",
   "metadata": {},
   "outputs": [],
   "source": [
    "template_task = '''你是个非常优秀的RPA程序员，你的任务是根据RPA流程的需求描述和步骤描述，生成一个伪代码表示的RPA流程。\n",
    "请一步步思考，确保正确理解实现该流程的所有必要条件，然后更新步骤描述，确保新的步骤描述包含了所有的上下文信息，以方便后面的代码。\n",
    "\n",
    "流程描述: {description}\n",
    "\n",
    "任务步骤：{steps}\n",
    "\n",
    "重新描述实现该RPA流程的具体步骤，包括每个步骤的输入输出和实现功能：'''\n",
    "\n",
    "prompt_task = PromptTemplate(input_variables=['description', 'steps'], template=template_task)\n",
    "task_chain = LLMChain(llm=llm, prompt=prompt_task, output_key='revised')"
   ]
  },
  {
   "cell_type": "code",
   "execution_count": 4,
   "id": "4ae3e006-40ad-4019-b7bc-de00348c601a",
   "metadata": {},
   "outputs": [],
   "source": [
    "template_draft = '''你是个非常优秀的RPA程序员，请根据RPA流程描述和实现步骤描述，先生成一个用伪代码表示的RPA流程草稿。\n",
    "\n",
    "流程描述: {description}\n",
    "\n",
    "详细步骤：{revised}\n",
    "\n",
    "生成的伪代码RPA流程是：'''\n",
    "\n",
    "prompt_draft = PromptTemplate(input_variables=['description', 'revised'], template=template_draft)\n",
    "draft_chain = LLMChain(llm=llm, prompt=prompt_draft, output_key='draft')"
   ]
  },
  {
   "cell_type": "code",
   "execution_count": 16,
   "id": "6e546061-fe73-4cb8-846a-593b644db820",
   "metadata": {},
   "outputs": [],
   "source": [
    "template_code = '''你是个非常优秀的RPA程序员，请根据RPA流程描述和流程草稿，实现一个由基本操作组成的伪代码RPA流程。\n",
    "基本操作是指计算机能够执行的最简单任务，比如打开文件、保存文件、打开浏览器、点击按钮、修改文本等。\n",
    "\n",
    "流程描述: {description}\n",
    "流程草稿: {draft}\n",
    "\n",
    "生成的RPA流程伪代码：'''\n",
    "\n",
    "prompt_code = PromptTemplate(input_variables=['description', 'draft'], template=template_code)\n",
    "\n",
    "code_chain = LLMChain(llm=llm, prompt=prompt_code, output_key='code')"
   ]
  },
  {
   "cell_type": "code",
   "execution_count": 17,
   "id": "54a9d925-38a6-4bf1-b788-e0f97a7c51b6",
   "metadata": {},
   "outputs": [],
   "source": [
    "from langchain.chains import SequentialChain\n",
    "\n",
    "overall_chain = SequentialChain(\n",
    "    chains=[task_chain, draft_chain, code_chain],\n",
    "    input_variables=['description', 'steps'],\n",
    "    # Here we return multiple variables\n",
    "    output_variables=[\"revised\", \"draft\", \"code\"],\n",
    "    verbose=True)"
   ]
  },
  {
   "cell_type": "code",
   "execution_count": 18,
   "id": "0e355aa8-96b3-43f6-81be-40649c514270",
   "metadata": {},
   "outputs": [],
   "source": [
    "task_description = '''通过RPA机器人，进入网银系统获取前一个工作日的资金流水数据，\n",
    "按数据类型写入到模板表对应的银行列中，并下载前一工作日电子回单，生成文件清单并打印，\n",
    "再发送资金日报及电子回单清单给对应的业务人员。\n",
    "'''\n",
    "\n",
    "task_steps = '''操作步骤及说明\n",
    "1.\t业务人员配置好银行账号数据表，和邮箱账号数据；\n",
    "2.\t读取账号配置表，根据账号信息自动登录网银系统；\n",
    "3.\t获取前一天历史余额数据，写入资金日报表模板对应银行账户余额栏；\n",
    "4.\t下载前一天电子回单、网银流水，按照固定规则命名（命名规则：公司_收/付_账号_日期，例：X公司_收_账号_20211222），并在日志记录表中写入记录；\n",
    "5.\t将日报excel及回、流水文件夹进行压缩；\n",
    "6.\t邮件发送运行异常提醒，将运行的数据压缩文件发送到指定邮箱；\n",
    "7.\t业务人员接收邮件文件，进行确认操作。\n",
    "'''"
   ]
  },
  {
   "cell_type": "code",
   "execution_count": 19,
   "id": "37944f04-7c2c-41c6-9181-5adb531f29bc",
   "metadata": {},
   "outputs": [
    {
     "name": "stdout",
     "output_type": "stream",
     "text": [
      "\n",
      "\n",
      "\u001b[1m> Entering new SequentialChain chain...\u001b[0m\n",
      "\n",
      "\u001b[1m> Finished chain.\u001b[0m\n"
     ]
    }
   ],
   "source": [
    "result = overall_chain({'description': task_description, 'steps': task_steps})"
   ]
  },
  {
   "cell_type": "code",
   "execution_count": 20,
   "id": "b59c9b51-d09b-4112-8af2-7d5a819b8601",
   "metadata": {},
   "outputs": [
    {
     "name": "stdout",
     "output_type": "stream",
     "text": [
      "1. 读取银行账号数据表和邮箱账号数据表，获取账号信息；\n",
      "   输入：银行账号数据表、邮箱账号数据表；\n",
      "   输出：账号信息；\n",
      "   功能：获取账号信息，为后续自动登录网银系统和发送邮件做准备。\n",
      "\n",
      "2. 自动登录网银系统；\n",
      "   输入：账号信息；\n",
      "   输出：已登录的网银系统；\n",
      "   功能：自动登录网银系统，为后续获取前一天历史余额数据和下载电子回单、网银流水做准备。\n",
      "\n",
      "3. 获取前一天历史余额数据，写入资金日报表模板对应银行账户余额栏；\n",
      "   输入：已登录的网银系统、资金日报表模板、银行账号信息；\n",
      "   输出：资金日报表模板对应银行账户余额栏的历史余额数据；\n",
      "   功能：获取前一天历史余额数据，为后续生成资金日报和发送邮件做准备。\n",
      "\n",
      "4. 下载前一天电子回单、网银流水，按照固定规则命名，并在日志记录表中写入记录；\n",
      "   输入：已登录的网银系统、下载路径、命名规则、日志记录表；\n",
      "   输出：下载的电子回单、网银流水文件；\n",
      "   功能：下载前一天电子回单、网银流水文件，并按照固定规则命名，同时在日志记录表中写入记录。\n",
      "\n",
      "5. 将日报excel及回、流水文件夹进行压缩；\n",
      "   输入：资金日报表模板、电子回单、网银流水文件夹路径；\n",
      "   输出：压缩后的文件夹；\n",
      "   功能：将资金日报表模板、电子回单、网银流水文件夹进行压缩，为后续发送邮件做准备。\n",
      "\n",
      "6. 邮件发送运行异常提醒，将运行的数据压缩文件发送到指定邮箱；\n",
      "   输入：压缩后的文件夹、邮箱账号信息、邮件内容；\n",
      "   输出：发送成功的邮件；\n",
      "   功能：发送邮件提醒运行异常，并将压缩后的文件夹发送到指定邮箱。\n",
      "\n",
      "7. 业务人员接收邮件文件，进行确认操作。\n",
      "   输入：接收的邮件、确认操作；\n",
      "   输出：确认结果；\n",
      "   功能：业务人员接收邮件文件，并进行确认操作。\n"
     ]
    }
   ],
   "source": [
    "print(result['revised'])"
   ]
  },
  {
   "cell_type": "code",
   "execution_count": 21,
   "id": "5a286262-da20-4065-9bbf-72cce5eb84d5",
   "metadata": {},
   "outputs": [
    {
     "name": "stdout",
     "output_type": "stream",
     "text": [
      "1. Read bank account data table and email account data table to get account information\n",
      "2. Automatically log in to online banking system using account information\n",
      "3. Get historical balance data from the previous business day and write it into the corresponding bank account balance column in the cash flow template\n",
      "4. Download electronic receipts and online banking transaction records from the previous business day, name them according to a fixed rule, and write a record in the log\n",
      "5. Compress the cash flow template, electronic receipts, and online banking transaction records into a folder\n",
      "6. Send an email to notify of any abnormal operation and send the compressed folder to a designated email address\n",
      "7. Business personnel receive the email and perform confirmation operation.\n"
     ]
    }
   ],
   "source": [
    "print(result['draft'])"
   ]
  },
  {
   "cell_type": "code",
   "execution_count": 22,
   "id": "770814b1-ccd8-4210-b6ee-34761328e198",
   "metadata": {},
   "outputs": [
    {
     "name": "stdout",
     "output_type": "stream",
     "text": [
      "1. Read bank account data table and email account data table to get account information\n",
      "2. Open web browser and navigate to online banking system login page\n",
      "3. Input account information and click login button\n",
      "4. Navigate to historical balance data page for the previous business day\n",
      "5. Extract balance data for each bank account and write it into the corresponding bank account balance column in the cash flow template\n",
      "6. Navigate to electronic receipt download page for the previous business day\n",
      "7. Download electronic receipts and name them according to a fixed rule\n",
      "8. Navigate to online banking transaction record download page for the previous business day\n",
      "9. Download online banking transaction records and name them according to a fixed rule\n",
      "10. Write a record in the log for each downloaded file\n",
      "11. Compress the cash flow template, electronic receipts, and online banking transaction records into a folder\n",
      "12. Send an email to notify of any abnormal operation and send the compressed folder to a designated email address\n",
      "13. Wait for confirmation email from business personnel\n",
      "14. If confirmation email is received, end process. If not, repeat step 12.\n"
     ]
    }
   ],
   "source": [
    "print(result['code'])"
   ]
  },
  {
   "cell_type": "code",
   "execution_count": 23,
   "id": "1d28050a-0d86-4dea-846d-8746be5c25db",
   "metadata": {},
   "outputs": [],
   "source": [
    "# with open('patents/requirements-test4.txt', 'w') as f:\n",
    "#     f.write('requirements: ' + result['requirements'])\n",
    "#     f.write('\\n\\nfeature: ' + result['feature'])\n",
    "#     f.write('\\n\\nsolution: ' + result['solution'])\n",
    "#     f.write('\\n\\nselection: ' + result['selection'])"
   ]
  },
  {
   "cell_type": "code",
   "execution_count": 24,
   "id": "6c78b3ad-1c25-4482-8960-e2a8f7a5dcb2",
   "metadata": {},
   "outputs": [
    {
     "data": {
      "text/plain": [
       "['1. Read bank account data table and email account data table to get account information',\n",
       " '2. Open web browser and navigate to online banking system login page',\n",
       " '3. Input account information and click login button']"
      ]
     },
     "execution_count": 24,
     "metadata": {},
     "output_type": "execute_result"
    }
   ],
   "source": [
    "steps = result['code'].split('\\n\\n')\n",
    "steps[:3]"
   ]
  },
  {
   "cell_type": "code",
   "execution_count": 25,
   "id": "94a89b5c-db53-47e6-ad7d-dddcb447b698",
   "metadata": {},
   "outputs": [],
   "source": [
    "template_generate = \"\"\"你是一个专业的RPA开发人员，请根据RPA库函数描述，选择合适的函数来生成一个步骤的代码。\n",
    "如果实现这个任务步骤所需要的函数不存在于上下文中，则可以使用通用第三方函数库。如果存在，则必须使用已有的RPA库函数。\n",
    "在生成代码时，只需要生成代码和注释，不需要别的解释。所有的注释都必须是中文。\n",
    "\n",
    "相关函数: {context}\n",
    "\n",
    "当前步骤：{question}\n",
    "\n",
    "生成的代码:\"\"\"\n",
    "\n",
    "prompt_generate = PromptTemplate(\n",
    "    template=template_generate, input_variables=[\"context\", \"question\"]\n",
    ")\n",
    "chain_type_kwargs = {\"prompt\": prompt_generate}\n",
    "qa = RetrievalQA.from_chain_type(llm=llm, chain_type=\"stuff\", retriever=docsearch.as_retriever(), chain_type_kwargs=chain_type_kwargs)"
   ]
  },
  {
   "cell_type": "code",
   "execution_count": 26,
   "id": "8b142bae-342d-4c3b-ab9a-7dd6493d8300",
   "metadata": {},
   "outputs": [
    {
     "name": "stdout",
     "output_type": "stream",
     "text": [
      ">> 1. Read bank account data table and email account data table to get account information \n",
      " # Read bank account data table\n",
      "bank_data = read_excel('path/to/bank_data.xlsx')\n",
      "\n",
      "# Read email account data table\n",
      "email_data = read_excel('path/to/email_data.xlsx')\n",
      "\n",
      "# Get email information\n",
      "emails = receiveExchangeEmail(email_data['serverAddress'], email_data['adDomain'], email_data['username'], email_data['password'], email_data['emailAddress'], email_data['folder'], None, None, None, True, True, None, False, 10)\n",
      "\n",
      "# Get bank card information\n",
      "for index, row in bank_data.iterrows():\n",
      "    bank_card_info = bankCardOCR(row['imagePath'], 'your_api_key', 'your_secret_key')\n",
      "    # Process bank card information here... \n",
      "\n",
      ">> 2. Open web browser and navigate to online banking system login page \n",
      " // Open web browser\n",
      "let browserObject = getBrowserObject();\n",
      "let tabId = getBrowserTabId();\n",
      "openWebsiteInSelectedTab(browserObject, tabId, 5, \"https://www.onlinebanking.com/login\");\n",
      "\n",
      "// Navigate to login page\n",
      "simulateWidgetInput(\"Online Banking Login\", \"username\");\n",
      "simulateWidgetInput(\"Online Banking Login\", \"password\"); \n",
      "\n",
      ">> 3. Input account information and click login button \n",
      " # Simulate input of account information\n",
      "simulateWidgetInput('Banking Website Login', 'account123')\n",
      "\n",
      "# Click login button\n",
      "clickButton('Login') \n",
      "\n",
      ">> 4. Navigate to historical balance data page for the previous business day \n",
      " # Using the calculateDate function to get the previous business day\n",
      "previous_business_day = calculateDate(-1, format='%Y-%m-%d')\n",
      "\n",
      "# Navigating to the historical balance data page for the previous business day\n",
      "navigateTo('https://www.example.com/historical_balance_data?date=' + previous_business_day) \n",
      "\n",
      ">> 5. Extract balance data for each bank account and write it into the corresponding bank account balance column in the cash flow template \n",
      " # Import necessary libraries\n",
      "import csv\n",
      "\n",
      "# Define the path to the cash flow template\n",
      "template_path = 'path/to/cash_flow_template.csv'\n",
      "\n",
      "# Define the path to the bank account data file\n",
      "data_path = 'path/to/bank_account_data.csv'\n",
      "\n",
      "# Open the cash flow template in read mode\n",
      "with open(template_path, 'r') as template_file:\n",
      "    # Read the template data into a list of dictionaries\n",
      "    template_data = list(csv.DictReader(template_file))\n",
      "\n",
      "# Open the bank account data file in read mode\n",
      "with open(data_path, 'r') as data_file:\n",
      "    # Read the bank account data into a list of dictionaries\n",
      "    data = list(csv.DictReader(data_file))\n",
      "\n",
      "# Loop through each bank account in the bank account data\n",
      "for account in data:\n",
      "    # Extract the balance data for the current bank account\n",
      "    balance_data = bankCardOCR(account['image_path'], 'your_api_key', 'your_secret_key')\n",
      "\n",
      "    # Loop through each row in the cash flow template\n",
      "    for row in template_data:\n",
      "        # Check if the current row corresponds to the current bank account\n",
      "        if row['bank_account'] == account['account_number']:\n",
      "            # Write the balance data into the corresponding bank account balance column\n",
      "            row['balance'] = balance_data['balance']\n",
      "\n",
      "# Open the cash flow template in write mode\n",
      "with open(template_path, 'w', newline='') as template_file:\n",
      "    # Write the updated template data back to the file\n",
      "    writer = csv.DictWriter(template_file, fieldnames=template_data[0].keys())\n",
      "    writer.writeheader()\n",
      "    writer.writerows(template_data)\n",
      "\n",
      "# Output a message indicating that the balance data has been extracted and written to the cash flow template\n",
      "print('Balance data has been extracted and written to the cash flow template.') \n",
      "\n",
      ">> 6. Navigate to electronic receipt download page for the previous business day \n",
      " # Calculate previous business day\n",
      "previous_business_day = calculateDate(input_date, -1, \"YYYY-MM-DD\")\n",
      "# Navigate to electronic receipt download page for previous business day\n",
      "navigateTo(\"https://example.com/electronic-receipts/\" + previous_business_day)\n",
      "# Print output\n",
      "print_output(\"Navigated to electronic receipt download page for \" + previous_business_day) \n",
      "\n",
      ">> 7. Download electronic receipts and name them according to a fixed rule \n",
      " batch_download_files_from_server(\"receipt\", \"process_file\", \"C:/Downloads\", \"yes\")\n",
      "print_output(\"Downloaded electronic receipts successfully\") \n",
      "\n",
      ">> 8. Navigate to online banking transaction record download page for the previous business day \n",
      " # 使用浏览器自动化库打开网页\n",
      "browser = RPA.Browser()\n",
      "browser.open('https://www.examplebank.com/transaction-record')\n",
      "\n",
      "# 使用OCR识别银行卡信息\n",
      "bank_card_info = bankCardOCR('path/to/bank_card_image.jpg', 'your_api_key', 'your_secret_key')\n",
      "card_number = bank_card_info['card_number']\n",
      "expiration_date = bank_card_info['expiration_date']\n",
      "\n",
      "# 使用日期计算函数计算前一天的日期\n",
      "import datetime\n",
      "today = datetime.date.today()\n",
      "one_day = datetime.timedelta(days=1)\n",
      "previous_day = today - one_day\n",
      "previous_day_str = previous_day.strftime('%Y-%m-%d')\n",
      "\n",
      "# 在网页上输入银行卡信息和日期，下载交易记录\n",
      "input_card_number = browser.find('input[name=\"card_number\"]')\n",
      "input_card_number.input_text(card_number)\n",
      "input_expiration_date = browser.find('input[name=\"expiration_date\"]')\n",
      "input_expiration_date.input_text(expiration_date)\n",
      "input_date = browser.find('input[name=\"date\"]')\n",
      "input_date.input_text(previous_day_str)\n",
      "download_button = browser.find('button[name=\"download\"]')\n",
      "download_button.click() \n",
      "\n",
      ">> 9. Download online banking transaction records and name them according to a fixed rule \n",
      " # Download online banking transaction records\n",
      "batch_download_files_from_server(file_name='transaction', file_type='process_file', download_path='path/to/download', overwrite='no')\n",
      "\n",
      "# Rename downloaded files according to a fixed rule\n",
      "import os\n",
      "for filename in os.listdir('path/to/download'):\n",
      "    if filename.startswith('transaction'):\n",
      "        new_filename = 'transaction_' + filename.split('_')[1] + '.csv'\n",
      "        os.rename(os.path.join('path/to/download', filename), os.path.join('path/to/download', new_filename)) \n",
      "\n",
      ">> 10. Write a record in the log for each downloaded file \n",
      " # Download files in batch from server to local directory\n",
      "downloaded_files = batch_download_files_from_server('file_keyword', 'process_file', 'C:/Downloads', 'yes')\n",
      "\n",
      "# Write a record in the log for each downloaded file\n",
      "for file_path in downloaded_files:\n",
      "    log.write('File downloaded: ' + file_path) \n",
      "\n",
      ">> 11. Compress the cash flow template, electronic receipts, and online banking transaction records into a folder \n",
      " compressToZip(\"C:/CashFlowTemplate\", \"C:/CompressedFiles/CashFlow.zip\");\n",
      "compressToZip(\"C:/ElectronicReceipts\", \"C:/CompressedFiles/ElectronicReceipts.zip\");\n",
      "compressToZip(\"C:/OnlineBankingTransactionRecords\", \"C:/CompressedFiles/OnlineBanking.zip\");\n",
      " \n",
      "\n",
      ">> 12. Send an email to notify of any abnormal operation and send the compressed folder to a designated email address \n",
      " sendOutlookMail('recipient@example.com', '', '', 'Abnormal Operation Notification', 'Please check the attached compressed folder for any abnormal operation.', 'C:/compressed_folder.zip') \n",
      "\n",
      ">> 13. Wait for confirmation email from business personnel \n",
      " # Wait for confirmation email from business personnel\n",
      "# Use the sendEmailViaSMTP function to check for new emails\n",
      "# Set server, port, ssl, sender, recipient, subject, and password parameters\n",
      "# Use the body parameter to set the email content to check for\n",
      "# Use the attachments parameter to specify any attachments to check for\n",
      "# Use the method parameter to set the email format to 'text' or 'html'\n",
      "# Use a loop to check for new emails every 5 minutes until confirmation email is received\n",
      "\n",
      "import time\n",
      "\n",
      "while True:\n",
      "    sendEmailViaSMTP('smtp.example.com', 465, 'yes', 'sender@example.com', 'recipient@example.com', '', '', 'Confirmation Email', 'Please confirm the task completion.', '', 'text', 'password')\n",
      "    time.sleep(300) # wait for 5 minutes before checking again\n",
      "    # if confirmation email is received, break out of the loop and continue with the next step \n",
      "\n",
      ">> 14. If confirmation email is received, end process. If not, repeat step 12. \n",
      " // Check if confirmation email is received\n",
      "const emails = receiveExchangeEmail('serverAddress', 'adDomain', 'username', 'password', 'emailAddress', 'inbox', 'senderFilter', 'subjectFilter', 'contentFilter', true, true, 'attachmentSavePath', true, 10);\n",
      "if (emails.length > 0) {\n",
      "  // Confirmation email received, end process\n",
      "  endProcess();\n",
      "} else {\n",
      "  // Confirmation email not received, repeat step 12\n",
      "  step12();\n",
      "} \n",
      "\n"
     ]
    }
   ],
   "source": [
    "for i in range(len(steps)):\n",
    "    result = qa.run(steps[i])\n",
    "    print(f'>> {steps[i]} \\n {result} \\n')"
   ]
  },
  {
   "cell_type": "code",
   "execution_count": null,
   "id": "45312936-47bc-400a-bd3a-64def7fa51e4",
   "metadata": {},
   "outputs": [],
   "source": []
  }
 ],
 "metadata": {
  "kernelspec": {
   "display_name": "Python 3 (ipykernel)",
   "language": "python",
   "name": "python3"
  },
  "language_info": {
   "codemirror_mode": {
    "name": "ipython",
    "version": 3
   },
   "file_extension": ".py",
   "mimetype": "text/x-python",
   "name": "python",
   "nbconvert_exporter": "python",
   "pygments_lexer": "ipython3",
   "version": "3.9.13"
  }
 },
 "nbformat": 4,
 "nbformat_minor": 5
}
