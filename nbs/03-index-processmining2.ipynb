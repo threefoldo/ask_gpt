{
 "cells": [
  {
   "cell_type": "raw",
   "metadata": {},
   "source": [
    "---\n",
    "{}\n",
    "\n",
    "---\n",
    "\n"
   ]
  },
  {
   "cell_type": "code",
   "execution_count": 1,
   "id": "aa1c4788-841f-4492-a630-7f5bed7e32c6",
   "metadata": {},
   "outputs": [
    {
     "data": {
      "text/plain": [
       "True"
      ]
     },
     "execution_count": 1,
     "metadata": {},
     "output_type": "execute_result"
    }
   ],
   "source": [
    "import os\n",
    "from dotenv import load_dotenv\n",
    "from pathlib import Path\n",
    "\n",
    "import langchain\n",
    "from langchain.text_splitter import RecursiveCharacterTextSplitter\n",
    "from langchain.llms import OpenAI\n",
    "from langchain.chains import RetrievalQA\n",
    "from langchain.document_loaders import TextLoader\n",
    "from langchain.document_loaders import PyPDFLoader\n",
    "from langchain.document_loaders import DirectoryLoader\n",
    "from InstructorEmbedding import INSTRUCTOR\n",
    "from langchain.embeddings import HuggingFaceInstructEmbeddings\n",
    "\n",
    "import tiktoken\n",
    "from llama_index import SimpleDirectoryReader, GPTVectorStoreIndex\n",
    "from llama_index import OpenAIEmbedding, ServiceContext\n",
    "from llama_index.node_parser import SimpleNodeParser\n",
    "from llama_index.langchain_helpers.text_splitter import TokenTextSplitter\n",
    "\n",
    "load_dotenv()"
   ]
  },
  {
   "cell_type": "code",
   "execution_count": 2,
   "id": "4ee258df-9b0f-4cd5-aced-e29840a4cb27",
   "metadata": {},
   "outputs": [],
   "source": [
    "docs_dir = Path('/home/jinzy/work/automation/ask_gpt/testdocs')\n",
    "embed_model = OpenAIEmbedding()"
   ]
  },
  {
   "cell_type": "code",
   "execution_count": 10,
   "id": "6ef393c1-292a-4176-969a-f248a3bd449f",
   "metadata": {},
   "outputs": [],
   "source": [
    "import PyPDF2\n",
    "\n",
    "#filename = '/home/jinzy/work/automation/ask_gpt/documents/process-mining-0529/process-discovery-algorithms/Leemans_thesis_Hierarchical Process Mining.pdf'\n",
    "\n",
    "def find_unprocessable_pdfs(directory):\n",
    "    unprocessable_pdfs = []\n",
    "\n",
    "    # Walk through the directory tree\n",
    "    for root, dirs, files in os.walk(directory):\n",
    "        for file in files:\n",
    "            # If the file is a PDF\n",
    "            if file.endswith('.pdf') or file.endswith('.PDF'):\n",
    "                pdf_path = os.path.join(root, file)\n",
    "                \n",
    "                # Attempt to open the file with PyPDF2\n",
    "                try:\n",
    "                    with open(pdf_path, 'rb') as f:\n",
    "                        PyPDF2.PdfReader(f)\n",
    "                except:\n",
    "                    print(pdf_path)\n",
    "                    # If an error is raised, add it to the list of unprocessable files\n",
    "                    unprocessable_pdfs.append(pdf_path)\n",
    "\n",
    "    return unprocessable_pdfs"
   ]
  },
  {
   "cell_type": "code",
   "execution_count": 11,
   "id": "0ea8020a-b4ab-48a6-ab35-2172be9a64f5",
   "metadata": {},
   "outputs": [
    {
     "data": {
      "text/plain": [
       "[]"
      ]
     },
     "execution_count": 11,
     "metadata": {},
     "output_type": "execute_result"
    }
   ],
   "source": [
    "find_unprocessable_pdfs(docs_dir)"
   ]
  },
  {
   "cell_type": "code",
   "execution_count": 12,
   "id": "41cd0281-20f5-4bff-81ad-d73b6a360e69",
   "metadata": {},
   "outputs": [
    {
     "name": "stdout",
     "output_type": "stream",
     "text": [
      "3\n"
     ]
    }
   ],
   "source": [
    "# Embed and store the texts\n",
    "# Supplying a persist_directory will store the embeddings on disk\n",
    "documents = SimpleDirectoryReader(docs_dir, recursive=True, required_exts=['.docx', '.pdf'], errors='ignore').load_data()\n",
    "print(len(documents))"
   ]
  },
  {
   "cell_type": "code",
   "execution_count": 13,
   "id": "f16a9427-f388-4731-8e0a-5a90a37da48a",
   "metadata": {},
   "outputs": [],
   "source": [
    "from langchain import OpenAI\n",
    "from llama_index import GPTVectorStoreIndex, LLMPredictor, PromptHelper\n",
    "\n",
    "# set maximum input size\n",
    "max_input_size = 4096\n",
    "# set number of output tokens\n",
    "num_outputs = 256\n",
    "# set maximum chunk overlap\n",
    "max_chunk_overlap = 30\n",
    "# set chunk size limit\n",
    "chunk_size_limit = 1000\n",
    "\n",
    "# define LLM\n",
    "llm_predictor = LLMPredictor(llm=OpenAI(temperature=0.5, model_name=\"text-davinci-003\", max_tokens=num_outputs))\n",
    "prompt_helper = PromptHelper(max_input_size, num_outputs, max_chunk_overlap, chunk_size_limit=chunk_size_limit)\n",
    "\n",
    "index = GPTVectorStoreIndex.from_documents(\n",
    "        documents, llm_predictor=llm_predictor, prompt_helper=prompt_helper\n",
    "    )\n",
    "\n",
    "# node_parser = SimpleNodeParser(text_splitter=text_splitter)\n",
    "# service_context = ServiceContext.from_defaults(\n",
    "#     embed_model=embed_model, node_parser=node_parser\n",
    "# )\n",
    "# index = GPTVectorStoreIndex.from_documents(documents, service_context=service_context)"
   ]
  },
  {
   "cell_type": "code",
   "execution_count": 14,
   "id": "8a565bfb-cbfb-4346-a372-02dae51ed8e7",
   "metadata": {},
   "outputs": [
    {
     "data": {
      "text/plain": [
       "Response(response='\\n任务挖掘（Process Mining）是一种利用事件日志（event log）来发现、分析和改进业务流程的技术。它可以帮助企业从企业各系统中捕捉信息，并创建事件日志和建立流程模型，以显示企业流程运行的真实情况，包括谁做的、花了多长时间，以及跟平均水平的偏离程度。它还可', source_nodes=[NodeWithScore(node=Node(text='的首席科学顾问。•流程挖掘技术可以帮助企业轻松地从企业各系统中捕捉信息，并提供关于主要流程执行情况的详细且以数据为驱动的信息。当完成数据对接后，流程挖掘技术会通过创建事件日志和建立流程模型的方式，显示企业流程运行的真实情况，包括谁做的、花了多长时间，以及跟平均水平的偏离程度。流程分析所创建的关键绩效指标（KPIs），使公司能够将重点放在优先级步骤或活动上进行改进。人工智能算法可以检测到流程绩效出现变化的根本原因——例如，流程挖掘可以发现，每次新客户需要进行信用检查时，都会导致订单到现金流程（OTC流程）效率的减慢。•通过流程挖掘，企业去了解当前流程运行状态，发现流程存在问题的过程不再是昂贵低效的手工投入，而是快捷高效的自动处理。甚至，针对管理层和普通用户等不同使用者，流程挖掘提供了可灵活切换分析颗粒度的可能，让企业所有人，都能够围绕自己所关心的问题，了解情况，解决问题。\\n\\n第⼆章  流程挖掘的技术发展\\n信息化的发展使得企业在执行实际业务过程中产生了大量的事件日志（event', doc_id='54a4d182-edff-4450-b15c-83c9094cfbdf', embedding=None, doc_hash='cd5539e3ef806f3fcc6a663669445c4461f5854943fad63cd3d7f5173f18d5ba', extra_info=None, node_info={'start': 4159, 'end': 4602}, relationships={<DocumentRelationship.SOURCE: '1'>: '4650c543-e75a-43bb-a0ba-9dc072d5c3ff', <DocumentRelationship.PREVIOUS: '2'>: '8f76aafc-256a-4229-9b29-76a1c6ed9591', <DocumentRelationship.NEXT: '3'>: '0b3f82ac-7e36-44ff-9053-5f33bd375008'}), score=0.8355756882600041), NodeWithScore(node=Node(text=' 流程挖掘的技术发展\\n信息化的发展使得企业在执行实际业务过程中产生了大量的事件日志（event log），这些数据会以某种形式记录在信息系统中（如csv文件）。流程挖掘（process mining）的宗旨是充分挖掘事件日志中有价值的信息（如资源、角色、部门结构等），这些信息可以用来部署新系统以支持业务流程执行，或作为反馈用于分析和改进已经实施的业务流程。 下图展示了流程挖掘在实际场景中的三个经典应⽤，包括流程发现、⼀致性检查和流程增强。•流程挖掘的学术定义 \\n\\n第⼆章  流程挖掘的技术发展\\n•流程发现流程发现（process discovery）。该场景的输入是业务执行后产生的事件日志，输出是流程模型，解决的是业务过程的自动化建模问题。流程模型关注的内容可以是单一维度的，也可以是多个维度的集成模型。现在研究的维度主要有：关注活动执行先后顺序的控制流维度（control-flow）、关注活动耗时耗费的资源维度和关注业务参与角色的社交维度等。\\n *为示例数据，供参考。。…………\\n第⼆章  流程挖掘的技术发展\\n拟合度（fitness） 评价模型能够重演（replay）日志行为的能力。•⼀致性检查一致性检查（conformance', doc_id='0b3f82ac-7e36-44ff-9053-5f33bd375008', embedding=None, doc_hash='400d04e03ef57b2658c1b09169fff60e43a8d113cd03d9ea5fad52023a201c05', extra_info=None, node_info={'start': 4557, 'end': 5077}, relationships={<DocumentRelationship.SOURCE: '1'>: '4650c543-e75a-43bb-a0ba-9dc072d5c3ff', <DocumentRelationship.PREVIOUS: '2'>: '54a4d182-edff-4450-b15c-83c9094cfbdf', <DocumentRelationship.NEXT: '3'>: 'b93c935c-e6b1-442c-bd8c-74bf1af759f0'}), score=0.8338639355727596)], extra_info={'54a4d182-edff-4450-b15c-83c9094cfbdf': None, '0b3f82ac-7e36-44ff-9053-5f33bd375008': None})"
      ]
     },
     "execution_count": 14,
     "metadata": {},
     "output_type": "execute_result"
    }
   ],
   "source": [
    "query_engine = index.as_query_engine()\n",
    "query_engine.query('请解释一下什么是任务挖掘?')"
   ]
  },
  {
   "cell_type": "code",
   "execution_count": 15,
   "id": "79efa9f8-9206-48c2-8668-ea9404970dae",
   "metadata": {},
   "outputs": [
    {
     "data": {
      "text/plain": [
       "Response(response='\\niS-RPM是一个RPA解决方案，它可以帮助企业实现RPA自动化，从而提高流程自动化的收益，加快RPA建设的进程，实现RPA行业的规模化变革。iS-RPM采用自上而下和自下而上结合的方式，持续发现自动化机会，降低自动化门槛，缩短部署时间，提升自动化收益。它', source_nodes=[NodeWithScore(node=Node(text=' 另一方面，可以更加全面的了解业务场景，不局限于人的主观经验。      RPA工程文件  除了导出RPA需求文档，iS-RPM还支持一键导出RPA工程文档。  如果企业在使用iS-RPM之前，已经使用了艺赛旗的iS-RPA设计器。那么可以将导出“.irpm”文件导入到设计器中，并且一键转换成RPA工程，把组件运行需要的参数自动生成，得到我们右边这张图的流程骨架。我们提供这样的一个骨架流程能帮助RPA开发者快速生成流程的重要步骤节点，加快实施交付的进度。             场景&案例  4.1某能源企业案例  该企业内部业务系统繁多复杂。作为国内共享服务专业化公司，该企业的共享服务中心全面承接集团企业的财务、人事、IT、党建和商旅业务，每日需要集中处理大量的事务性工作，给业务处理的及时性和准确性带来了不小挑战。因此，亟需通过自动化的方式减轻人员工作压力。由此，共享中心开启RPA自动化之旅，并结合任务挖掘新技术在智能自动化方面率先探索并取得成效。      4.2某运营商案例 ', doc_id='2bfbcbd0-6f4c-43c3-9569-ac5e958e4e2e', embedding=None, doc_hash='92b87aad80768da9aa5a763b20f7716a1e2053c5b9f7b950db3a63a985360bf2', extra_info=None, node_info={'start': 7464, 'end': 7911}, relationships={<DocumentRelationship.SOURCE: '1'>: 'f9a4d5a2-f090-4114-a7ad-166b6d3a6ccb', <DocumentRelationship.PREVIOUS: '2'>: '56a359b4-48e4-4d03-b1c0-52edd322f4b7', <DocumentRelationship.NEXT: '3'>: 'ba2de8e7-e8b0-448b-90a5-d091fb9c80ce'}), score=0.8554237923576952), NodeWithScore(node=Node(text='   提升流程自动化收益    iS-RPM采用自上而下和自下而上结合手段，持续发现自动化机会，降低自动化门槛，缩短部署时间，提升自动化收益！  总的来说，借助iS-RPM可以实现RPA规模化闭环，降低RPA项目运维成本，从而加快RPA建设尤其是规模化建设的进程，帮助企业开启自动化飞轮。    加速实现RPA行业规模化变革    多技术、多平台、多工具融合是企业未来的RPA建设过程中的大势所趋。在传统RPA的基础上，引入iS-RPM的任务挖掘技术，能够帮助企业加速RPA自动化进程；引入iS-RPM的流程挖掘技术，能够帮助企业自上而下的拓展流程优化手段；iS-RPM结合AI能力，增强整体价值成效，实现整个RPA行业的规模化加速，加快企业数字化转型赋能效率。  ', doc_id='eb9fba7f-6d5a-405e-85d8-93b85a0f79a4', embedding=None, doc_hash='3706858a8f496c9b22e571c52b75c99cb75b869c17a7b82c08b53ea711ff6ffd', extra_info=None, node_info={'start': 2749, 'end': 3082}, relationships={<DocumentRelationship.SOURCE: '1'>: 'f9a4d5a2-f090-4114-a7ad-166b6d3a6ccb', <DocumentRelationship.PREVIOUS: '2'>: 'f5e65cba-5f9b-4917-9b98-c36fec48fbc2', <DocumentRelationship.NEXT: '3'>: 'ffc55b43-b913-4bbe-97bb-6056765f690c'}), score=0.8525722476294061)], extra_info={'2bfbcbd0-6f4c-43c3-9569-ac5e958e4e2e': None, 'eb9fba7f-6d5a-405e-85d8-93b85a0f79a4': None})"
      ]
     },
     "execution_count": 15,
     "metadata": {},
     "output_type": "execute_result"
    }
   ],
   "source": [
    "query_engine = index.as_query_engine()\n",
    "query_engine.query('了解一下RPM项目建设')"
   ]
  },
  {
   "cell_type": "code",
   "execution_count": 16,
   "id": "a6d432b6-e077-4a67-988c-85f1d9d2de7b",
   "metadata": {},
   "outputs": [
    {
     "data": {
      "text/plain": [
       "129"
      ]
     },
     "execution_count": 16,
     "metadata": {},
     "output_type": "execute_result"
    }
   ],
   "source": [
    "len(_.response)"
   ]
  },
  {
   "cell_type": "code",
   "execution_count": null,
   "id": "a31a9125-0812-4989-9ae1-19b04186459a",
   "metadata": {},
   "outputs": [],
   "source": []
  },
  {
   "cell_type": "code",
   "execution_count": null,
   "id": "086ab227-2b0a-4398-891a-a6cf249834b5",
   "metadata": {},
   "outputs": [],
   "source": []
  },
  {
   "cell_type": "code",
   "execution_count": 7,
   "id": "d6b45478-03da-4dc4-b020-5c47436d3819",
   "metadata": {},
   "outputs": [
    {
     "data": {
      "text/plain": [
       "'\\n任务挖掘是一种技术，旨在通过收集和分析用户交互行为来了解他们如何操作任务。它可以帮助企业发现自动化机会，减少流程差距，提供流程违规警报，加快自动化交付周期。任务挖掘与流程挖掘互相补充，以提供基于事实的见解并支持流程改进。'"
      ]
     },
     "execution_count": 7,
     "metadata": {},
     "output_type": "execute_result"
    }
   ],
   "source": [
    "query_engine = index.as_query_engine()\n",
    "r = query_engine.query('请解释一下什么是任务挖掘?')\n",
    "r.response"
   ]
  },
  {
   "cell_type": "code",
   "execution_count": 8,
   "id": "a3281c88-28ad-4c0f-bcbe-a042c0a678ab",
   "metadata": {},
   "outputs": [
    {
     "data": {
      "text/plain": [
       "[NodeWithScore(node=Node(text='流程挖掘原理\\n数据采集\\n可视化\\n 映射、转换\\nEvent end\\nCase IDActivity\\nA\\nB\\nC\\n...\\nABCAB\\nC2021/11/2 10:00\\n2021/10/17 10:00 2021/11/2 10:41\\nÑÏ½û¸´ÖÆ\\nÑÏ½û¸´ÖÆ\\nÑÏ½û¸´ÖÆ\\nÑÏ½û¸´ÖÆ\\nÑÏ½û¸´ÖÆ\\nÑÏ½û¸´ÖÆ\\nÑÏ½û¸´ÖÆ\\nÑÏ½û¸´ÖÆ\\nÑÏ½û¸´ÖÆ\\n能够通过收集和分析用户交互行为来了解他们如何操作任务。这样的深入了解可以帮助\\n企业实现自动化和改进流程。\\n任务挖掘\\n任务记录 任务分析 任务推荐\\nÑÏ½û¸´ÖÆ\\nÑÏ½û¸´ÖÆ\\nÑÏ½û¸´ÖÆ\\nÑÏ½û¸´ÖÆ\\nÑÏ½û¸´ÖÆ\\nÑÏ½û¸´ÖÆ\\nÑÏ½û¸´ÖÆ\\nÑÏ½û¸´ÖÆ\\nÑÏ½û¸´ÖÆ\\n任务挖掘价值\\n发现自动化机会 减少流程差距\\n流程违规警报 加快自动化交付周期\\nÑÏ½û¸´ÖÆ\\nÑÏ½û¸´ÖÆ\\nÑÏ½û¸´ÖÆ\\nÑÏ½û¸´ÖÆ\\nÑÏ½û¸´ÖÆ\\nÑÏ½û¸´ÖÆ\\nÑÏ½û¸´ÖÆ\\nÑÏ½û¸´ÖÆ\\nÑÏ½û¸´ÖÆ\\n流程挖掘、任务挖掘之间的关系\\nTask Mining互相补充Process Mining\\nÑÏ½û¸´ÖÆ\\nÑÏ½û¸´ÖÆ\\nÑÏ½û¸´ÖÆ\\nÑÏ½û¸´ÖÆ\\nÑÏ½û¸´ÖÆ\\nÑÏ½û¸´ÖÆ\\nÑÏ½û¸´ÖÆ\\nÑÏ½û¸´ÖÆ\\nÑÏ½û¸´ÖÆ\\n案例分享： RPM项目建设概况\\nRPM项目背景及历程\\n中移在线上海分公司主要负责客户的业务咨询', doc_id='248cc9e3-72e7-427f-acfc-22c12046650d', embedding=None, doc_hash='d57ef0694d9d69319511d9142063a3ad15abf8a936c1268725a90d30a63147fb', extra_info=None, node_info={'start': 1124, 'end': 1767}, relationships={<DocumentRelationship.SOURCE: '1'>: '6af0fff5-aa85-46ff-a730-552dc1c2eb09', <DocumentRelationship.PREVIOUS: '2'>: '896e9100-8552-4de3-ae30-5661a745c3a0', <DocumentRelationship.NEXT: '3'>: '534b73e5-cb75-4fe9-8dd2-fd7843dab97e'}), score=0.8553406264916946),\n",
       " NodeWithScore(node=Node(text=': \\n流程挖掘是一门新兴学科，提供了一整  \\n套工具，以提供基于事实的见解并支持\\n流程改进。这门新学科建立在流程模型\\n驱动方法和数据挖掘（ Data  Mining）的\\n基础上。然而，流程挖掘不仅仅是现有\\n方法的合并。 例如，现有的数据挖掘技术\\n过于以数据为中心，无法全面了解组织中\\n的端到端流程。 BI 工具侧重于简单的仪\\n表盘和报告，而不是清晰的业务流程洞察\\n力。 BPM  套件严重依赖于专家对理想化  \\n流程进行建模，不能帮助大众理解现有流\\n程。 图 1：流程挖掘之父范德阿尔斯特，威尔  \\n \\n他进一步指出流程挖掘作为数据和流程科学之间的超级粘合剂【2】（见图 2），其目标是将事\\n件数据转化为见解 （Insight）和行动（Action）。流程挖掘是数据科学不可分割的一部分，数\\n据的可用性和改进流程的愿望推动了流程挖掘。  \\n \\n图 2: 流程挖掘作为数据和流程科学之间的超级粘合剂（ 来源：【 2】） \\n \\n流程挖掘是一种在近几年中越来越受欢迎的技术。如图  3 所示，流程挖掘弥补了传统的、\\n基于模型的流程分析', doc_id='afe3341a-54ab-422a-bfe5-d0405cdcc05b', embedding=None, doc_hash='78eca4237128d76a76d050cc7a79df32fc76983b3f5891d1340c9fcfe706a2ac', extra_info=None, node_info={'start': 982, 'end': 1446}, relationships={<DocumentRelationship.SOURCE: '1'>: '8a9622dc-6422-4b8d-bb80-4ec2c10a81d8', <DocumentRelationship.PREVIOUS: '2'>: 'c71d3610-d753-4c87-a53c-899b732dfcca', <DocumentRelationship.NEXT: '3'>: '6c5588d4-42bc-4879-80f0-10f690e10216'}), score=0.8528502273925691)]"
      ]
     },
     "execution_count": 8,
     "metadata": {},
     "output_type": "execute_result"
    }
   ],
   "source": [
    "r.source_nodes"
   ]
  },
  {
   "cell_type": "code",
   "execution_count": 9,
   "id": "f4d87747-c69c-46ef-87f3-82bddb27c29b",
   "metadata": {},
   "outputs": [
    {
     "data": {
      "text/plain": [
       "{'248cc9e3-72e7-427f-acfc-22c12046650d': None,\n",
       " 'afe3341a-54ab-422a-bfe5-d0405cdcc05b': None}"
      ]
     },
     "execution_count": 9,
     "metadata": {},
     "output_type": "execute_result"
    }
   ],
   "source": [
    "r.extra_info"
   ]
  },
  {
   "cell_type": "code",
   "execution_count": 20,
   "id": "894e778f-e222-47cb-824b-d2f65db9a164",
   "metadata": {},
   "outputs": [],
   "source": [
    "persist_directory = 'rpmv3'\n",
    "index.storage_context.persist(persist_dir=persist_directory)"
   ]
  },
  {
   "cell_type": "code",
   "execution_count": 11,
   "id": "9ab6be1b-964f-4da0-925e-aca86c864c68",
   "metadata": {},
   "outputs": [
    {
     "data": {
      "text/plain": [
       "'\\n流程挖掘是一种新兴学科，提供了一整套工具，以提供基于事实的见解并支持流程改进。它建立在流程模型驱动方法和数据挖掘（Data Mining）的基础上，旨在将事件数据转化为见解（Insight）和行动（Action）。流程挖掘是一种基于多视角模型的流程挖掘方法和'"
      ]
     },
     "execution_count": 11,
     "metadata": {},
     "output_type": "execute_result"
    }
   ],
   "source": [
    "r = query_engine.query('请解释一下什么是流程挖掘?')\n",
    "r.response"
   ]
  },
  {
   "cell_type": "code",
   "execution_count": 12,
   "id": "33173786-3e24-4075-91b2-719a7564c62f",
   "metadata": {},
   "outputs": [
    {
     "data": {
      "text/plain": [
       "130"
      ]
     },
     "execution_count": 12,
     "metadata": {},
     "output_type": "execute_result"
    }
   ],
   "source": [
    "len(r.response)"
   ]
  },
  {
   "cell_type": "code",
   "execution_count": 13,
   "id": "e4a2e7aa-ea9e-4b34-9647-449834c0ad5f",
   "metadata": {},
   "outputs": [
    {
     "data": {
      "text/plain": [
       "[NodeWithScore(node=Node(text=': \\n流程挖掘是一门新兴学科，提供了一整  \\n套工具，以提供基于事实的见解并支持\\n流程改进。这门新学科建立在流程模型\\n驱动方法和数据挖掘（ Data  Mining）的\\n基础上。然而，流程挖掘不仅仅是现有\\n方法的合并。 例如，现有的数据挖掘技术\\n过于以数据为中心，无法全面了解组织中\\n的端到端流程。 BI 工具侧重于简单的仪\\n表盘和报告，而不是清晰的业务流程洞察\\n力。 BPM  套件严重依赖于专家对理想化  \\n流程进行建模，不能帮助大众理解现有流\\n程。 图 1：流程挖掘之父范德阿尔斯特，威尔  \\n \\n他进一步指出流程挖掘作为数据和流程科学之间的超级粘合剂【2】（见图 2），其目标是将事\\n件数据转化为见解 （Insight）和行动（Action）。流程挖掘是数据科学不可分割的一部分，数\\n据的可用性和改进流程的愿望推动了流程挖掘。  \\n \\n图 2: 流程挖掘作为数据和流程科学之间的超级粘合剂（ 来源：【 2】） \\n \\n流程挖掘是一种在近几年中越来越受欢迎的技术。如图  3 所示，流程挖掘弥补了传统的、\\n基于模型的流程分析', doc_id='afe3341a-54ab-422a-bfe5-d0405cdcc05b', embedding=None, doc_hash='78eca4237128d76a76d050cc7a79df32fc76983b3f5891d1340c9fcfe706a2ac', extra_info=None, node_info={'start': 982, 'end': 1446}, relationships={<DocumentRelationship.SOURCE: '1'>: '8a9622dc-6422-4b8d-bb80-4ec2c10a81d8', <DocumentRelationship.PREVIOUS: '2'>: 'c71d3610-d753-4c87-a53c-899b732dfcca', <DocumentRelationship.NEXT: '3'>: '6c5588d4-42bc-4879-80f0-10f690e10216'}), score=0.9090726781703465),\n",
       " NodeWithScore(node=Node(text='流程挖掘技术领域， 具体为一种基于多视角模型的流程挖掘方法和系\\n统。\\n背景技术\\n[0002]流程挖掘： 英文名Process \\xa0Mining， 是一种通过IT系统中的任务日志， 建立一个基\\n于真实数据的流程模 型， 提高商业流程透明度的， 为商业决断者提供帮助的技术。 在企业的\\n实际运行中， 一个完整的商业周期往往要经历漫长而复杂的流程， 这些流程需要不同的部\\n门和人员以及系统合作才能完成。 以常见的订单到付款流程(O2C \\xa0Process)为例， 这个流程\\n往往经历五个阶段， 即订单管理、 订单履行和运输、 发票生成和支 付、 应收账款和报告等， 这\\n些流程在不同的系统中由不同的部门管理；\\n[0003]为了能够追踪全部的流程， 我们需要将各个部门的流程日志合并成一个完整的流\\n程日志来进行流程挖掘。 一般情况下， 这个问题被归纳在并表问题的范畴， 但 流程日志作为\\n流程挖掘最重要的数据输入， 流程日志的并表问题无法被传统的业务表格的连接与映射的\\n方法很好 地解决；\\n[0004]其中两类问题是传统的并表方法无法解决的。 其一， 在不 同的流程中案例的视角\\n是不同的， 以说明书附图2中的网购流程为例。 这个流程从头到尾可以分成四个部分，', doc_id='8e65bf3b-d9c3-4dc4-a8b6-9bc4ce3a2ba1', embedding=None, doc_hash='0deff121eab2de5b17704784c8b21d5a467265d209e0b2cefa103f1e8a8273b1', extra_info=None, node_info={'start': 2424, 'end': 2948}, relationships={<DocumentRelationship.SOURCE: '1'>: '86e5d7bf-a360-41a4-b118-2a2718154950', <DocumentRelationship.PREVIOUS: '2'>: '5d9f2332-b799-42d8-a0e3-53b1ae7e51d0', <DocumentRelationship.NEXT: '3'>: '0c70790a-3fbc-4bb7-8380-d634015b3387'}), score=0.8985219973862333)]"
      ]
     },
     "execution_count": 13,
     "metadata": {},
     "output_type": "execute_result"
    }
   ],
   "source": [
    "r.source_nodes"
   ]
  },
  {
   "cell_type": "code",
   "execution_count": null,
   "id": "25b29445-f087-4fb9-a048-8c5d9820a217",
   "metadata": {},
   "outputs": [],
   "source": []
  }
 ],
 "metadata": {
  "kernelspec": {
   "display_name": "Python 3 (ipykernel)",
   "language": "python",
   "name": "python3"
  },
  "language_info": {
   "codemirror_mode": {
    "name": "ipython",
    "version": 3
   },
   "file_extension": ".py",
   "mimetype": "text/x-python",
   "name": "python",
   "nbconvert_exporter": "python",
   "pygments_lexer": "ipython3",
   "version": "3.9.13"
  }
 },
 "nbformat": 4,
 "nbformat_minor": 5
}
