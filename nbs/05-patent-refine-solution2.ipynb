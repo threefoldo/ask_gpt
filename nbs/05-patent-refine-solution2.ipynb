{
 "cells": [
  {
   "cell_type": "markdown",
   "id": "9327a203-ea77-462a-b4a3-6d8851e55090",
   "metadata": {},
   "source": [
    "单独测试prompt；\n",
    "1，对于原始问题，通过更多的问话来引导模型补充完整的内容；\n",
    "2，对于解决方案，先让模型给出多个思路，然后综合自动生成的与原始的方案，给出一个更加完备的方案。\n",
    "3，为了避免解决方案过于简单，再对它生成提供测试案例或者更多的问话，以这样的方式来完善其中的技术细节。\n",
    "4，有了详细的问题描述和解决方案，其他的部分就相对容易了。\n"
   ]
  },
  {
   "cell_type": "code",
   "execution_count": 1,
   "id": "efddb790-e7a9-4f0a-b1b5-38d0bb187ca1",
   "metadata": {},
   "outputs": [],
   "source": [
    "import os\n",
    "from dotenv import load_dotenv\n",
    "from datetime import datetime\n",
    "\n",
    "import openai\n",
    "from IPython.display import HTML, display\n",
    "from ipywidgets import widgets\n",
    "from langchain.chains import ConversationalRetrievalChain\n",
    "from langchain.chat_models import ChatOpenAI\n",
    "from langchain.document_loaders import DirectoryLoader\n",
    "from langchain.vectorstores import Chroma\n",
    "\n",
    "from langchain.chains import LLMChain\n",
    "from langchain.chains.question_answering import load_qa_chain\n",
    "from langchain.prompts import PromptTemplate\n",
    "from langchain.prompts.chat import ChatPromptTemplate\n",
    "from langchain.memory import ConversationBufferMemory, ConversationSummaryBufferMemory\n",
    "\n",
    "\n",
    "load_dotenv(\"../openai.env\")\n",
    "llm = ChatOpenAI(model_name=\"gpt-4-0613\", temperature=0.7, max_tokens=3000)"
   ]
  },
  {
   "cell_type": "code",
   "execution_count": 2,
   "id": "701da128-4e82-46af-870b-7c342a8aff20",
   "metadata": {},
   "outputs": [],
   "source": [
    "raw_question = \"\"\"使用ChatGPT可以生成能够正常运行的、不太复杂的代码，所以也可用于生成RPA代码（模拟人工操作来实现UI任务的自动化执行）。\n",
    "一般的方法是编写一个比较详细的生成提示词，包含生成步骤和各种约束，让它直接生成最终代码，但是这样的生成过程难以控制，比如使用了不存在的库函数，\n",
    "或者缺少必要的数据等等，也难以保证生成的流程可以正确执行。\n",
    "为了保证实现方法足够简单，在提供解决方案时，除了chatgpt，请不要使用任何别的机器学习或者深度学习方法。\"\"\"\n",
    "raw_solution = \"\"\"基本思路是将生成RPA流程的复杂过程拆分为几个步骤，包括生成需求描述、生成主要步骤、生成每一个步骤的执行代码、生成每一个步骤的测试代码。\n",
    "全部文档和代码生成完成之后，执行生成的测试代码，再根据错误提示来更新主步骤的代码，直接所有的测试代码完成。\n",
    "这样，通过多步骤和多次迭代的方式，将复杂的RPA流程生成过程分解为多个更简单、具体的生成步骤，\n",
    "既能充分利用chatgpt已经掌握的常识，还能够让几个不同部分的内容相互引用，进一步保证生成代码的有效性，即通过需求说明书生成代码，通过测试用例生成测试代码，通过测试代码来检验RPA流程代码。\n",
    "\"\"\""
   ]
  },
  {
   "cell_type": "code",
   "execution_count": 3,
   "id": "59d31d73-911c-4582-93d5-5c6346ee1d6f",
   "metadata": {},
   "outputs": [],
   "source": [
    "template_rewriteq = '''你是一个专业的软件方法方向的专利代理，你的任务是帮助专利发明人完善发明点设计。\n",
    "发明人的问题描述往往比较模糊，只集中于核心的概念和逻辑，对于问题相关的背景、价值和创新描述模糊不清。\n",
    "请根据以下提示，为发明人的简单描述补充相关信息，重新生成一个更好的问题描述：\n",
    "1，这个发明解决了什么具体的软件或计算问题吗？\n",
    "2，那些用户、软件系统或计算环境会遇到这个问题？\n",
    "3，你能举一个这个软件问题通常出现的例子吗？\n",
    "4，这个问题如何影响软件系统或应用的操作、效率或用户体验？\n",
    "5，目前存在哪些针对这个问题的软件或算法解决方案？他们在哪些方面不够完善、高效或者对用户不友好？\n",
    "6，在技术领域或者行业发展中，有哪些最近或即将发生的变化使得这个问题变得特别相关或紧迫？\n",
    "7，你能量化这个问题吗？有没有任何统计数据或者度量标准能够说明其对计算性能、系统效率或用户体验的影响？\n",
    "8，这个问题如何影响不同的利益相关者（例如：开发人员、终端用户、系统管理员、业务所有者）？\n",
    "9，这个软件问题是被广泛认知的，还是说你的发明揭示了它？\n",
    "10，解决这个问题有没有任何特定的软件、硬件或系统约束？\n",
    "\n",
    "发明人提供的问题描述: {raw_question}\n",
    "\n",
    "系统的、详细的、完整的问题描述是：'''\n",
    "\n",
    "prompt_rewriteq = PromptTemplate(input_variables=['raw_question'], template=template_rewriteq)\n",
    "rewriteq_chain = LLMChain(llm=llm, prompt=prompt_rewriteq, output_key='question')"
   ]
  },
  {
   "cell_type": "code",
   "execution_count": 4,
   "id": "db05a10d-82ca-4d44-a29d-637c0a26b2d0",
   "metadata": {},
   "outputs": [
    {
     "name": "stdout",
     "output_type": "stream",
     "text": [
      "本发明旨在解决使用ChatGPT生成可运行的RPA（Robotic Process Automation）代码的问题。RPA是一种模拟人工操作来实现UI任务的自动化执行的技术，广泛应用于各种软件系统和计算环境中。 例如，一个典型的RPA任务可能是自动从网页上抓取数据并填充到Excel表格中。\n",
      "\n",
      "然而，使用ChatGPT生成RPA代码的过程中存在一些关键的挑战。首先，生成代码的过程难以控制，例如，生成的代码可能使用了不存在的库函数，或者缺少必要的数据。其次，由于ChatGPT生成的代码可能存在错误，也难以保证生成的流程可以正确执行。\n",
      "\n",
      "这些问题会严重影响软件系统或应用的操作、效率和用户体验。目前存在的解决方案，如提供更详细的生成提示词，虽然可以在一定程度上解决这个问题，但是仍然存在不足。例如，这种方法仍然无法保证生成的代码是正确的，也无法解决生成过程中的控制问题。\n",
      "\n",
      "最近，随着机器学习和深度学习的发展，生成代码的技术变得越来越重要。在这种背景下，解决使用ChatGPT生成RPA代码的问题变得特别相关和紧迫。\n",
      "\n",
      "为了量化这个问题，我们可以通过统计生成的代码中错误的数量，以及执行生成的流程的成功率来衡量其影响。这个问题不仅影响到开发人员，因为他们需要生成和维护RPA代码，也影响到终端用户，因为他们需要使用生成的代码来完成任务。\n",
      "\n",
      "这个软件问题是广泛认知的，但是本发明揭示了使用ChatGPT生成RPA代码中的一些新的问题和挑战。在提供解决方案时，我们需要遵守一些特定的软件、硬件或系统约束，例如，我们不能使用任何别的机器学习或者深度学习方法。\n"
     ]
    }
   ],
   "source": [
    "question = rewriteq_chain.run(raw_question)\n",
    "print(question)"
   ]
  },
  {
   "cell_type": "code",
   "execution_count": 5,
   "id": "c9af9044-f61b-486f-9aa1-0e24ed0764c5",
   "metadata": {},
   "outputs": [
    {
     "name": "stdout",
     "output_type": "stream",
     "text": [
      "1. ChatGPT: 这是一个使用深度学习技术训练的语言生成模型，用于生成人类般的文本。它可以理解和生成文本，用于各种应用，包括生成代码。\n",
      "\n",
      "2. RPA（Robotic Process Automation）: 这是一种技术，用于通过模拟人的行为来自动执行UI任务。例如，它可以模拟人在网页上抓取数据并将其填充到Excel表格中。\n",
      "\n",
      "3. 库函数：这是预先编写好的函数，存储在库中，可以在任何需要的地方调用。如果生成的代码使用了不存在的库函数，那么代码将无法运行。\n",
      "\n",
      "4. 生成提示词：这是一种方法，用于指导ChatGPT生成代码。提示词可能包含生成步骤和各种约束，以帮助模型生成正确的代码。\n",
      "\n",
      "5. 机器学习和深度学习：这些是人工智能的子领域，用于从数据中学习并做出预测或决策。在本问题中，发明人明确指出不应使用这些方法。\n",
      "\n",
      "6. 错误的数量和成功率：这是两种评价生成代码质量的指标。错误的数量表示生成的代码中存在多少错误，而成功率表示生成的流程可以正确执行的频率。\n",
      "\n",
      "关系：ChatGPT通过理解生成提示词来生成RPA代码，但生成过程可能会出现错误，如使用不存在的库函数或缺少必要的数据。这些错误会影响生成代码的质量，从而影响软件的操作、效率和用户体验。评价生成代码质量的方式是统计错误的数量和执行生成流程的成功率。在寻求解决方案时，需遵守一些约束，如不能使用任何其他机器学习或深度学习方法。\n"
     ]
    }
   ],
   "source": [
    "template_commentq = '''你是一个著名的产品经理，请根据发明人提供的问题描述和自动扩充的问题描述，提取其中涉及到的核心概念、术语。\n",
    "请提供这些概念、术语的精简描述，并说明它们之间可能存在的逻辑或者语义关系。对于复杂的技术或者过程，请提供示例来说明，以方便理解。\n",
    "\n",
    "发明人提供的问题描述: {raw_question}\n",
    "自动扩充的问题描述: {question}\n",
    "\n",
    "概念和术语的介绍：'''\n",
    "\n",
    "prompt_commentq = PromptTemplate(input_variables=['raw_question', 'question'], template=template_commentq)\n",
    "commentq_chain = LLMChain(llm=llm, prompt=prompt_commentq, output_key='commentq')\n",
    "\n",
    "commentq = commentq_chain.run({'raw_question': raw_question, 'question': question})\n",
    "print(commentq)"
   ]
  },
  {
   "cell_type": "code",
   "execution_count": 6,
   "id": "364cc942-8237-4fdf-b2f8-66764cf1f41c",
   "metadata": {
    "tags": []
   },
   "outputs": [],
   "source": [
    "def run_prompt(llm, inputs, outputs, template, params):\n",
    "    prompt = PromptTemplate(input_variables=inputs, template=template)\n",
    "    chain = LLMChain(llm=llm, prompt=prompt, output_key=outputs)\n",
    "    return chain.run(params)"
   ]
  },
  {
   "cell_type": "code",
   "execution_count": 8,
   "id": "b059a80a-d5da-4a65-9ef2-38bc1d5b72e8",
   "metadata": {
    "tags": []
   },
   "outputs": [
    {
     "name": "stdout",
     "output_type": "stream",
     "text": [
      "1，核心概念和术语：\n",
      "- ChatGPT：OpenAI的一个预训练模型，可用于生成人类一样的文本。\n",
      "- RPA（Robotic Process Automation）：模拟人工操作来实现UI任务的自动化执行的技术。\n",
      "- 测试代码：用于检验程序是否按预期运行的代码。\n",
      "\n",
      "2，设计示例业务数据：\n",
      "- 需求描述：自动从一个特定网页上提取所有的电子邮件地址，并保存到Excel表格中。\n",
      "- 主要步骤：打开网页，找到所有的电子邮件地址，打开Excel，输入电子邮件地址。\n",
      "- 执行代码：具体实现上述步骤的代码。\n",
      "- 测试代码：测试执行代码是否正确的代码。\n",
      "\n",
      "3，处理步骤：\n",
      "- 步骤一：生成需求描述\n",
      "  - 输入：业务需求\n",
      "  - 输出：需求描述\n",
      "  - 算法：利用ChatGPT生成需求描述\n",
      "- 步骤二：生成主要步骤\n",
      "  - 输入：需求描述\n",
      "  - 输出：主要步骤\n",
      "  - 算法：利用ChatGPT生成主要步骤\n",
      "- 步骤三：生成每一个步骤的执行代码\n",
      "  - 输入：主要步骤\n",
      "  - 输出：执行代码\n",
      "  - 算法：利用ChatGPT生成执行代码\n",
      "- 步骤四：生成每一个步骤的测试代码\n",
      "  - 输入：执行代码\n",
      "  - 输出：测试代码\n",
      "  - 算法：利用ChatGPT生成测试代码\n",
      "- 步骤五：执行生成的测试代码\n",
      "  - 输入：测试代码\n",
      "  - 输出：测试结果\n",
      "  - 算法：执行测试代码，根据错误提示更新主步骤的代码，直到所有的测试代码完成。\n",
      "\n",
      "以上这个实现方案满足了前面提到的所有条件，包含了核心数据和算法描述，与发明人的解决方案有相同的含义，通过一系列处理过程，最初的业务数据转换成了想要结果数据，每一个处理步骤只能使用最初的业务数据和前面步骤的输出数据。\n"
     ]
    }
   ],
   "source": [
    "template_refineq = '''你是一个专业的程序员，精通常用算法和数据结构，并有非常丰富的机器学习和深度学习开发经验。\n",
    "你的任务是根据两个版本的问题描述，完善发明人提供的解决方案，补充解决方案中缺失的处理步骤，为每一步处理提供具体的算法实现。\n",
    "请根据以下步骤来执行：\n",
    "1，总结解决方案中涉及到的核心概念和术语；\n",
    "2，根据对应的业务场景，设计对应的示例业务数据；\n",
    "3，将发明人的解决方案转换为一系列处理步骤，每个处理步骤都有输入和输出数据；\n",
    "\n",
    "最终的实现方案应该是具体的、详细的，任何程序员都可以按照这个实现方案将最终的功能实现出来。\n",
    "同时，这个实现方案需要满足以下条件：\n",
    "1，它包含核心数据和算法描述，与发明人的解决方案有相同的含义；\n",
    "2，通过一系列处理过程，最初的业务数据转换成了想要结果数据；\n",
    "3，每一个处理步骤只能使用最初的业务数据和前面步骤的输出数据；\n",
    "\n",
    "简略的问题描述: {raw_question}\n",
    "详细的问题描述: {question}\n",
    "发明人的解决方案：{raw_solution}\n",
    "\n",
    "具体的实现描述：'''\n",
    "\n",
    "refineq = run_prompt(llm, ['raw_question', 'question', 'raw_solution'], 'refineq', template_refineq, \n",
    "                      {'raw_question': raw_question, 'question': question, 'raw_solution': raw_solution})\n",
    "print(refineq)"
   ]
  },
  {
   "cell_type": "code",
   "execution_count": null,
   "id": "4ad4a817-1b7c-4062-af32-d40b8f51f855",
   "metadata": {},
   "outputs": [],
   "source": []
  },
  {
   "cell_type": "code",
   "execution_count": null,
   "id": "a97087d3-a963-4ca1-8c2e-55d40cf396df",
   "metadata": {},
   "outputs": [],
   "source": []
  },
  {
   "cell_type": "code",
   "execution_count": null,
   "id": "bfbcfcd4-64ea-4af0-afc3-4af01fc057d3",
   "metadata": {},
   "outputs": [],
   "source": []
  },
  {
   "cell_type": "code",
   "execution_count": null,
   "id": "d2fad307-a5fe-4b00-a8fe-b0d5452c8e5b",
   "metadata": {},
   "outputs": [],
   "source": []
  },
  {
   "cell_type": "code",
   "execution_count": 9,
   "id": "98fb3203-71ce-4667-a4c2-20017df2056b",
   "metadata": {},
   "outputs": [
    {
     "name": "stdout",
     "output_type": "stream",
     "text": [
      "解决方案一：\n",
      "基本思路是生成一个上下文敏感的RPA代码生成器，通过ChatGPT生成伪代码，然后转化为具体的RPA代码。\n",
      "- 使用的算法：基于transformer的自然语言处理模型，根据输入的需求描述生成初步的RPA伪代码。\n",
      "- 数据描述：输入数据为用户提供的需求描述，输出数据为RPA代码。\n",
      "- 技术分析：通过转化为伪代码的方式可以简化代码生成的复杂度，同时也可以通过生成的伪代码进行进一步的微调和优化。\n",
      "- 实现步骤：\n",
      "  - 用户输入需求描述\n",
      "  - 使用ChatGPT生成对应的伪代码\n",
      "  - 将伪代码转化为具体的RPA代码\n",
      "  - 通过RPA系统运行生成的代码，进行验证和优化\n",
      "\n",
      "解决方案二：\n",
      "基本思路是使用ChatGPT生成一个RPA任务脚本的草稿，然后通过人机交互的方式进行优化和完善。\n",
      "- 使用的算法：基于transformer的自然语言处理模型，根据输入的需求描述生成初步的RPA代码。\n",
      "- 数据描述：输入数据为用户提供的需求描述，输出数据为RPA代码。\n",
      "- 技术分析：通过人机交互的方式可以有效地处理生成代码的错误和缺失，同时也可以提高生成代码的成功率。\n",
      "- 实现步骤：\n",
      "  - 用户输入需求描述\n",
      "  - 使用ChatGPT生成对应的RPA任务脚本草稿\n",
      "  - 用户核对并优化生成的脚本\n",
      "  - 用户确认并运行生成的脚本\n",
      "\n",
      "解决方案三：\n",
      "基本思路是通过ChatGPT生成RPA任务流程图，然后使用专门的工具将流程图转化为具体的RPA代码。\n",
      "- 使用的算法：基于transformer的自然语言处理模型，根据输入的需求描述生成初步的RPA任务流程图。\n",
      "- 数据描述：输入数据为用户提供的需求描述，输出数据为RPA任务流程图。\n",
      "- 技术分析：通过生成流程图的方式可以更直观地展示RPA任务的执行过程，同时也可以通过专门的工具将流程图转化为具体的RPA代码。\n",
      "- 实现步骤：\n",
      "  - 用户输入需求描述\n",
      "  - 使用ChatGPT生成对应的RPA任务流程图\n",
      "  - 使用专门的工具将流程图转化为具体的RPA代码\n",
      "  - 通过RPA系统运行生成的代码，进行验证和优化\n"
     ]
    }
   ],
   "source": [
    "template_candidates = '''你们是三个著名的程序员，请基于问题描述、专利发明人提供的解决方案和实现过程描述，各自提供一个具体的且有创新性的解决方案。\n",
    "生成的解决方案要满足以下要求：\n",
    "1，解决方案可以转换为代码设计说明书，并且方便使用代码来实现；\n",
    "2，每个解决方案要包含基本的解决思路，使用的算法和数据描述，技术分析，以及实现步骤。\n",
    "3，技术分析应该包括所用的算法，以及论证这个算法能够解决当前问题的分析。\n",
    "4，解决步骤不应该存在多余的步骤，同时也不能缺失必须的处理过程。\n",
    "5，发明人提供的解决方案可以用于参考，也可以直接引用，只要最终的方案能够解决问题就可以。\n",
    "\n",
    "待解决的问题: {question}\n",
    "发明人的解决方案：{raw_solution}\n",
    "实现过程描述：{refineq}\n",
    "\n",
    "请一步步思考，确保解决方案能够解决上述问题，三个解决方案分别是：'''\n",
    "\n",
    "candidates = run_prompt(llm, ['question', 'raw_solution', 'refineq'], 'candidates', template_candidates, \n",
    "                      {'question': question, 'raw_solution': raw_solution, 'refineq': refineq})\n",
    "print(candidates)"
   ]
  },
  {
   "cell_type": "code",
   "execution_count": 11,
   "id": "4ae3e006-40ad-4019-b7bc-de00348c601a",
   "metadata": {},
   "outputs": [
    {
     "name": "stdout",
     "output_type": "stream",
     "text": [
      "基于上述的几个解决方案，我们可以设计一个新的解决方案：基于ChatGPT的上下文敏感的RPA代码生成器，该生成器不仅能够生成RPA代码，还能生成对应的测试代码以及任务流程图。\n",
      "\n",
      "基本思路：生成器会根据用户的需求描述，首先生成一个RPA任务流程图和对应的伪代码，然后将伪代码转化为具体的RPA代码，同时生成对应步骤的测试代码。这个过程会经历多次迭代，直到所有的测试代码都能成功执行。\n",
      "\n",
      "使用的算法：基于transformer的自然语言处理模型，根据输入的需求描述生成RPA任务流程图和伪代码，再转化为具体的RPA代码和测试代码。\n",
      "\n",
      "数据描述：输入数据为用户提供的需求描述，输出数据为RPA任务流程图，具体的RPA代码以及对应的测试代码。\n",
      "\n",
      "具体解决步骤：\n",
      "1. 用户输入需求描述\n",
      "2. 使用ChatGPT生成对应的RPA任务流程图和伪代码\n",
      "3. 将伪代码转化为具体的RPA代码以及对应的测试代码\n",
      "4. 在RPA系统中运行生成的代码和测试代码，记录错误信息\n",
      "5. 根据运行结果和错误信息，修正RPA代码和测试代码\n",
      "6. 重复步骤4和步骤5，直到所有的测试代码都能成功执行。\n",
      "\n",
      "这个方案与一般的解决方法不同在于，我们不仅生成RPA代码，同时也生成对应的测试代码，通过测试代码来检查和修正RPA代码，从而提高生成代码的质量和可靠性。\n",
      "\n",
      "创新点对应的优势和价值：一方面，我们的方法能有效提高代码生成的质量和可靠性，减少生成代码的错误率，从而提高RPA任务的执行效率；另一方面，生成的任务流程图能帮助用户更好地理解和掌握RPA任务的执行过程，提高用户的工作效率。\n"
     ]
    }
   ],
   "source": [
    "template_rewritea = '''你是一个在知名大公司工作的软件系统架构师，你的任务是根据问题描述和多个解决方案，重新实现一个详细的、现实可行的实现方案。\n",
    "这个解决方案需要满足以下条件：\n",
    "1，它是可实现的，能够根据它来写出对应的代码；同时，它有创新性，可以用于专利申请；\n",
    "2，它不需要考虑所有的可能性，只要能够解决最核心的问题即可。\n",
    "3，请描述它的基本思路是什么？用到了哪些成熟算法和数据？\n",
    "4，请具体分析这个解决思路是如何解决这个问题的。\n",
    "5，它与一般的解决方法有什么不同？不管是算法上的不同，应用场景的不同，还是使用的数据不同都可以。\n",
    "6，创新点对应的优势和价值是什么？如果创新点的价值不高，可以通过什么样的方法来提高？\n",
    "7，它的具体解决步骤是什么？可以综合多个解决方案中的实现，但要保证每个步骤都是必须的，而且能够解决核心问题。\n",
    "\n",
    "问题描述: {question}\n",
    "自动生成的解决方案: {candidates}\n",
    "发明人提供的解决方案：{raw_solution}\n",
    "\n",
    "请重新生成一个具备创新性的解决方案：'''\n",
    "\n",
    "\n",
    "solution = run_prompt(llm, ['question', 'raw_solution', 'candidates'], 'solution', template_rewritea, \n",
    "                      {'question': question, 'raw_solution': raw_solution, 'candidates': candidates})\n",
    "print(solution)"
   ]
  },
  {
   "cell_type": "code",
   "execution_count": null,
   "id": "96b563b5-ddaa-4be1-96f2-1d3364854cec",
   "metadata": {},
   "outputs": [],
   "source": []
  },
  {
   "cell_type": "code",
   "execution_count": 12,
   "id": "2ad57207-2cd9-4142-a2b5-6be4c55f37ad",
   "metadata": {},
   "outputs": [
    {
     "name": "stdout",
     "output_type": "stream",
     "text": [
      "1，可以根据这个解决方案来解决对应的问题吗？如果不能，请给出理由，并提供解决方法；\n",
      "答：可以。这个解决方案的核心思想是生成RPA代码的同时，也生成对应的测试代码，通过测试来检查和修正RPA代码，从而提高代码的质量和可靠性。这种方法更偏向于测试驱动开发(TDD)，可以有效地提高代码的质量和减少错误。\n",
      "\n",
      "2，实现这个解决方案都需要哪些数据？评估获取这些数据的工作量；\n",
      "答：实现这个解决方案需要的数据主要是用户的需求描述。这些需求描述可以直接由用户提供，或者通过收集用户的操作行为和使用习惯来获取。获取这些数据的工作量主要取决于用户的数量和复杂性。\n",
      "\n",
      "3，在解决方案的执行步骤中，有哪些步骤并不是必要的，或者它们创造的价值小于提供相应数据的代价；\n",
      "答：在这个解决方案中，所有的步骤都是必要的。生成任务流程图、伪代码、RPA代码和测试代码是解决问题的核心步骤，运行和修正代码是保证代码质量的关键步骤。\n",
      "\n",
      "4，针对解决方案的必须步骤，提供具体的实现说明；可以用伪代码来表示；若是某个步骤过于复杂，请将它拆分为多个子步骤后，再提供实现说明；\n",
      "答：以下是解决方案的具体实现说明：\n",
      "\n",
      "```python\n",
      "# 输入用户需求描述\n",
      "user_requirement = input()\n",
      "\n",
      "# 使用ChatGPT生成任务流程图和伪代码\n",
      "flowchart, pseudocode = ChatGPT.generate(user_requirement)\n",
      "\n",
      "# 将伪代码转化为RPA代码和测试代码\n",
      "rpa_code, test_code = pseudocode_to_code(pseudocode)\n",
      "\n",
      "# 在RPA系统中运行代码和测试代码\n",
      "errors = run_and_test(rpa_code, test_code)\n",
      "\n",
      "# 如果存在错误，则修正代码\n",
      "while errors:\n",
      "    rpa_code, test_code = correct_code(rpa_code, test_code, errors)\n",
      "    errors = run_and_test(rpa_code, test_code)\n",
      "\n",
      "# 返回生成的RPA代码\n",
      "return rpa_code\n",
      "```\n",
      "\n",
      "5，在涉及算法和数据时，请提供具体的示例；\n",
      "答：例如，用户的需求描述是\"我想从网页上抓取一些数据并填充到Excel表格中\"，ChatGPT生成的任务流程图是\"打开网页->抓取数据->填充到Excel\"，对应的伪代码是\n",
      "\n",
      "```python\n",
      "# 打开网页\n",
      "open_webpage(url)\n",
      "\n",
      "# 抓取数据\n",
      "data = scrape_data()\n",
      "\n",
      "# 填充到Excel\n",
      "fill_excel(data)\n",
      "```\n",
      "\n",
      "然后将这个伪代码转化为具体的RPA代码和测试代码，运行并测试这些代码，如果存在错误，则修正这些错误，直到所有的测试代码都能成功执行。\n"
     ]
    }
   ],
   "source": [
    "template_reflextion = '''你是一个著名的程序员，请根据问题描述和选定的解决方案，回答以下问题：\n",
    "1，可以根据这个解决方案来解决对应的问题吗？如果不能，请给出理由，并提供解决方法；\n",
    "2，实现这个解决方案都需要哪些数据？评估获取这些数据的工作量；\n",
    "3，在解决方案的执行步骤中，有哪些步骤并不是必要的，或者它们创造的价值小于提供相应数据的代价；\n",
    "4，针对解决方案的必须步骤，提供具体的实现说明；可以用伪代码来表示；若是某个步骤过于复杂，请将它拆分为多个子步骤后，再提供实现说明；\n",
    "5，在涉及算法和数据时，请提供具体的示例；\n",
    "\n",
    "问题描述: {question}\n",
    "解决方案: {solution}\n",
    "\n",
    "针对解决方案的说明：'''\n",
    "\n",
    "\n",
    "reflextion = run_prompt(llm, ['question', 'solution'], 'reflextion', template_reflextion, \n",
    "                      {'question': question, 'solution': solution})\n",
    "print(reflextion)"
   ]
  },
  {
   "cell_type": "code",
   "execution_count": 13,
   "id": "09f79f6b-37fb-44fd-ba6c-6be313d36365",
   "metadata": {},
   "outputs": [
    {
     "name": "stdout",
     "output_type": "stream",
     "text": [
      "1，解决方案的可行性：这个方案是可行的，因为ChatGPT是一个强大的自然语言生成模型，能够根据用户的需求描述生成相应的代码和测试代码。\n",
      "\n",
      "2，需要的数据：输入数据为用户提供的需求描述，例如“我需要从一个网页上抓取数据并填充到Excel表格中”。输出数据为RPA任务流程图，具体的RPA代码以及对应的测试代码。由于输入数据来自用户，获取这些数据的工作量较小，只需设置一个用户输入界面即可。\n",
      "\n",
      "3，非必要的步骤：这个解决方案中所有的步骤都是必要的。每一个步骤都在为最后的目标——生成可执行的、无错误的RPA代码和测试代码服务。\n",
      "\n",
      "4，具体实现说明：\n",
      "   - 步骤1：设置一个用户输入界面，让用户输入他们的需求描述。\n",
      "   - 步骤2：使用ChatGPT生成对应的RPA任务流程图和伪代码。这可以通过调用OpenAI的GPT-3 API实现。输入为用户的需求描述，输出为RPA任务流程图和伪代码。\n",
      "   - 步骤3：将伪代码转化为具体的RPA代码以及对应的测试代码。这可以通过编写一个转换函数实现，该函数接收伪代码为输入，输出RPA代码和测试代码。\n",
      "   - 步骤4：在RPA系统中运行生成的代码和测试代码，记录错误信息。这需要一个RPA执行环境，可以使用现有的RPA工具，如UiPath、Automation Anywhere等。\n",
      "   - 步骤5：根据运行结果和错误信息，修正RPA代码和测试代码。这可以通过编写一个修正函数实现，该函数接收错误信息为输入，输出修正后的RPA代码和测试代码。\n",
      "   - 步骤6：重复步骤4和步骤5，直到所有的测试代码都能成功执行。这可以通过一个循环实现。\n",
      "\n",
      "5，算法和数据示例：\n",
      "   - 算法：使用基于transformer的自然语言处理模型生成RPA任务流程图和伪代码，转化为具体的RPA代码和测试代码。\n",
      "   - 数据示例：用户输入需求描述“我需要从一个网页上抓取数据并填充到Excel表格中”，输出RPA任务流程图，RPA代码和测试代码。\n"
     ]
    }
   ],
   "source": [
    "template_reflextion2 = '''你是一个著名的程序员，请根据问题描述和选定的解决方案，提供一个详细的代码实现说明书。\n",
    "请根据以下提示，生成一份代码实现说明：\n",
    "1，可以根据这个解决方案来实现相应的功能吗？如果不能，请给出理由，并补充解决方法；\n",
    "2，实现这个解决方案都需要哪些数据？评估获取这些数据的工作量；\n",
    "3，在解决方案的执行步骤中，有哪些步骤并不是必要的，或者它们创造的价值小于提供相应数据的代价；\n",
    "4，针对解决方案的必须步骤，提供具体的实现说明；若是某个步骤过于复杂，请将它拆分为多个子步骤后，再提供实现说明；\n",
    "5，在涉及算法时，请给出具体的算法名；在涉及到数据时，请提供一个示例；\n",
    "\n",
    "问题描述: {question}\n",
    "解决方案: {solution}\n",
    "\n",
    "针对解决方案的说明：'''\n",
    "\n",
    "\n",
    "reflextion = run_prompt(llm, ['question', 'solution'], 'reflextion', template_reflextion2, \n",
    "                      {'question': question, 'solution': solution})\n",
    "print(reflextion)"
   ]
  },
  {
   "cell_type": "code",
   "execution_count": null,
   "id": "81d40f6e-6d33-45e0-be5e-3c000fd8f971",
   "metadata": {},
   "outputs": [],
   "source": []
  }
 ],
 "metadata": {
  "kernelspec": {
   "display_name": "Python 3 (ipykernel)",
   "language": "python",
   "name": "python3"
  },
  "language_info": {
   "codemirror_mode": {
    "name": "ipython",
    "version": 3
   },
   "file_extension": ".py",
   "mimetype": "text/x-python",
   "name": "python",
   "nbconvert_exporter": "python",
   "pygments_lexer": "ipython3",
   "version": "3.9.13"
  }
 },
 "nbformat": 4,
 "nbformat_minor": 5
}
