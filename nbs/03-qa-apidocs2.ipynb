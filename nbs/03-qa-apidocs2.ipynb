{
 "cells": [
  {
   "cell_type": "code",
   "execution_count": 1,
   "id": "d4ddd2fd-a069-476b-ac03-6c1002dc05d7",
   "metadata": {},
   "outputs": [
    {
     "data": {
      "text/plain": [
       "True"
      ]
     },
     "execution_count": 1,
     "metadata": {},
     "output_type": "execute_result"
    }
   ],
   "source": [
    "import os\n",
    "from dotenv import load_dotenv\n",
    "from datetime import datetime\n",
    "\n",
    "import openai\n",
    "from IPython.display import HTML, display\n",
    "from ipywidgets import widgets\n",
    "from langchain.chains import ConversationalRetrievalChain\n",
    "from langchain.chat_models import ChatOpenAI\n",
    "from langchain.document_loaders import DirectoryLoader\n",
    "from langchain.vectorstores import Chroma\n",
    "\n",
    "load_dotenv()"
   ]
  },
  {
   "cell_type": "code",
   "execution_count": 2,
   "id": "2e16adde-8f33-4506-9bc8-a9ef2426f3fc",
   "metadata": {},
   "outputs": [
    {
     "name": "stdout",
     "output_type": "stream",
     "text": [
      "azure https://test0406.openai.azure.com/ 2023-03-15-preview\n"
     ]
    }
   ],
   "source": [
    "from langchain.embeddings.openai import OpenAIEmbeddings\n",
    "from langchain.text_splitter import CharacterTextSplitter\n",
    "\n",
    "\n",
    "text_splitter = CharacterTextSplitter(        \n",
    "    separator = \"\\n\",\n",
    "    chunk_size = 600,\n",
    "    chunk_overlap = 100,\n",
    "    length_function = len,\n",
    ")\n",
    "\n",
    "openai.api_type = os.getenv(\"OPENAI_API_TYPE\")\n",
    "openai.api_key = os.getenv(\"OPENAI_API_KEY\")\n",
    "openai.api_base = os.getenv(\"OPENAI_API_BASE\")\n",
    "openai.api_version = os.getenv(\"OPENAI_API_VERSION\")\n",
    "print(openai.api_type, openai.api_base, openai.api_version)\n",
    "\n",
    "embeddings = OpenAIEmbeddings(model='text-embedding-ada-002',\n",
    "                              deployment='emb0614',\n",
    "                              openai_api_base=os.getenv(\"OPENAI_API_BASE\"),\n",
    "                              openai_api_type=os.getenv(\"OPENAI_API_TYPE\"),\n",
    "                              chunk_size=1)\n",
    "\n",
    "txt_docsearch = Chroma(persist_directory='apidocs', embedding_function=embeddings)"
   ]
  },
  {
   "cell_type": "code",
   "execution_count": 8,
   "id": "56729be7-eddc-4af5-b5bd-aa4bb5def8a6",
   "metadata": {},
   "outputs": [
    {
     "name": "stderr",
     "output_type": "stream",
     "text": [
      "WARNING! engine is not default parameter.\n",
      "                    engine was transferred to model_kwargs.\n",
      "                    Please confirm that engine is what you intended.\n"
     ]
    }
   ],
   "source": [
    "from langchain.chains import LLMChain\n",
    "from langchain.chains.question_answering import load_qa_chain\n",
    "from langchain.prompts import PromptTemplate\n",
    "from langchain.prompts.chat import ChatPromptTemplate\n",
    "from langchain.memory import ConversationBufferMemory, ConversationSummaryBufferMemory\n",
    "\n",
    "llm = ChatOpenAI(engine='test0406', model_name=\"gpt-3.5-turbo\", temperature=0.5, max_tokens=2048)\n",
    "\n",
    "template_rewrite = \"\"\"根据聊天记录和用户问题，请把用户问题重写为一个不需要上下文、包含了所有相关信息的独立问题。\n",
    "聊天记录:\n",
    "{chat_history}\n",
    "用户问题: {question}\n",
    "独立问题:\"\"\"\n",
    "\n",
    "template_refine = \"\"\"请检查下述检索结果是否包含了完成目标任务的函数信息。\n",
    "检索结果:\n",
    "{context_str}\n",
    "\n",
    "如果这个检索结果包含了有用的函数信息，请根据它和原有的代码重新生成更好的实现。如果没有相关信息，就返回原有的代码。\n",
    "新的回复：\"\"\"\n",
    "\n",
    "template_summary = \"\"\"根据聊天内容增量式生成摘要，在原始摘要上附加新的摘要。\n",
    "EXAMPLE\n",
    "当前摘要: \n",
    "The human asks what the AI thinks of artificial intelligence. The AI thinks artificial intelligence is a force for good.\n",
    "\n",
    "新的聊天内容:\n",
    "Human: Why do you think artificial intelligence is a force for good?\n",
    "AI: Because artificial intelligence will help humans reach their full potential.\n",
    "\n",
    "新的摘要:\n",
    "The human asks what the AI thinks of artificial intelligence. The AI thinks artificial intelligence is a force for good because it will help humans reach their full potential.\n",
    "END OF EXAMPLE\n",
    "\n",
    "当前摘要:\n",
    "{summary}\n",
    "\n",
    "新的聊天内容:\n",
    "{new_lines}\n",
    "\n",
    "新的摘要:\n",
    "\"\"\"\n",
    "\n",
    "# 初始化 prompt 对象\n",
    "prompt_rewrite = ChatPromptTemplate.from_template(template_rewrite)\n",
    "# 初始化问答链\n",
    "question_generator = LLMChain(llm=llm, prompt=prompt_rewrite)\n",
    "\n",
    "prompt_refine = ChatPromptTemplate.from_template(template_refine)\n",
    "doc_chain = load_qa_chain(llm, chain_type=\"refine\", refine_prompt=prompt_refine)\n",
    "\n",
    "prompt_summary = PromptTemplate(input_variables=[\"summary\", \"new_lines\"], template=template_summary)\n",
    "memory = ConversationSummaryBufferMemory(llm=llm, prompt = prompt_summary,\n",
    "        max_token_limit=1000, memory_key=\"chat_history\", return_messages=True)\n",
    "\n",
    "chain = ConversationalRetrievalChain(\n",
    "    retriever=txt_docsearch.as_retriever(),\n",
    "    question_generator=question_generator,\n",
    "    combine_docs_chain=doc_chain,\n",
    "    memory=memory\n",
    ")"
   ]
  },
  {
   "cell_type": "code",
   "execution_count": 9,
   "id": "859b948e-8204-4db3-b3b6-ca716fd989d9",
   "metadata": {},
   "outputs": [
    {
     "name": "stdout",
     "output_type": "stream",
     "text": [
      "{'question': '操作步骤及说明\\n1.\\t业务人员配置好银行账号数据表，和邮箱账号数据；\\n2.\\t读取账号配置表，根据账号信息自动登录网银系统；\\n3.\\t获取前一天历史余额数据，写入资金日报表模板对应银行账户余额栏；\\n4.\\t下载前一天电子回单、网银流水，按照固定规则命名（命名规则：公司_收/付_账号_日期，例：X公司_收_账号_20211222），并在日志记录表中写入记录；\\n5.\\t将日报excel及回、流水文件夹进行压缩；\\n6.\\t邮件发送运行异常提醒，将运行的数据压缩文件发送到指定邮箱；\\n7.\\t业务人员接收邮件文件，进行确认操作。\\n', 'chat_history': [HumanMessage(content='操作步骤及说明\\n1.\\t业务人员配置好银行账号数据表，和邮箱账号数据；\\n2.\\t读取账号配置表，根据账号信息自动登录网银系统；\\n3.\\t获取前一天历史余额数据，写入资金日报表模板对应银行账户余额栏；\\n4.\\t下载前一天电子回单、网银流水，按照固定规则命名（命名规则：公司_收/付_账号_日期，例：X公司_收_账号_20211222），并在日志记录表中写入记录；\\n5.\\t将日报excel及回、流水文件夹进行压缩；\\n6.\\t邮件发送运行异常提醒，将运行的数据压缩文件发送到指定邮箱；\\n7.\\t业务人员接收邮件文件，进行确认操作。\\n', additional_kwargs={}, example=False), AIMessage(content=\"根据检索结果，可以使用sendCustomHttpMsg函数向iS-RPA企业服务器发送自定义的http消息。下面是一个示例代码：\\n\\nimport requests\\nimport json\\nimport time\\n\\ndef sendCustomHttpMsg(jsonData, address, port, retryTimes=2, timeout=5):\\n    url = address + ':' + str(port)\\n    headers = {'Content-Type': 'application/json'}\\n    for i in range(retryTimes):\\n        try:\\n            response = requests.post(url, data=json.dumps(jsonData), headers=headers, timeout=timeout)\\n            if response.status_code == 200:\\n                return True\\n        except:\\n            time.sleep(timeout)\\n    return False\\n\\n# 示例用法\\njsonData = {'a': 'aaa', 'b': 'bbb'}\\naddress = 'http://192.168.0.184'\\nport = 8080\\nretryTimes = 2\\ntimeout = 5\\nresult = sendCustomHttpMsg(jsonData, address, port, retryTimes, timeout)\\nprint(result)\\n\\n注意，这里的示例代码仅供参考，具体实现可能需要根据实际情况进行调整。\", additional_kwargs={}, example=False)], 'answer': \"根据检索结果，可以使用sendCustomHttpMsg函数向iS-RPA企业服务器发送自定义的http消息。下面是一个示例代码：\\n\\nimport requests\\nimport json\\nimport time\\n\\ndef sendCustomHttpMsg(jsonData, address, port, retryTimes=2, timeout=5):\\n    url = address + ':' + str(port)\\n    headers = {'Content-Type': 'application/json'}\\n    for i in range(retryTimes):\\n        try:\\n            response = requests.post(url, data=json.dumps(jsonData), headers=headers, timeout=timeout)\\n            if response.status_code == 200:\\n                return True\\n        except:\\n            time.sleep(timeout)\\n    return False\\n\\n# 示例用法\\njsonData = {'a': 'aaa', 'b': 'bbb'}\\naddress = 'http://192.168.0.184'\\nport = 8080\\nretryTimes = 2\\ntimeout = 5\\nresult = sendCustomHttpMsg(jsonData, address, port, retryTimes, timeout)\\nprint(result)\\n\\n注意，这里的示例代码仅供参考，具体实现可能需要根据实际情况进行调整。\"}\n"
     ]
    }
   ],
   "source": [
    "query = \"\"\"操作步骤及说明\n",
    "1.\t业务人员配置好银行账号数据表，和邮箱账号数据；\n",
    "2.\t读取账号配置表，根据账号信息自动登录网银系统；\n",
    "3.\t获取前一天历史余额数据，写入资金日报表模板对应银行账户余额栏；\n",
    "4.\t下载前一天电子回单、网银流水，按照固定规则命名（命名规则：公司_收/付_账号_日期，例：X公司_收_账号_20211222），并在日志记录表中写入记录；\n",
    "5.\t将日报excel及回、流水文件夹进行压缩；\n",
    "6.\t邮件发送运行异常提醒，将运行的数据压缩文件发送到指定邮箱；\n",
    "7.\t业务人员接收邮件文件，进行确认操作。\n",
    "\"\"\"\n",
    "result = chain({\"question\": query})\n",
    "print(result)"
   ]
  },
  {
   "cell_type": "code",
   "execution_count": 10,
   "id": "4a7fbe4b-71da-4e92-8aa8-f945f270cac3",
   "metadata": {},
   "outputs": [
    {
     "name": "stdout",
     "output_type": "stream",
     "text": [
      "根据检索结果，可以使用sendCustomHttpMsg函数向iS-RPA企业服务器发送自定义的http消息。下面是一个示例代码：\n",
      "\n",
      "import requests\n",
      "import json\n",
      "import time\n",
      "\n",
      "def sendCustomHttpMsg(jsonData, address, port, retryTimes=2, timeout=5):\n",
      "    url = address + ':' + str(port)\n",
      "    headers = {'Content-Type': 'application/json'}\n",
      "    for i in range(retryTimes):\n",
      "        try:\n",
      "            response = requests.post(url, data=json.dumps(jsonData), headers=headers, timeout=timeout)\n",
      "            if response.status_code == 200:\n",
      "                return True\n",
      "        except:\n",
      "            time.sleep(timeout)\n",
      "    return False\n",
      "\n",
      "# 示例用法\n",
      "jsonData = {'a': 'aaa', 'b': 'bbb'}\n",
      "address = 'http://192.168.0.184'\n",
      "port = 8080\n",
      "retryTimes = 2\n",
      "timeout = 5\n",
      "result = sendCustomHttpMsg(jsonData, address, port, retryTimes, timeout)\n",
      "print(result)\n",
      "\n",
      "注意，这里的示例代码仅供参考，具体实现可能需要根据实际情况进行调整。\n"
     ]
    }
   ],
   "source": [
    "print(result['answer'])"
   ]
  },
  {
   "cell_type": "code",
   "execution_count": null,
   "id": "0c586627-0ec6-4c34-a519-fba4146af5ed",
   "metadata": {},
   "outputs": [],
   "source": []
  }
 ],
 "metadata": {
  "kernelspec": {
   "display_name": "Python 3 (ipykernel)",
   "language": "python",
   "name": "python3"
  },
  "language_info": {
   "codemirror_mode": {
    "name": "ipython",
    "version": 3
   },
   "file_extension": ".py",
   "mimetype": "text/x-python",
   "name": "python",
   "nbconvert_exporter": "python",
   "pygments_lexer": "ipython3",
   "version": "3.9.13"
  }
 },
 "nbformat": 4,
 "nbformat_minor": 5
}
