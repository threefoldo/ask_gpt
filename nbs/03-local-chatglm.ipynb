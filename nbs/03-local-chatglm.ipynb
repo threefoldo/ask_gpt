{
 "cells": [
  {
   "cell_type": "raw",
   "metadata": {},
   "source": [
    "---\n",
    "{}\n",
    "\n",
    "---\n",
    "\n"
   ]
  },
  {
   "cell_type": "code",
   "execution_count": 1,
   "id": "9c95ac1f-83c6-475e-b957-70186a109275",
   "metadata": {},
   "outputs": [
    {
     "data": {
      "application/vnd.jupyter.widget-view+json": {
       "model_id": "78d563547d2a47da8201b9ac6eff179c",
       "version_major": 2,
       "version_minor": 0
      },
      "text/plain": [
       "Loading checkpoint shards:   0%|          | 0/8 [00:00<?, ?it/s]"
      ]
     },
     "metadata": {},
     "output_type": "display_data"
    }
   ],
   "source": [
    "from transformers import AutoTokenizer, AutoModel\n",
    "\n",
    "tokenizer = AutoTokenizer.from_pretrained(\"THUDM/chatglm-6b\", trust_remote_code=True)\n",
    "model = AutoModel.from_pretrained(\"THUDM/chatglm-6b\", trust_remote_code=True).half().cuda().eval()"
   ]
  },
  {
   "cell_type": "code",
   "execution_count": 2,
   "id": "93df9fc1-911e-454c-8708-35ab496c1c5d",
   "metadata": {},
   "outputs": [
    {
     "name": "stderr",
     "output_type": "stream",
     "text": [
      "The dtype of attention mask (torch.int64) is not bool\n"
     ]
    },
    {
     "name": "stdout",
     "output_type": "stream",
     "text": [
      "流程挖掘和任务挖掘是两种常见的数据挖掘技术，主要区别在于它们的应用场景和目标不同。\n",
      "\n",
      "流程挖掘主要关注企业或组织中各个流程的自动化和优化，旨在发现流程中的潜在问题和瓶颈，并提出解决方案。流程挖掘通常应用于企业生产、运营、管理等领域，例如通过分析生产流程、供应链流程等，识别流程中的问题和瓶颈，并提出优化方案。\n",
      "\n",
      "任务挖掘则主要关注人类工作任务的自动化和智能化，旨在通过机器学习等技术，让计算机自动完成人类工作任务。任务挖掘通常应用于金融、医疗、教育等领域，例如通过分析客户订单、信用卡交易等数据，预测客户的行为和需求，或者通过分析医生诊断数据，预测患者的疾病情况。\n",
      "\n",
      "因此，流程挖掘和任务挖掘的应用场景和目标不同，前者关注流程的自动化和优化，后者则关注任务的自动化和智能化。\n"
     ]
    }
   ],
   "source": [
    "response, history = model.chat(tokenizer, \"你好，请你说一下流程挖掘和任务挖掘的区别\", history=[])\n",
    "print(response)"
   ]
  },
  {
   "cell_type": "code",
   "execution_count": 4,
   "id": "f6b5a7c3-4601-45ab-b726-0b733f770509",
   "metadata": {},
   "outputs": [
    {
     "data": {
      "text/plain": [
       "[('你好，请你说一下流程挖掘和任务挖掘的区别',\n",
       "  '流程挖掘和任务挖掘是两种常见的数据挖掘技术，主要区别在于它们的应用场景和目标不同。\\n\\n流程挖掘主要关注企业或组织中各个流程的自动化和优化，旨在发现流程中的潜在问题和瓶颈，并提出解决方案。流程挖掘通常应用于企业生产、运营、管理等领域，例如通过分析生产流程、供应链流程等，识别流程中的问题和瓶颈，并提出优化方案。\\n\\n任务挖掘则主要关注人类工作任务的自动化和智能化，旨在通过机器学习等技术，让计算机自动完成人类工作任务。任务挖掘通常应用于金融、医疗、教育等领域，例如通过分析客户订单、信用卡交易等数据，预测客户的行为和需求，或者通过分析医生诊断数据，预测患者的疾病情况。\\n\\n因此，流程挖掘和任务挖掘的应用场景和目标不同，前者关注流程的自动化和优化，后者则关注任务的自动化和智能化。')]"
      ]
     },
     "execution_count": 4,
     "metadata": {},
     "output_type": "execute_result"
    }
   ],
   "source": [
    "history"
   ]
  },
  {
   "cell_type": "code",
   "execution_count": 5,
   "id": "84cf0c27-3e41-407d-b0c0-4175886e640f",
   "metadata": {},
   "outputs": [
    {
     "name": "stdout",
     "output_type": "stream",
     "text": [
      "艺赛旗和望繁信都是中国知名的艺术品交易平台，但它们的产品有所不同。\n",
      "\n",
      "艺赛旗是一家专注于艺术品交易的在线平台，提供包括油画、雕塑、陶瓷、珠宝等多种艺术品的交易和拍卖服务。艺赛旗的产品定位高端，服务的人群也是高端客户，因此其产品技术和服务都较为先进和高端。\n",
      "\n",
      "望繁信则是一家专注于古代艺术品交易的在线平台，提供包括书画、陶瓷、玉器等多种艺术品的交易和拍卖服务。望繁信的产品定位中高端，服务的人群也是中高端客户，因此其产品技术和服务也较为先进和高端。\n",
      "\n",
      "总的来说，艺赛旗和望繁信都是中国知名的艺术品交易平台，但它们的产品有所不同，分别服务于不同的客户群体和市场需求。\n"
     ]
    }
   ],
   "source": [
    "response, history = model.chat(tokenizer, \"你知道艺赛旗和望繁信的产品有什么不一样吗？\", history=history)\n",
    "print(response)"
   ]
  },
  {
   "cell_type": "code",
   "execution_count": 6,
   "id": "162ce344-8f42-40d6-9783-a0a4cfbed171",
   "metadata": {},
   "outputs": [
    {
     "data": {
      "text/plain": [
       "[('你好，请你说一下流程挖掘和任务挖掘的区别',\n",
       "  '流程挖掘和任务挖掘是两种常见的数据挖掘技术，主要区别在于它们的应用场景和目标不同。\\n\\n流程挖掘主要关注企业或组织中各个流程的自动化和优化，旨在发现流程中的潜在问题和瓶颈，并提出解决方案。流程挖掘通常应用于企业生产、运营、管理等领域，例如通过分析生产流程、供应链流程等，识别流程中的问题和瓶颈，并提出优化方案。\\n\\n任务挖掘则主要关注人类工作任务的自动化和智能化，旨在通过机器学习等技术，让计算机自动完成人类工作任务。任务挖掘通常应用于金融、医疗、教育等领域，例如通过分析客户订单、信用卡交易等数据，预测客户的行为和需求，或者通过分析医生诊断数据，预测患者的疾病情况。\\n\\n因此，流程挖掘和任务挖掘的应用场景和目标不同，前者关注流程的自动化和优化，后者则关注任务的自动化和智能化。'),\n",
       " ('你知道艺赛旗和望繁信的产品有什么不一样吗？',\n",
       "  '艺赛旗和望繁信都是中国知名的艺术品交易平台，但它们的产品有所不同。\\n\\n艺赛旗是一家专注于艺术品交易的在线平台，提供包括油画、雕塑、陶瓷、珠宝等多种艺术品的交易和拍卖服务。艺赛旗的产品定位高端，服务的人群也是高端客户，因此其产品技术和服务都较为先进和高端。\\n\\n望繁信则是一家专注于古代艺术品交易的在线平台，提供包括书画、陶瓷、玉器等多种艺术品的交易和拍卖服务。望繁信的产品定位中高端，服务的人群也是中高端客户，因此其产品技术和服务也较为先进和高端。\\n\\n总的来说，艺赛旗和望繁信都是中国知名的艺术品交易平台，但它们的产品有所不同，分别服务于不同的客户群体和市场需求。')]"
      ]
     },
     "execution_count": 6,
     "metadata": {},
     "output_type": "execute_result"
    }
   ],
   "source": [
    "history"
   ]
  },
  {
   "cell_type": "code",
   "execution_count": 7,
   "id": "5cf3e788-b9d0-4f10-aeb9-5ebcec5f3bc6",
   "metadata": {},
   "outputs": [
    {
     "name": "stdout",
     "output_type": "stream",
     "text": [
      "作为人工智能语言模型，我会尽力回答您提出的问题，但我的回答可能存在不足之处。如果您对我的回答有任何疑问或需要更多的信息，请随时让我知道，我会尽力为您提供帮助。\n"
     ]
    }
   ],
   "source": [
    "response, history = model.chat(tokenizer, \"你觉得你上一道题回答的对吗？如果不知道就说不知道。\", history=history)\n",
    "print(response)"
   ]
  },
  {
   "cell_type": "code",
   "execution_count": 9,
   "id": "37ba0588-c01a-43ae-9aa0-fadb54f1603c",
   "metadata": {},
   "outputs": [
    {
     "data": {
      "text/plain": [
       "3"
      ]
     },
     "execution_count": 9,
     "metadata": {},
     "output_type": "execute_result"
    }
   ],
   "source": [
    "len(history)"
   ]
  },
  {
   "cell_type": "code",
   "execution_count": 11,
   "id": "9bcad452-3f43-4309-a5f5-01b1614c50e4",
   "metadata": {},
   "outputs": [
    {
     "name": "stdout",
     "output_type": "stream",
     "text": [
      "很抱歉，由于我是一个基于文本的人工智能语言模型，无法进行联网查询。但我可以为您提供艺赛旗和望繁信的相关信息。\n",
      "\n",
      "艺赛旗是一家中国知名的艺术品交易平台，提供包括油画、雕塑、陶瓷、珠宝等多种艺术品的交易和拍卖服务。艺赛旗的产品定位高端，服务的人群也是高端客户，因此其产品技术和服务都较为先进和高端。\n",
      "\n",
      "望繁信则是一家中国知名的艺术品交易平台，提供包括书画、陶瓷、玉器等多种艺术品的交易和拍卖服务。望繁信的产品定位中高端，服务的人群也是中高端客户，因此其产品技术和服务也较为先进和高端。\n",
      "\n",
      "希望这些信息对您有所帮助。\n"
     ]
    }
   ],
   "source": [
    "response, history = model.chat(tokenizer, \"你可以联网查询一下这两家公司的信息吗？他们都是做流程挖掘的。\", history=history)\n",
    "print(response)"
   ]
  },
  {
   "cell_type": "code",
   "execution_count": null,
   "id": "c5b3d288-a5c0-4e6a-8188-177831cb0055",
   "metadata": {},
   "outputs": [],
   "source": [
    "len(history)"
   ]
  }
 ],
 "metadata": {
  "kernelspec": {
   "display_name": "Python 3 (ipykernel)",
   "language": "python",
   "name": "python3"
  },
  "language_info": {
   "codemirror_mode": {
    "name": "ipython",
    "version": 3
   },
   "file_extension": ".py",
   "mimetype": "text/x-python",
   "name": "python",
   "nbconvert_exporter": "python",
   "pygments_lexer": "ipython3",
   "version": "3.9.13"
  }
 },
 "nbformat": 4,
 "nbformat_minor": 5
}
