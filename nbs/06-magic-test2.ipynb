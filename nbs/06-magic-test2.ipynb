{
 "cells": [
  {
   "cell_type": "code",
   "execution_count": 2,
   "id": "151bcab9-6dde-40ff-b3e6-e406d5daf397",
   "metadata": {
    "tags": []
   },
   "outputs": [],
   "source": [
    "%load_ext jupyter_ai"
   ]
  },
  {
   "cell_type": "code",
   "execution_count": 6,
   "id": "eee47b91-81e8-43b7-8e95-8567fd8507a1",
   "metadata": {
    "tags": []
   },
   "outputs": [
    {
     "data": {
      "text/plain": [
       "True"
      ]
     },
     "execution_count": 6,
     "metadata": {},
     "output_type": "execute_result"
    }
   ],
   "source": [
    "import os\n",
    "from dotenv import load_dotenv\n",
    "\n",
    "load_dotenv(\"../openai.env\")"
   ]
  },
  {
   "cell_type": "code",
   "execution_count": 8,
   "id": "9d584f80-4ef7-40d9-a816-bb186c2f547e",
   "metadata": {
    "tags": []
   },
   "outputs": [
    {
     "data": {
      "text/html": [
       "AI generated code inserted below &#11015;&#65039;"
      ],
      "text/plain": [
       "<IPython.core.display.HTML object>"
      ]
     },
     "execution_count": 8,
     "metadata": {
      "text/html": {
       "jupyter_ai": {
        "model_id": "gpt-3.5-turbo",
        "provider_id": "openai-chat"
       }
      }
     },
     "output_type": "execute_result"
    }
   ],
   "source": [
    "%%ai chatgpt -f code\n",
    "\n",
    "Please write a small function to translate rows by a custom function in pandas: if the column \"department\" equals to \"dev\", then change the value of of columns \"date\" and \"amount\"."
   ]
  },
  {
   "cell_type": "code",
   "execution_count": null,
   "id": "768b535f-73e1-429a-a467-201c0525b9e7",
   "metadata": {},
   "outputs": [],
   "source": [
    "import pandas as pd\n",
    "\n",
    "def translate_rows(df):\n",
    "    def custom_func(row):\n",
    "        if row['department'] == 'dev':\n",
    "            row['date'] = '01/01/2022'\n",
    "            row['amount'] = 1000.0\n",
    "        return row\n",
    "    \n",
    "    df_translated = df.apply(custom_func, axis=1)\n",
    "    return df_translated\n",
    "\n",
    "# Example usage\n",
    "df = pd.DataFrame({'department': ['dev', 'hr', 'dev'],\n",
    "                   'date': ['01/01/2020', '02/02/2020', '03/03/2020'],\n",
    "                   'amount': [500.0, 600.0, 700.0]})\n",
    "\n",
    "translated_df = translate_rows(df)\n",
    "print(translated_df)"
   ]
  },
  {
   "cell_type": "code",
   "execution_count": null,
   "id": "b9b04155-7912-4fae-8258-b429c747ff65",
   "metadata": {},
   "outputs": [],
   "source": []
  }
 ],
 "metadata": {
  "kernelspec": {
   "display_name": "Python 3 (ipykernel)",
   "language": "python",
   "name": "python3"
  },
  "language_info": {
   "codemirror_mode": {
    "name": "ipython",
    "version": 3
   },
   "file_extension": ".py",
   "mimetype": "text/x-python",
   "name": "python",
   "nbconvert_exporter": "python",
   "pygments_lexer": "ipython3",
   "version": "3.9.13"
  }
 },
 "nbformat": 4,
 "nbformat_minor": 5
}
