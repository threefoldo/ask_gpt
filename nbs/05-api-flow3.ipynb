{
 "cells": [
  {
   "cell_type": "markdown",
   "id": "9327a203-ea77-462a-b4a3-6d8851e55090",
   "metadata": {},
   "source": [
    "给定一个RPA流程需求描述，先让LLM重新描述执行步骤，然后根据执行步骤选择可能用到的函数名，再根据步骤描述和选定的函数生成最终的代码。"
   ]
  },
  {
   "cell_type": "code",
   "execution_count": 1,
   "id": "efddb790-e7a9-4f0a-b1b5-38d0bb187ca1",
   "metadata": {},
   "outputs": [
    {
     "data": {
      "text/plain": [
       "True"
      ]
     },
     "execution_count": 1,
     "metadata": {},
     "output_type": "execute_result"
    }
   ],
   "source": [
    "import os\n",
    "from dotenv import load_dotenv\n",
    "from datetime import datetime\n",
    "\n",
    "import openai\n",
    "from IPython.display import HTML, display\n",
    "from ipywidgets import widgets\n",
    "from langchain.chains import ConversationalRetrievalChain\n",
    "from langchain.chat_models import ChatOpenAI\n",
    "from langchain.document_loaders import DirectoryLoader\n",
    "from langchain.vectorstores import Chroma\n",
    "\n",
    "load_dotenv()"
   ]
  },
  {
   "cell_type": "code",
   "execution_count": 2,
   "id": "c38abb79-6416-4da4-8f61-1c428cdb0386",
   "metadata": {},
   "outputs": [
    {
     "name": "stderr",
     "output_type": "stream",
     "text": [
      "WARNING! engine is not default parameter.\n",
      "                    engine was transferred to model_kwargs.\n",
      "                    Please confirm that engine is what you intended.\n"
     ]
    },
    {
     "name": "stdout",
     "output_type": "stream",
     "text": [
      "azure https://test0406.openai.azure.com/ 2023-03-15-preview\n"
     ]
    }
   ],
   "source": [
    "from langchain.chains import LLMChain\n",
    "from langchain.chains.question_answering import load_qa_chain\n",
    "from langchain.prompts import PromptTemplate\n",
    "from langchain.prompts.chat import ChatPromptTemplate\n",
    "from langchain.vectorstores import Chroma\n",
    "from langchain.embeddings.openai import OpenAIEmbeddings\n",
    "from langchain.text_splitter import CharacterTextSplitter\n",
    "from langchain.chains import RetrievalQA\n",
    "\n",
    "\n",
    "openai.api_type = os.getenv(\"OPENAI_API_TYPE\")\n",
    "openai.api_key = os.getenv(\"OPENAI_API_KEY\")\n",
    "openai.api_base = os.getenv(\"OPENAI_API_BASE\")\n",
    "openai.api_version = os.getenv(\"OPENAI_API_VERSION\")\n",
    "print(openai.api_type, openai.api_base, openai.api_version)\n",
    "\n",
    "\n",
    "embeddings = OpenAIEmbeddings(model='text-embedding-ada-002',\n",
    "                              deployment='emb0614',\n",
    "                              openai_api_base=os.getenv(\"OPENAI_API_BASE\"),\n",
    "                              openai_api_type=os.getenv(\"OPENAI_API_TYPE\"),\n",
    "                              chunk_size=1)\n",
    "\n",
    "docsearch = Chroma(persist_directory='apidocs', embedding_function=embeddings)\n",
    "\n",
    "llm = ChatOpenAI(engine='test0406', model_name=\"gpt-3.5-turbo\", temperature=0.3, max_tokens=4096)"
   ]
  },
  {
   "cell_type": "code",
   "execution_count": 3,
   "id": "59d31d73-911c-4582-93d5-5c6346ee1d6f",
   "metadata": {},
   "outputs": [],
   "source": [
    "template_task = '''你是个非常优秀的RPA程序员，你的任务是根据RPA流程的需求描述和步骤描述，生成一个伪代码表示的RPA流程。\n",
    "请一步步思考，确保正确理解实现该流程的所有必要条件，然后更新步骤描述，确保新的步骤描述包含了所有的上下文信息，以方便后面的代码。\n",
    "\n",
    "流程描述: {description}\n",
    "\n",
    "任务步骤：{steps}\n",
    "\n",
    "重新描述实现该RPA流程的具体步骤，包括每个步骤的输入输出和实现功能：'''\n",
    "\n",
    "prompt_task = PromptTemplate(input_variables=['description', 'steps'], template=template_task)\n",
    "task_chain = LLMChain(llm=llm, prompt=prompt_task, output_key='revised')"
   ]
  },
  {
   "cell_type": "code",
   "execution_count": 4,
   "id": "4ae3e006-40ad-4019-b7bc-de00348c601a",
   "metadata": {},
   "outputs": [],
   "source": [
    "template_draft = '''你是个非常优秀的RPA程序员，请根据RPA流程描述和实现步骤描述，生成一个用伪代码表示的RPA流程草稿。\n",
    "\n",
    "流程描述: {description}\n",
    "\n",
    "详细步骤：{revised}\n",
    "\n",
    "生成的伪代码RPA流程是：'''\n",
    "\n",
    "prompt_draft = PromptTemplate(input_variables=['description', 'revised'], template=template_draft)\n",
    "draft_chain = LLMChain(llm=llm, prompt=prompt_draft, output_key='draft')"
   ]
  },
  {
   "cell_type": "code",
   "execution_count": 17,
   "id": "6e546061-fe73-4cb8-846a-593b644db820",
   "metadata": {},
   "outputs": [],
   "source": [
    "template_code = '''你是个非常优秀的RPA程序员，请根据RPA流程描述和流程草稿，实现一个由基本操作组成的伪代码RPA流程。\n",
    "基本操作是指计算机能够执行的最简单任务，比如打开文件、保存文件、打开浏览器、点击按钮、修改文本等。\n",
    "\n",
    "流程描述: {description}\n",
    "流程草稿: {draft}\n",
    "\n",
    "生成的RPA流程伪代码：'''\n",
    "\n",
    "prompt_code = PromptTemplate(input_variables=['description', 'draft'], template=template_code)\n",
    "\n",
    "code_chain = LLMChain(llm=llm, prompt=prompt_code, output_key='code')"
   ]
  },
  {
   "cell_type": "code",
   "execution_count": 18,
   "id": "54a9d925-38a6-4bf1-b788-e0f97a7c51b6",
   "metadata": {},
   "outputs": [],
   "source": [
    "from langchain.chains import SequentialChain\n",
    "\n",
    "overall_chain = SequentialChain(\n",
    "    chains=[task_chain, draft_chain, code_chain],\n",
    "    input_variables=['description', 'steps'],\n",
    "    # Here we return multiple variables\n",
    "    output_variables=[\"revised\", \"draft\", \"code\"],\n",
    "    verbose=True)"
   ]
  },
  {
   "cell_type": "code",
   "execution_count": 19,
   "id": "0e355aa8-96b3-43f6-81be-40649c514270",
   "metadata": {},
   "outputs": [],
   "source": [
    "task_description = '''通过RPA机器人，进入网银系统获取前一个工作日的资金流水数据，\n",
    "按数据类型写入到模板表对应的银行列中，并下载前一工作日电子回单，生成文件清单并打印，\n",
    "再发送资金日报及电子回单清单给对应的业务人员。\n",
    "'''\n",
    "\n",
    "task_steps = '''操作步骤及说明\n",
    "1.\t业务人员配置好银行账号数据表，和邮箱账号数据；\n",
    "2.\t读取账号配置表，根据账号信息自动登录网银系统；\n",
    "3.\t获取前一天历史余额数据，写入资金日报表模板对应银行账户余额栏；\n",
    "4.\t下载前一天电子回单、网银流水，按照固定规则命名（命名规则：公司_收/付_账号_日期，例：X公司_收_账号_20211222），并在日志记录表中写入记录；\n",
    "5.\t将日报excel及回、流水文件夹进行压缩；\n",
    "6.\t邮件发送运行异常提醒，将运行的数据压缩文件发送到指定邮箱；\n",
    "7.\t业务人员接收邮件文件，进行确认操作。\n",
    "'''"
   ]
  },
  {
   "cell_type": "code",
   "execution_count": 20,
   "id": "37944f04-7c2c-41c6-9181-5adb531f29bc",
   "metadata": {},
   "outputs": [
    {
     "name": "stdout",
     "output_type": "stream",
     "text": [
      "\n",
      "\n",
      "\u001b[1m> Entering new SequentialChain chain...\u001b[0m\n",
      "\n",
      "\u001b[1m> Finished chain.\u001b[0m\n"
     ]
    }
   ],
   "source": [
    "result = overall_chain({'description': task_description, 'steps': task_steps})"
   ]
  },
  {
   "cell_type": "code",
   "execution_count": 21,
   "id": "b59c9b51-d09b-4112-8af2-7d5a819b8601",
   "metadata": {},
   "outputs": [
    {
     "name": "stdout",
     "output_type": "stream",
     "text": [
      "1. 业务人员配置银行账号数据表和邮箱账号数据；\n",
      "   输入：银行账号数据表、邮箱账号数据；\n",
      "   输出：无；\n",
      "   功能：配置银行账号和邮箱账号，为后续步骤做准备。\n",
      "\n",
      "2. 读取账号配置表，根据账号信息自动登录网银系统；\n",
      "   输入：银行账号数据表；\n",
      "   输出：网银系统登录状态；\n",
      "   功能：根据银行账号数据表中的账号信息，自动登录网银系统。\n",
      "\n",
      "3. 获取前一天历史余额数据，写入资金日报表模板对应银行账户余额栏；\n",
      "   输入：网银系统登录状态、资金日报表模板、银行账号数据表；\n",
      "   输出：资金日报表模板对应银行账户余额栏；\n",
      "   功能：登录网银系统，获取前一天历史余额数据，将其写入资金日报表模板对应银行账户余额栏。\n",
      "\n",
      "4. 下载前一天电子回单、网银流水，按照固定规则命名（命名规则：公司_收/付_账号_日期，例：X公司_收_账号_20211222），并在日志记录表中写入记录；\n",
      "   输入：网银系统登录状态、银行账号数据表、日志记录表；\n",
      "   输出：前一天电子回单、网银流水文件夹；\n",
      "   功能：登录网银系统，下载前一天电子回单和网银流水，按照固定规则命名，并在日志记录表中写入记录。\n",
      "\n",
      "5. 将日报excel及回、流水文件夹进行压缩；\n",
      "   输入：资金日报表模板、前一天电子回单、网银流水文件夹；\n",
      "   输出：压缩文件夹；\n",
      "   功能：将资金日报表模板、前一天电子回单、网银流水文件夹进行压缩。\n",
      "\n",
      "6. 邮件发送运行异常提醒，将运行的数据压缩文件发送到指定邮箱；\n",
      "   输入：压缩文件夹、邮箱账号数据、邮件内容；\n",
      "   输出：邮件发送状态；\n",
      "   功能：将运行的数据压缩文件发送到指定邮箱，同时发送运行异常提醒邮件。\n",
      "\n",
      "7. 业务人员接收邮件文件，进行确认操作。\n",
      "   输入：邮件内容；\n",
      "   输出：确认操作状态；\n",
      "   功能：业务人员接收邮件文件，进行确认操作。\n"
     ]
    }
   ],
   "source": [
    "print(result['revised'])"
   ]
  },
  {
   "cell_type": "code",
   "execution_count": 22,
   "id": "5a286262-da20-4065-9bbf-72cce5eb84d5",
   "metadata": {},
   "outputs": [
    {
     "name": "stdout",
     "output_type": "stream",
     "text": [
      "1. 配置银行账号数据表和邮箱账号数据\n",
      "   Input: 银行账号数据表, 邮箱账号数据\n",
      "   Output: 无\n",
      "   Function: 配置银行账号和邮箱账号，为后续步骤做准备。\n",
      "\n",
      "2. 自动登录网银系统\n",
      "   Input: 银行账号数据表\n",
      "   Output: 网银系统登录状态\n",
      "   Function: 根据银行账号数据表中的账号信息，自动登录网银系统。\n",
      "\n",
      "3. 获取前一天历史余额数据，写入资金日报表模板对应银行账户余额栏\n",
      "   Input: 网银系统登录状态, 资金日报表模板, 银行账号数据表\n",
      "   Output: 资金日报表模板对应银行账户余额栏\n",
      "   Function: 登录网银系统，获取前一天历史余额数据，将其写入资金日报表模板对应银行账户余额栏。\n",
      "\n",
      "4. 下载前一天电子回单、网银流水，按照固定规则命名，并在日志记录表中写入记录\n",
      "   Input: 网银系统登录状态, 银行账号数据表, 日志记录表\n",
      "   Output: 前一天电子回单、网银流水文件夹\n",
      "   Function: 登录网银系统，下载前一天电子回单和网银流水，按照固定规则命名，并在日志记录表中写入记录。\n",
      "\n",
      "5. 将日报excel及回、流水文件夹进行压缩\n",
      "   Input: 资金日报表模板, 前一天电子回单、网银流水文件夹\n",
      "   Output: 压缩文件夹\n",
      "   Function: 将资金日报表模板、前一天电子回单、网银流水文件夹进行压缩。\n",
      "\n",
      "6. 邮件发送运行异常提醒，将运行的数据压缩文件发送到指定邮箱\n",
      "   Input: 压缩文件夹, 邮箱账号数据, 邮件内容\n",
      "   Output: 邮件发送状态\n",
      "   Function: 将运行的数据压缩文件发送到指定邮箱，同时发送运行异常提醒邮件。\n",
      "\n",
      "7. 业务人员接收邮件文件，进行确认操作\n",
      "   Input: 邮件内容\n",
      "   Output: 确认操作状态\n",
      "   Function: 业务人员接收邮件文件，进行确认操作。\n"
     ]
    }
   ],
   "source": [
    "print(result['draft'])"
   ]
  },
  {
   "cell_type": "code",
   "execution_count": 23,
   "id": "770814b1-ccd8-4210-b6ee-34761328e198",
   "metadata": {},
   "outputs": [
    {
     "name": "stdout",
     "output_type": "stream",
     "text": [
      "1. 配置银行账号数据表和邮箱账号数据\n",
      "   bank_account_data = read_excel('bank_account_data.xlsx')\n",
      "   email_account_data = read_excel('email_account_data.xlsx')\n",
      "\n",
      "2. 自动登录网银系统\n",
      "   login_to_bank(bank_account_data)\n",
      "\n",
      "3. 获取前一天历史余额数据，写入资金日报表模板对应银行账户余额栏\n",
      "   daily_report_template = read_excel('daily_report_template.xlsx')\n",
      "   balance_data = get_balance_data_from_bank()\n",
      "   write_balance_data_to_report_template(daily_report_template, balance_data)\n",
      "\n",
      "4. 下载前一天电子回单、网银流水，按照固定规则命名，并在日志记录表中写入记录\n",
      "   download_folder = create_download_folder()\n",
      "   download_electronic_receipt(download_folder)\n",
      "   download_bank_statement(download_folder)\n",
      "   write_download_log(download_folder)\n",
      "\n",
      "5. 将日报excel及回、流水文件夹进行压缩\n",
      "   compressed_folder = compress_files(daily_report_template, download_folder)\n",
      "\n",
      "6. 邮件发送运行异常提醒，将运行的数据压缩文件发送到指定邮箱\n",
      "   email_content = create_email_content(compressed_folder)\n",
      "   send_email(email_account_data, email_content)\n",
      "\n",
      "7. 业务人员接收邮件文件，进行确认操作\n",
      "   confirm_email_received()\n"
     ]
    }
   ],
   "source": [
    "print(result['code'])"
   ]
  },
  {
   "cell_type": "code",
   "execution_count": 26,
   "id": "1d28050a-0d86-4dea-846d-8746be5c25db",
   "metadata": {},
   "outputs": [],
   "source": [
    "# with open('patents/requirements-test4.txt', 'w') as f:\n",
    "#     f.write('requirements: ' + result['requirements'])\n",
    "#     f.write('\\n\\nfeature: ' + result['feature'])\n",
    "#     f.write('\\n\\nsolution: ' + result['solution'])\n",
    "#     f.write('\\n\\nselection: ' + result['selection'])"
   ]
  },
  {
   "cell_type": "code",
   "execution_count": 25,
   "id": "6c78b3ad-1c25-4482-8960-e2a8f7a5dcb2",
   "metadata": {},
   "outputs": [
    {
     "data": {
      "text/plain": [
       "[\"1. 配置银行账号数据表和邮箱账号数据\\n   bank_account_data = read_excel('bank_account_data.xlsx')\\n   email_account_data = read_excel('email_account_data.xlsx')\",\n",
       " '2. 自动登录网银系统\\n   login_to_bank(bank_account_data)',\n",
       " \"3. 获取前一天历史余额数据，写入资金日报表模板对应银行账户余额栏\\n   daily_report_template = read_excel('daily_report_template.xlsx')\\n   balance_data = get_balance_data_from_bank()\\n   write_balance_data_to_report_template(daily_report_template, balance_data)\"]"
      ]
     },
     "execution_count": 25,
     "metadata": {},
     "output_type": "execute_result"
    }
   ],
   "source": [
    "steps = result['code'].split('\\n\\n')\n",
    "steps[:3]"
   ]
  },
  {
   "cell_type": "code",
   "execution_count": 29,
   "id": "94a89b5c-db53-47e6-ad7d-dddcb447b698",
   "metadata": {},
   "outputs": [],
   "source": [
    "template_generate = \"\"\"你是一个专业的RPA开发人员，请根据RPA库函数描述，为当前步骤选择合适的RPA库函数。\n",
    "如果不存在实现这个步骤相关的函数，或者步骤描述不够清晰无法判断，则回答\"no\"；除此之外，不需要其他的解释或者说明。\n",
    "\n",
    "相关函数: {context}\n",
    "\n",
    "当前步骤：{question}\n",
    "\n",
    "相关的函数列表:\"\"\"\n",
    "\n",
    "prompt_generate = PromptTemplate(\n",
    "    template=template_generate, input_variables=[\"context\", \"question\"]\n",
    ")\n",
    "chain_type_kwargs = {\"prompt\": prompt_generate}\n",
    "qa = RetrievalQA.from_chain_type(llm=llm, chain_type=\"stuff\", retriever=docsearch.as_retriever(), chain_type_kwargs=chain_type_kwargs)"
   ]
  },
  {
   "cell_type": "code",
   "execution_count": 30,
   "id": "8b142bae-342d-4c3b-ab9a-7dd6493d8300",
   "metadata": {},
   "outputs": [
    {
     "name": "stdout",
     "output_type": "stream",
     "text": [
      ">> 1. 配置银行账号数据表和邮箱账号数据\n",
      "   bank_account_data = read_excel('bank_account_data.xlsx')\n",
      "   email_account_data = read_excel('email_account_data.xlsx') \n",
      " read_excel \n",
      "\n",
      ">> 2. 自动登录网银系统\n",
      "   login_to_bank(bank_account_data) \n",
      " no \n",
      "\n",
      ">> 3. 获取前一天历史余额数据，写入资金日报表模板对应银行账户余额栏\n",
      "   daily_report_template = read_excel('daily_report_template.xlsx')\n",
      "   balance_data = get_balance_data_from_bank()\n",
      "   write_balance_data_to_report_template(daily_report_template, balance_data) \n",
      " read_excel, write_row_to_excel, no \n",
      "\n",
      ">> 4. 下载前一天电子回单、网银流水，按照固定规则命名，并在日志记录表中写入记录\n",
      "   download_folder = create_download_folder()\n",
      "   download_electronic_receipt(download_folder)\n",
      "   download_bank_statement(download_folder)\n",
      "   write_download_log(download_folder) \n",
      " batch_download_files_from_server, no, no, no \n",
      "\n",
      ">> 5. 将日报excel及回、流水文件夹进行压缩\n",
      "   compressed_folder = compress_files(daily_report_template, download_folder) \n",
      " compressPDF \n",
      "\n",
      ">> 6. 邮件发送运行异常提醒，将运行的数据压缩文件发送到指定邮箱\n",
      "   email_content = create_email_content(compressed_folder)\n",
      "   send_email(email_account_data, email_content) \n",
      " sendExchangeMail, no suitable function for send_email. \n",
      "\n",
      ">> 7. 业务人员接收邮件文件，进行确认操作\n",
      "   confirm_email_received() \n",
      " no \n",
      "\n"
     ]
    }
   ],
   "source": [
    "functions = []\n",
    "for i in range(len(steps)):\n",
    "    result = qa.run(steps[i])\n",
    "    functions.append(result)\n",
    "    print(f'>> {steps[i]} \\n {result} \\n')"
   ]
  },
  {
   "cell_type": "code",
   "execution_count": null,
   "id": "45312936-47bc-400a-bd3a-64def7fa51e4",
   "metadata": {},
   "outputs": [],
   "source": []
  }
 ],
 "metadata": {
  "kernelspec": {
   "display_name": "Python 3 (ipykernel)",
   "language": "python",
   "name": "python3"
  },
  "language_info": {
   "codemirror_mode": {
    "name": "ipython",
    "version": 3
   },
   "file_extension": ".py",
   "mimetype": "text/x-python",
   "name": "python",
   "nbconvert_exporter": "python",
   "pygments_lexer": "ipython3",
   "version": "3.9.13"
  }
 },
 "nbformat": 4,
 "nbformat_minor": 5
}
