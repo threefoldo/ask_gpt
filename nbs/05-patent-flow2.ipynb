{
 "cells": [
  {
   "cell_type": "code",
   "execution_count": 1,
   "id": "efddb790-e7a9-4f0a-b1b5-38d0bb187ca1",
   "metadata": {},
   "outputs": [
    {
     "data": {
      "text/plain": [
       "True"
      ]
     },
     "execution_count": 1,
     "metadata": {},
     "output_type": "execute_result"
    }
   ],
   "source": [
    "import os\n",
    "from dotenv import load_dotenv\n",
    "from datetime import datetime\n",
    "\n",
    "import openai\n",
    "from IPython.display import HTML, display\n",
    "from ipywidgets import widgets\n",
    "from langchain.chains import ConversationalRetrievalChain\n",
    "from langchain.chat_models import ChatOpenAI\n",
    "from langchain.document_loaders import DirectoryLoader\n",
    "from langchain.vectorstores import Chroma\n",
    "\n",
    "load_dotenv()"
   ]
  },
  {
   "cell_type": "code",
   "execution_count": 2,
   "id": "c38abb79-6416-4da4-8f61-1c428cdb0386",
   "metadata": {},
   "outputs": [
    {
     "name": "stderr",
     "output_type": "stream",
     "text": [
      "WARNING! engine is not default parameter.\n",
      "                    engine was transferred to model_kwargs.\n",
      "                    Please confirm that engine is what you intended.\n"
     ]
    },
    {
     "name": "stdout",
     "output_type": "stream",
     "text": [
      "azure https://test0406.openai.azure.com/ 2023-03-15-preview\n"
     ]
    }
   ],
   "source": [
    "from langchain.chains import LLMChain\n",
    "from langchain.chains.question_answering import load_qa_chain\n",
    "from langchain.prompts import PromptTemplate\n",
    "from langchain.prompts.chat import ChatPromptTemplate\n",
    "from langchain.memory import ConversationBufferMemory, ConversationSummaryBufferMemory\n",
    "\n",
    "openai.api_type = os.getenv(\"OPENAI_API_TYPE\")\n",
    "openai.api_key = os.getenv(\"OPENAI_API_KEY\")\n",
    "openai.api_base = os.getenv(\"OPENAI_API_BASE\")\n",
    "openai.api_version = os.getenv(\"OPENAI_API_VERSION\")\n",
    "print(openai.api_type, openai.api_base, openai.api_version)\n",
    "\n",
    "llm = ChatOpenAI(engine='test0406', model_name=\"gpt-3.5-turbo\", temperature=0.7, max_tokens=4096)"
   ]
  },
  {
   "cell_type": "code",
   "execution_count": 3,
   "id": "59d31d73-911c-4582-93d5-5c6346ee1d6f",
   "metadata": {},
   "outputs": [],
   "source": [
    "question = '''为了还原用户UI操作流程，需要识别哪些UI操作是相同的，哪些是不同的。比如，提交报销单，两个人填写的报销单可能只有姓名、部门、时间这些内容是相似的，\n",
    "其他的比如出差事由、时间范围等等相差非常大，在页面上看起来也很不一样。但是，它们同属于一个业务操作，应该判断相同操作，即使对应的窗口/应用从视觉上和内容上来看相差非常大。\n",
    "仅用图片相似性无法解决这个问题，因为文字内容变化难以检测；仅用文字比较也不行，因为内容相差很大的UI操作可能属于同一个业务操作。\n",
    "'''\n",
    "\n",
    "solution = '''使用CV算法识别窗口/应用的区域，同一个窗口的区域分布应该是完全一样的。另外，再提取一两个关键标签，代表当前操作的内容。只要窗口区域相似，\n",
    "关键标签相同，就可以判断两个UI操作属于同一个业务操作。识别窗口区域的方法是canny，通过边框识别窗口的主要布局，同一个应用内只有有限的窗口，每个窗口的布局是很少变化的。\n",
    "提交关键标签，是指使用OCR识别窗口中的所有文字，然后提取关键位置的文字，比如窗口标题栏中的文字。两者结合就可以较有效地区分不同窗口，进而判断窗口的相似性。\n",
    "'''"
   ]
  },
  {
   "cell_type": "code",
   "execution_count": 4,
   "id": "6e546061-fe73-4cb8-846a-593b644db820",
   "metadata": {},
   "outputs": [],
   "source": [
    "template_background = '''你是一个专业的流程挖掘领域的专利代理，负责专利发明点设计和专利文档起草。请根据以下要解决的问题及解决方案，起草专利的背景介绍部分。\n",
    "先回答以下问题：待解决的问题属于哪个技术领域？在这个领域中，现有软件或者技术存在什么样的问题或者局限性？发明点要解决的具体问题是什么？\n",
    "根据上述问题的答案，生成背景介绍。\n",
    "要解决的问题: {question}\n",
    "提供的解决方案: {solution}\n",
    "请生成这个专利发明点的背景介绍：'''\n",
    "\n",
    "prompt_background = PromptTemplate(input_variables=['question', 'solution'], template=template_background)\n",
    "background_chain = LLMChain(llm=llm, prompt=prompt_background, output_key='background')"
   ]
  },
  {
   "cell_type": "code",
   "execution_count": 5,
   "id": "0500bf7d-074e-48ae-8f23-c3673c742a9f",
   "metadata": {},
   "outputs": [],
   "source": [
    "template_claims = '''你是一个专业的流程挖掘和任务挖掘方面的专利代理，负责专利发明点设计和专利文档起草。请根据以下要解决的问题及解决方案，起草专利的权利要求部分。\n",
    "在设计专利的权利要求时要一步步来，先判断解决方案的创新性和价值所在，然后再根据创新点来设计对应的权利要求。针对要解决的问题，先将解决方案重新描述为多个步骤，再判断每一个步骤\n",
    "是否有必要存在，若是没有必要，则可以删除；对于必要存在的步骤，再考虑它是否具备创新性。若是不具备，则更新对应的步骤。只要其中一个步骤具备创新性即可。\n",
    "可使用以下问题来引导生成过程：解决方案的基本思路是什么？它的功能和特征是什么？它如何解决上述问题？有哪些优点或者创新？\n",
    "\n",
    "要解决的问题: {question}\n",
    "提供的解决方案: {solution}\n",
    "请生成这个专利发明点的权利要求：'''\n",
    "\n",
    "prompt_claims = PromptTemplate(input_variables=['question', 'solution'], template=template_claims)\n",
    "claims_chain = LLMChain(llm=llm, prompt=prompt_claims, output_key='claims')"
   ]
  },
  {
   "cell_type": "code",
   "execution_count": 6,
   "id": "2ad57207-2cd9-4142-a2b5-6be4c55f37ad",
   "metadata": {},
   "outputs": [],
   "source": [
    "template_explanation = '''你是一个专业的流程挖掘和任务挖掘方面的专利代理，负责专利发明点设计和专利文档起草。请根据解决的问题、解决方案及权利要求，\n",
    "扩充权利要求部分的内容。扩充的方法是，先设计一个具体的应用场景，将权利要求转换为具体的实现步骤，并结合应用场景进行描述每一步的输入输出，以及中间的处理过程。\n",
    "若是不同权利要求对应的操作步骤是相同的，则只需要在第一次给出描述，后面的则省略。\n",
    "可使用这些问题来引导生成过程：它的主要算法或者技术是什么？需要什么样的软硬件运行环境？是否有多种实现方式？每种实现方式最简单的形式是什么样的？\n",
    "\n",
    "要解决的问题: {question}\n",
    "提供的解决方案: {solution}\n",
    "独立权利要求: {claims}\n",
    "\n",
    "请将权利要求扩展为具体的实现步骤，并给出相应的示例说明：'''\n",
    "\n",
    "prompt_explanation = PromptTemplate(input_variables=['question', 'solution', 'claims'], template=template_explanation)\n",
    "explanation_chain = LLMChain(llm=llm, prompt=prompt_explanation, output_key='explanation')"
   ]
  },
  {
   "cell_type": "code",
   "execution_count": 7,
   "id": "54a9d925-38a6-4bf1-b788-e0f97a7c51b6",
   "metadata": {},
   "outputs": [],
   "source": [
    "from langchain.chains import SequentialChain\n",
    "\n",
    "overall_chain = SequentialChain(\n",
    "    chains=[background_chain, claims_chain, explanation_chain],\n",
    "    input_variables=[\"question\", \"solution\"],\n",
    "    # Here we return multiple variables\n",
    "    output_variables=[\"background\", \"claims\", \"explanation\"],\n",
    "    verbose=True)"
   ]
  },
  {
   "cell_type": "code",
   "execution_count": 8,
   "id": "37944f04-7c2c-41c6-9181-5adb531f29bc",
   "metadata": {},
   "outputs": [
    {
     "name": "stdout",
     "output_type": "stream",
     "text": [
      "\n",
      "\n",
      "\u001b[1m> Entering new SequentialChain chain...\u001b[0m\n",
      "\n",
      "\u001b[1m> Finished chain.\u001b[0m\n"
     ]
    }
   ],
   "source": [
    "result = overall_chain({'question': question, 'solution': solution})"
   ]
  },
  {
   "cell_type": "code",
   "execution_count": 9,
   "id": "770814b1-ccd8-4210-b6ee-34761328e198",
   "metadata": {},
   "outputs": [
    {
     "name": "stdout",
     "output_type": "stream",
     "text": [
      "本发明点涉及流程挖掘领域，具体地说是解决识别用户UI操作流程中相同和不同操作的问题。现有软件或技术无法有效区分相似但实际上不同的UI操作，这会导致流程分析的不准确甚至错误。本发明点的目的是识别哪些UI操作是相同的，哪些是不同的，从而更准确地还原用户UI操作流程。本发明点的核心解决方案是使用CV算法识别窗口/应用的区域，然后提取关键标签，代表当前操作的内容。通过窗口区域的相似性和关键标签的相同性，可以判断两个UI操作是否属于同一个业务操作。因此，本发明点提供了一种高效、准确的方法来区分不同的UI操作，从而提高流程挖掘的准确度和可靠性。\n"
     ]
    }
   ],
   "source": [
    "print(result['background'])"
   ]
  },
  {
   "cell_type": "code",
   "execution_count": 10,
   "id": "3dcd95ea-174a-4961-99a2-0396e5995018",
   "metadata": {},
   "outputs": [
    {
     "name": "stdout",
     "output_type": "stream",
     "text": [
      "1. 一种用于还原用户UI操作流程的方法，包括以下步骤：\n",
      "    a. 识别窗口/应用的区域；\n",
      "    b. 提取关键标签，代表当前操作的内容；\n",
      "    c. 判断两个UI操作属于同一个业务操作，当且仅当它们的窗口区域相似，关键标签相同；\n",
      "    其中，步骤a使用canny算法识别窗口的主要布局，同一个应用内只有有限的窗口，每个窗口的布局是很少变化的；步骤b使用OCR识别窗口中的所有文字，然后提取关键位置的文字，比如窗口标题栏中的文字。\n",
      "\n",
      "2. 根据权利要求1所述方法，通过计算窗口区域和关键标签的相似性，判断两个UI操作是否属于同一个业务操作的系统。\n",
      "\n",
      "3. 根据权利要求1所述方法，通过对窗口/应用的区域和关键标签进行训练，提高判断两个UI操作是否属于同一个业务操作的准确性的系统。\n",
      "\n",
      "4. 根据权利要求1所述方法，通过记录用户UI操作流程的方式，提供用户UI操作流程还原的服务。\n",
      "\n",
      "5. 根据权利要求1所述方法，通过对不同窗口/应用的区域进行分类管理，实现对UI操作流程的自动化识别、分类和分析的系统。\n"
     ]
    }
   ],
   "source": [
    "print(result['claims'])"
   ]
  },
  {
   "cell_type": "code",
   "execution_count": 11,
   "id": "9192b087-a95e-4ac1-b8e7-738b2015b326",
   "metadata": {},
   "outputs": [
    {
     "name": "stdout",
     "output_type": "stream",
     "text": [
      "6. 根据权利要求1所述方法，进一步细化步骤a，包括以下步骤：\n",
      "    a1. 对窗口截图进行预处理，如灰度化、二值化、去噪等；\n",
      "    a2. 使用canny算法提取窗口边缘；\n",
      "    a3. 对边缘进行霍夫线变换，得到窗口四条边的位置信息；\n",
      "    a4. 根据窗口四条边的位置信息，确定窗口区域。\n",
      "\n",
      "示例说明：用户需要提交一个报销申请，打开报销申请系统的页面。该页面有不同的窗口，如登录窗口、填写报销单窗口等。对于填写报销单窗口，其窗口区域应该是相同的，包括报销单表格、提交按钮等。通过预处理、边缘提取和霍夫线变换，可以确定窗口的四个边界，从而确定窗口区域。\n",
      "\n",
      "7. 根据权利要求1所述方法，进一步细化步骤b，包括以下步骤：\n",
      "    b1. 对窗口截图进行预处理，如灰度化、二值化、去噪等；\n",
      "    b2. 使用OCR技术识别窗口中的所有文字；\n",
      "    b3. 根据预设规则，提取关键位置的文字；\n",
      "    b4. 将提取的文字作为关键标签。\n",
      "\n",
      "示例说明：用户在填写报销单时，需要在窗口中输入报销信息，如报销单编号、报销金额等。通过OCR技术，可以将所有文字识别出来。然后根据预设规则，如只提取窗口标题栏中的文字，将其作为关键标签。\n",
      "\n",
      "8. 根据权利要求2所述方法，进一步细化步骤c，包括以下步骤：\n",
      "    c1. 对窗口区域进行相似度计算，得到相似度；\n",
      "    c2. 对关键标签进行相似度计算，得到相似度；\n",
      "    c3. 根据预设阈值，判断两个UI操作是否属于同一个业务操作。\n",
      "\n",
      "示例说明：用户A和用户B都需要提交报销申请，但是填写的报销单信息不同。通过计算窗口区域和关键标签的相似度，可以判断两个UI操作是否属于同一个业务操作。当窗口区域相似度和关键标签相似度都超过预设阈值时，说明两个UI操作属于同一个业务操作。\n",
      "\n",
      "9. 根据权利要求3所述方法，进一步细化步骤c，包括以下步骤：\n",
      "    c4. 对窗口区域和关键标签进行训练，建立模型；\n",
      "    c5. 使用模型进行预测，提高判断准确度。\n",
      "\n",
      "示例说明：为了提高判断准确度，可以对窗口区域和关键标签进行训练，建立模型。通过模型进行预测，可以提高判断准确度。\n",
      "\n",
      "10. 根据权利要求4所述方法，包括以下步骤：\n",
      "    d1. 记录用户UI操作流程；\n",
      "    d2. 根据记录的UI操作流程，还原用户操作流程。\n",
      "\n",
      "示例说明：用户在填写报销单时，需要依次打开登录窗口、报销单填写窗口等多个窗口。通过记录用户UI操作流程，可以还原用户操作流程，帮助用户更方便地进行操作。\n",
      "\n",
      "11. 根据权利要求5所述方法，包括以下步骤：\n",
      "    e1. 对不同窗口/应用的区域进行分类管理；\n",
      "    e2. 根据分类信息，进行UI操作流程的自动化识别、分类和分析。\n",
      "\n",
      "示例说明：在一个大型企业的系统中，可能存在多个窗口/应用，包括人事管理、财务管理等。对于不同的窗口/应用，窗口区域和关键标签的差异很大。通过对不同窗口/应用的区域进行分类管理，可以实现对UI操作流程的自动化识别、分类和分析，提高企业的管理效率。\n"
     ]
    }
   ],
   "source": [
    "print(result['explanation'])"
   ]
  },
  {
   "cell_type": "code",
   "execution_count": 12,
   "id": "1d28050a-0d86-4dea-846d-8746be5c25db",
   "metadata": {},
   "outputs": [],
   "source": [
    "with open('patent-output3.txt', 'w') as f:\n",
    "    f.write('background: ' + result['background'])\n",
    "    f.write('\\n\\nclaims: ' + result['claims'])\n",
    "    f.write('\\n\\nexplanation: ' + result['explanation'])"
   ]
  },
  {
   "cell_type": "code",
   "execution_count": null,
   "id": "6c78b3ad-1c25-4482-8960-e2a8f7a5dcb2",
   "metadata": {},
   "outputs": [],
   "source": []
  }
 ],
 "metadata": {
  "kernelspec": {
   "display_name": "Python 3 (ipykernel)",
   "language": "python",
   "name": "python3"
  },
  "language_info": {
   "codemirror_mode": {
    "name": "ipython",
    "version": 3
   },
   "file_extension": ".py",
   "mimetype": "text/x-python",
   "name": "python",
   "nbconvert_exporter": "python",
   "pygments_lexer": "ipython3",
   "version": "3.9.13"
  }
 },
 "nbformat": 4,
 "nbformat_minor": 5
}
