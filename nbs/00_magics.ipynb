{
 "cells": [
  {
   "cell_type": "raw",
   "metadata": {},
   "source": [
    "---\n",
    "description: Fill in a module description here\n",
    "output-file: magics.html\n",
    "title: magics\n",
    "\n",
    "---\n",
    "\n"
   ]
  },
  {
   "cell_type": "code",
   "execution_count": null,
   "metadata": {},
   "outputs": [],
   "source": [
    "#|  magics"
   ]
  },
  {
   "cell_type": "code",
   "execution_count": null,
   "metadata": {},
   "outputs": [],
   "source": [
    "#| hide\n",
    "from nbdev.showdoc import *"
   ]
  },
  {
   "cell_type": "code",
   "execution_count": null,
   "metadata": {},
   "outputs": [],
   "source": [
    "#| export\n",
    "\n",
    "import os\n",
    "import openai\n",
    "from IPython.display import display, Markdown"
   ]
  },
  {
   "cell_type": "code",
   "execution_count": null,
   "metadata": {},
   "outputs": [],
   "source": [
    "#| export\n",
    "#| notest\n",
    "openai.api_key = os.environ['OPENAI_API_KEY']\n",
    "CONTEXT_MAX_WORDS = 2200"
   ]
  },
  {
   "cell_type": "code",
   "execution_count": null,
   "metadata": {},
   "outputs": [],
   "source": [
    "#| export\n",
    "#| notest\n",
    "\n",
    "from abc import ABC, abstractmethod\n",
    "\n",
    "class OpenAIAPI(ABC):\n",
    "    def __init__(self):\n",
    "        self.reset_context()\n",
    "\n",
    "    @abstractmethod\n",
    "    def reset_context(self):\n",
    "        pass\n",
    "\n",
    "    def get_completion(self, prompt, new_conversation=True):\n",
    "        if new_conversation:\n",
    "            self.reset_context()\n",
    "        \n",
    "        self.context.append(\n",
    "            {\n",
    "                'role':'user',\n",
    "                'content': prompt\n",
    "            }\n",
    "        )\n",
    "\n",
    "        response = openai.ChatCompletion.create(\n",
    "            model = \"gpt-3.5-turbo\",\n",
    "            messages = self.context\n",
    "        )\n",
    "        \n",
    "        completion = self.extract_completion(response)\n",
    "        self.extend_context(response)\n",
    "        self.prune_context()\n",
    "\n",
    "        self.completion = completion    \n",
    "        self.response = response  # useful for debugging\n",
    "    \n",
    "    def extract_completion(self, response):\n",
    "        return response['choices'][0].message.content.strip()\n",
    "    \n",
    "    def extend_context(self, response):\n",
    "        self.context.append(response['choices'][0].message.to_dict())\n",
    "    \n",
    "    def prune_context(self):\n",
    "        # Prune context to under CONTEXT_MAX_WORDS words. That should be ~CONTEXT_MAX_WORDS*1.5 tokens, leaving room for the prompt and completion.\n",
    "        pruned_context = []\n",
    "        word_count = 0\n",
    "        while self.context:\n",
    "            last_message = self.context.pop()\n",
    "            word_count += len(last_message['content'].split())\n",
    "            if word_count < CONTEXT_MAX_WORDS:\n",
    "                pruned_context.append(last_message)\n",
    "            else:\n",
    "                break\n",
    "        pruned_context.reverse()\n",
    "        self.context = pruned_context\n",
    "\n",
    "    def display_completion(self):\n",
    "        display(Markdown(self.completion))\n",
    "\n",
    "class ConversationAPI(OpenAIAPI):\n",
    "    def reset_context(self):\n",
    "        self.context = [\n",
    "            {\n",
    "                'role': 'system',\n",
    "                'content': 'You are an expert programmer helping out a friend. Your friend is using Python in Jupyter Notebook. Give a succinct answer that a programmer with one year of professional experience would easily understand.'\n",
    "            }\n",
    "        ]\n",
    "\n",
    "class CodingAPI(OpenAIAPI):\n",
    "    def reset_context(self):\n",
    "        self.context = [\n",
    "            {\n",
    "                'role': 'system',\n",
    "                'content':\n",
    "                    '''\n",
    "                        You are a programming assistant. You will be passed code and instruction what to do next. Output the code that should be added next. Your prompt will be in the following format:\n",
    "\n",
    "                        Code: {code}\n",
    "                        Instruction: {instruction}\n",
    "\n",
    "                        Output only the code that should be added next. Do not output the entire code. Do not output the instruction. Do not output the prompt. Do not output any other text. Do not output any lines that are not indented correctly. Do not output any lines that are not valid Python.\n",
    "                    '''\n",
    "            }\n",
    "        ]\n",
    "\n",
    "conversation_api = ConversationAPI()\n",
    "coding_api = CodingAPI()"
   ]
  },
  {
   "cell_type": "code",
   "execution_count": null,
   "metadata": {},
   "outputs": [],
   "source": [
    "#| export\n",
    "def collect_code_history():\n",
    "    history = [cell_content for session, cell_number, cell_content in get_ipython().history_manager.get_tail()]\n",
    "    collected_code = ''\n",
    "    word_count = 0\n",
    "    while history:\n",
    "        last_cell_content = history.pop()\n",
    "        word_count += len(last_cell_content.split())\n",
    "        if word_count < CONTEXT_MAX_WORDS:\n",
    "            collected_code += ' ' + last_cell_content\n",
    "        else:\n",
    "            break\n",
    "    return collected_code"
   ]
  },
  {
   "cell_type": "code",
   "execution_count": null,
   "metadata": {},
   "outputs": [],
   "source": [
    "#| export\n",
    "\n",
    "import base64\n",
    "import re\n",
    "\n",
    "def ai_ask(line, cell):\n",
    "    conversation_api.get_completion(cell)\n",
    "    conversation_api.display_completion()\n",
    "\n",
    "def ai_continue(line, cell):\n",
    "    conversation_api.get_completion(cell, False)\n",
    "    conversation_api.display_completion()\n",
    "    \n",
    "def ai_code(line, cell):\n",
    "    prompt = f'Code: {collect_code_history()}\\nInstruction: {cell}'\n",
    "    coding_api.get_completion(prompt)\n",
    "    \n",
    "    encoded_code = base64.b64encode(coding_api.completion.encode()).decode()\n",
    "    js_code = f\"\"\"\n",
    "        var new_cell = Jupyter.notebook.insert_cell_below('code');\n",
    "        new_cell.set_text(atob(\"{encoded_code}\"));\n",
    "    \"\"\"\n",
    "    get_ipython().run_cell_magic('javascript', '', js_code)"
   ]
  },
  {
   "cell_type": "code",
   "execution_count": null,
   "metadata": {},
   "outputs": [],
   "source": [
    "#| export\n",
    "\n",
    "def load_ipython_extension(ipython):\n",
    "    ipython.register_magic_function(ai_ask, magic_kind='cell', magic_name='ai_ask')\n",
    "    ipython.register_magic_function(ai_continue, magic_kind='cell', magic_name='ai_continue')\n",
    "    ipython.register_magic_function(ai_code, magic_kind='cell', magic_name='ai_code')"
   ]
  },
  {
   "cell_type": "code",
   "execution_count": null,
   "metadata": {},
   "outputs": [],
   "source": [
    "load_ipython_extension(get_ipython())"
   ]
  },
  {
   "cell_type": "code",
   "execution_count": null,
   "metadata": {},
   "outputs": [
    {
     "data": {
      "text/markdown": [
       "In Python, to write an abstract class, you need to use the `ABC` (Abstract Base Class) module from the `abc` library. You can define an abstract method by decorating the method with the `@abstractmethod` decorator. Here's an example:\n",
       "\n",
       "```\n",
       "from abc import ABC, abstractmethod\n",
       "\n",
       "class MyAbstractClass(ABC):\n",
       "    \n",
       "    @abstractmethod\n",
       "    def my_method(self):\n",
       "        pass\n",
       "```\n",
       "\n",
       "In this example, `MyAbstractClass` is an abstract class that defines an abstract method `my_method()`. Any subclass inheriting from this abstract class must implement `my_method()` or it will result in an error."
      ],
      "text/plain": [
       "<IPython.core.display.Markdown object>"
      ]
     },
     "metadata": {},
     "output_type": "display_data"
    }
   ],
   "source": [
    "#| notest\n",
    "%%ai_ask\n",
    "\n",
    "How to write an abstract clsss in Python?"
   ]
  },
  {
   "cell_type": "code",
   "execution_count": null,
   "metadata": {},
   "outputs": [
    {
     "data": {
      "text/markdown": [
       "Sure!\n",
       "\n",
       "Let's say you want to create a program that performs calculations on different geometric shapes like rectangle, circle, and triangle. All these shapes share some common attributes like area and perimeter.\n",
       "\n",
       "To create an abstract class that defines these attributes as abstract methods, you can use the following code:\n",
       "\n",
       "```python\n",
       "from abc import ABC, abstractmethod\n",
       "\n",
       "class Shape(ABC):\n",
       "    @abstractmethod\n",
       "    def area(self):\n",
       "        pass\n",
       "\n",
       "    @abstractmethod\n",
       "    def perimeter(self):\n",
       "        pass\n",
       "```\n",
       "\n",
       "In this example, `Shape` is an abstract base class that defines two abstract methods, `area` and `perimeter`. Any class that inherits from this `Shape` class must implement these two methods or else it will result in an error.\n",
       "\n",
       "Now, let's say you want to create a `Rectangle` class that inherits from the `Shape` abstract class:\n",
       "\n",
       "```python\n",
       "class Rectangle(Shape):\n",
       "    def __init__(self, length, width):\n",
       "        self.length = length\n",
       "        self.width = width\n",
       "\n",
       "    def area(self):\n",
       "        return self.length * self.width\n",
       "\n",
       "    def perimeter(self):\n",
       "        return 2 * (self.length + self.width)\n",
       "```\n",
       "\n",
       "In this example, `Rectangle` is a concrete class that implements the abstract methods `area` and `perimeter`. It defines the `__init__` method to initialize the length and width of the rectangle. The `area` method calculates the area of the rectangle, and the `perimeter` method calculates the perimeter of the rectangle.\n",
       "\n",
       "You can create other classes like `Circle` and `Triangle` and inherit from the `Shape` class to implement the `area` and `perimeter` methods according to the properties of the specific shape."
      ],
      "text/plain": [
       "<IPython.core.display.Markdown object>"
      ]
     },
     "metadata": {},
     "output_type": "display_data"
    }
   ],
   "source": [
    "#| notest\n",
    "%%ai_continue\n",
    "\n",
    "Can you give me an example?"
   ]
  },
  {
   "cell_type": "code",
   "execution_count": null,
   "metadata": {},
   "outputs": [],
   "source": [
    "#| hide\n",
    "import nbdev; nbdev.nbdev_export()"
   ]
  }
 ],
 "metadata": {
  "kernelspec": {
   "display_name": "Python 3 (ipykernel)",
   "language": "python",
   "name": "python3"
  },
  "language_info": {
   "codemirror_mode": {
    "name": "ipython",
    "version": 3
   },
   "file_extension": ".py",
   "mimetype": "text/x-python",
   "name": "python",
   "nbconvert_exporter": "python",
   "pygments_lexer": "ipython3",
   "version": "3.9.13"
  }
 },
 "nbformat": 4,
 "nbformat_minor": 4
}
