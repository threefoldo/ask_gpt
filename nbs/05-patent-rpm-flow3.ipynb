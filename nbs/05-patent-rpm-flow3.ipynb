{
 "cells": [
  {
   "cell_type": "markdown",
   "id": "9327a203-ea77-462a-b4a3-6d8851e55090",
   "metadata": {},
   "source": [
    "针对RPM产品，给定一个问题和解决方案，先扩张问题描述，然后反思这个更新的问题描述是否与原始版本保持一致。接着，根据更新的问题描述和原始的解决方案来生成多个解决方案，\n",
    "再结合多个解决方案来生成最终的解决方案。目前的重点是完善问题描述和解决方案。\n",
    "\n",
    "Use GPT-4"
   ]
  },
  {
   "cell_type": "code",
   "execution_count": 1,
   "id": "efddb790-e7a9-4f0a-b1b5-38d0bb187ca1",
   "metadata": {},
   "outputs": [],
   "source": [
    "import os\n",
    "from dotenv import load_dotenv\n",
    "from datetime import datetime\n",
    "\n",
    "import openai\n",
    "from IPython.display import HTML, display\n",
    "from ipywidgets import widgets\n",
    "from langchain.chains import ConversationalRetrievalChain\n",
    "from langchain.chat_models import ChatOpenAI\n",
    "from langchain.document_loaders import DirectoryLoader\n",
    "from langchain.vectorstores import Chroma\n",
    "\n",
    "from langchain.chains import LLMChain\n",
    "from langchain.chains.question_answering import load_qa_chain\n",
    "from langchain.prompts import PromptTemplate\n",
    "from langchain.prompts.chat import ChatPromptTemplate\n",
    "from langchain.memory import ConversationBufferMemory, ConversationSummaryBufferMemory\n",
    "\n",
    "\n",
    "load_dotenv(\"../openai.env\")\n",
    "llm = ChatOpenAI(model_name=\"gpt-4-0613\", temperature=0.7, max_tokens=2000)"
   ]
  },
  {
   "cell_type": "code",
   "execution_count": 2,
   "id": "59d31d73-911c-4582-93d5-5c6346ee1d6f",
   "metadata": {},
   "outputs": [],
   "source": [
    "template_rewriteq = '''你是一个专业的软件方法方向的专利代理，你的任务是帮助专利发明人完善发明点设计。\n",
    "这个发明点属于流程挖掘产品，请根据发明人提供的简要描述和以下规则，重新描述专利发明点要解决的问题。\n",
    "1，待解决的问题应用于什么样的业务场景？请给出一个简单且有代表性的例子，方便理解。\n",
    "2，这类问题的一般解决思路是什么？这样的解决思路存在什么样的功能或者性能上的弱点或者缺陷？请给出技术上的理由。\n",
    "3，为什么要解决这个问题？它有多大的现实价值？请结合业务场景和技术特征进行分析。\n",
    "\n",
    "待解决问题的简单描述: {raw_question}\n",
    "\n",
    "请根据以上规则要求，以更完整、更详细的方式重新描述要解决的问题（总长度不超过2000字）：'''\n",
    "\n",
    "prompt_rewriteq = PromptTemplate(input_variables=['raw_question'], template=template_rewriteq)\n",
    "rewriteq_chain = LLMChain(llm=llm, prompt=prompt_rewriteq, output_key='question')"
   ]
  },
  {
   "cell_type": "code",
   "execution_count": 3,
   "id": "c9af9044-f61b-486f-9aa1-0e24ed0764c5",
   "metadata": {},
   "outputs": [],
   "source": [
    "template_commentq = '''你是一个专业的流程挖掘产品经理，请评估更新版本的问题描述是否存在不完善的地方。\n",
    "如果存在不完善的地方，请重新描述一下。如果没有，可以直接复用原来的问题描述。\n",
    "\n",
    "原始版本的问题描述: {raw_question}\n",
    "更新版本的问题描述: {question}\n",
    "\n",
    "请在更新版本的基础上，回答以下问题：\n",
    "1，更新版本是否表达了与原始版本相同的问题？如果有不一致的地方，请修正一下；\n",
    "2，更新版本是否增加了更多的技术细节、应用场景，而不只是引用或者复述原始版本？如果未增加更多的细节，请补充；\n",
    "3，更新版本是否解决了原始版本中未清晰表达的关键内容？如果没有很好的解决，请重新更正；\n",
    "4，更新版本都包含了哪些核心概念和术语？请解释这些概念和术语，以及它们之间可能的逻辑关系。\n",
    "\n",
    "对更新版本的评估（总长度不超过2000字）：'''\n",
    "\n",
    "prompt_commentq = PromptTemplate(input_variables=['raw_question', 'question'], template=template_commentq)\n",
    "commentq_chain = LLMChain(llm=llm, prompt=prompt_commentq, output_key='commentq')"
   ]
  },
  {
   "cell_type": "code",
   "execution_count": 4,
   "id": "98fb3203-71ce-4667-a4c2-20017df2056b",
   "metadata": {},
   "outputs": [],
   "source": [
    "template_candidates = '''你们是三个著名的程序员，请根据问题描述、有效性评估及用户提供的解决方案，各自提供一个初步的且具体创新性的解决方案。\n",
    "解决方案要包含基本的解决思路，使用的算法和数据描述，以及具体的实现步骤。\n",
    "\n",
    "待解决的问题: {question}\n",
    "对该问题描述的有效性评估：{commentq}\n",
    "用户提供的解决方案：{raw_solution}\n",
    "\n",
    "请一步步思考，确保解决方案能够解决上述问题，并转换为具体的代码实现。\n",
    "你们三个的解决方案分别是（总长度不超过3000字）：'''\n",
    "\n",
    "prompt_candidates = PromptTemplate(input_variables=['question', 'commentq', 'raw_solution'], template=template_candidates)\n",
    "candidates_chain = LLMChain(llm=llm, prompt=prompt_candidates, output_key='candidates')"
   ]
  },
  {
   "cell_type": "code",
   "execution_count": 5,
   "id": "4ae3e006-40ad-4019-b7bc-de00348c601a",
   "metadata": {},
   "outputs": [],
   "source": [
    "template_rewritea = '''你是一个专业的流程挖掘领域的专利代理，你的任务是帮助专利发明人完善发明点设计。\n",
    "请根据待解决问题的描述，自动生成的解决方案和用户提供的解决方案，重新组合生成一个可以作为专利发明点的解决方案。\n",
    "这个解决方案需要具体、详细，能够转换为代码实现，还要包含以下内容：\n",
    "1，它的基本思路是什么？用到了哪些成熟算法和数据？请具体分析这个方法如何解决问题的。\n",
    "2，它与一般的解决方法有什么不同？不管是算法上的不同，应用场景的不同，还是使用的数据不同都可以。\n",
    "3，这些不同点对应的优势和价值是什么？如果创新点的价值不高，可以通过什么样的方法来提高？\n",
    "4，它的具体解决步骤是什么？可以综合多个解决方案中的实需现，但要保证每个步骤都是必须的，而且能够解决全部问题。\n",
    "\n",
    "待解决问题的描述: {question}\n",
    "自动生成的解决方案: {candidates}\n",
    "发明人提供的解决方案：{raw_solution}\n",
    "\n",
    "请根据上述方案，在发明人提供的解决方案基础上，生成一个具备创新性的解决方案（总长度不超过2000字）：'''\n",
    "\n",
    "prompt_rewritea = PromptTemplate(input_variables=['question', 'candidates', 'raw_solution'], template=template_rewritea)\n",
    "rewritea_chain = LLMChain(llm=llm, prompt=prompt_rewritea, output_key='solution')"
   ]
  },
  {
   "cell_type": "code",
   "execution_count": 6,
   "id": "6e546061-fe73-4cb8-846a-593b644db820",
   "metadata": {},
   "outputs": [],
   "source": [
    "template_background = '''你是一个专业的流程挖掘领域的专利代理，帮助专利发明人设计发明点设计，并起草专利草稿。请根据以下待解决问题及解决方案的描述，起草专利的背景介绍部分。\n",
    "专利的背景介绍要包含所解决问题所在的技术领域介绍，问题的简单介绍，以及这个问题所产生的不良影响。\n",
    "待解决问题的描述: {question}\n",
    "解决方案的描述: {solution}\n",
    "请生成这个专利发明点的背景介绍（总长度不超过2000字）：'''\n",
    "\n",
    "prompt_background = PromptTemplate(input_variables=['question', 'solution'], template=template_background)\n",
    "background_chain = LLMChain(llm=llm, prompt=prompt_background, output_key='background')"
   ]
  },
  {
   "cell_type": "code",
   "execution_count": 7,
   "id": "0500bf7d-074e-48ae-8f23-c3673c742a9f",
   "metadata": {},
   "outputs": [],
   "source": [
    "template_claims = '''你是一个专业的流程挖掘和任务挖掘方面的专利代理，负责专利发明点设计和专利文档起草。请根据以下要解决的问题及解决方案，起草专利的权利要求部分。\n",
    "在设计专利的权利要求时要一步步来，先判断解决方案的创新性和价值所在，然后再根据创新点来设计对应的权利要求。针对要解决的问题，先将解决方案重新描述为多个步骤，再判断每一个步骤\n",
    "是否有必要存在，若是没有必要，则可以删除；对于必要存在的步骤，再考虑它是否具备创新性。若是不具备，则更新对应的步骤。只要其中一个步骤具备创新性即可。\n",
    "可使用以下问题来引导生成过程：\n",
    "\n",
    "要解决的问题: {question}\n",
    "提供的解决方案: {solution}\n",
    "请生成这个专利发明点的权利要求（总长度不超过4000字）：'''\n",
    "\n",
    "prompt_claims = PromptTemplate(input_variables=['question', 'solution'], template=template_claims)\n",
    "claims_chain = LLMChain(llm=llm, prompt=prompt_claims, output_key='claims')"
   ]
  },
  {
   "cell_type": "code",
   "execution_count": 8,
   "id": "2ad57207-2cd9-4142-a2b5-6be4c55f37ad",
   "metadata": {},
   "outputs": [],
   "source": [
    "template_explanation = '''你是一个专业的流程挖掘和任务挖掘方面的专利代理，负责专利发明点设计和专利文档起草。请根据解决的问题、解决方案及权利要求，\n",
    "扩充权利要求部分的内容。扩充的方法是，先设计一个具体的应用场景，将权利要求转换为具体的实现步骤，并结合应用场景进行描述每一步的输入输出，以及中间的处理过程。\n",
    "若是不同权利要求对应的操作步骤是相同的，则只需要在第一次给出描述，后面的则省略。\n",
    "可使用这些问题来引导生成过程：它的主要算法或者技术是什么？需要什么样的软硬件运行环境？是否有多种实现方式？每种实现方式最简单的形式是什么样的？\n",
    "\n",
    "要解决的问题: {question}\n",
    "提供的解决方案: {solution}\n",
    "独立权利要求: {claims}\n",
    "\n",
    "请将权利要求扩展为具体的实现步骤，并给出相应的示例说明（总长度不超过2000字）：'''\n",
    "\n",
    "prompt_explanation = PromptTemplate(input_variables=['question', 'solution', 'claims'], template=template_explanation)\n",
    "explanation_chain = LLMChain(llm=llm, prompt=prompt_explanation, output_key='explanation')"
   ]
  },
  {
   "cell_type": "code",
   "execution_count": 9,
   "id": "54a9d925-38a6-4bf1-b788-e0f97a7c51b6",
   "metadata": {},
   "outputs": [],
   "source": [
    "from langchain.chains import SequentialChain\n",
    "\n",
    "def generate(pno, question, solution, version=1):\n",
    "    result = overall_chain({'raw_question': question, 'raw_solution': solution})\n",
    "\n",
    "    with open(f'patents/patent-rpm-{pno}v{version}.txt', 'w') as f:\n",
    "        f.write('>>> original question: \\n' + result['raw_question'])  \n",
    "        f.write('\\n\\n>>> original solution: \\n' + result['raw_solution'])\n",
    "        f.write('\\n\\n>>> revised question: \\n' + result['question'])\n",
    "        f.write('\\n\\n>>> commented question: \\n' + result['commentq'])\n",
    "        f.write('\\n\\n>>> solution candidates: \\n' + result['candidates'])\n",
    "        f.write('\\n\\n>>> final solution: \\n' + result['solution'])\n",
    "        f.write('\\n\\n>>> background: \\n' + result['background'])\n",
    "        f.write('\\n\\n>>> claims: \\n' + result['claims'])\n",
    "        f.write('\\n\\n>>> explanation: \\n' + result['explanation'])\n",
    "\n",
    "overall_chain = SequentialChain(\n",
    "    chains=[rewriteq_chain, commentq_chain, candidates_chain, rewritea_chain, background_chain, claims_chain, explanation_chain],\n",
    "    input_variables=[\"raw_question\", \"raw_solution\"],\n",
    "    # Here we return multiple variables\n",
    "    output_variables=[\"question\", \"commentq\", \"candidates\", \"solution\", \"background\", \"claims\", \"explanation\"],\n",
    "    verbose=True)"
   ]
  },
  {
   "cell_type": "code",
   "execution_count": null,
   "id": "a26a1e56-ab37-411a-926a-087afb12910d",
   "metadata": {},
   "outputs": [
    {
     "name": "stdout",
     "output_type": "stream",
     "text": [
      "p51 在流程挖掘和任务挖掘中，往往会遇到原始日志中包含了多个不同类型的业务的情况，这样，在显示流程图时就需要判断哪个业务更为重要，需要置于流程图中的中心位置。一般的方法是根据对应业务流程的出现次数，这样的选择有可能与业务人员理解的主流程并不一致。为了缩小这种不一致，有必要在选择主流程时考虑更多的相关因素。\n",
      "\n",
      "\n",
      "\u001b[1m> Entering new SequentialChain chain...\u001b[0m\n"
     ]
    }
   ],
   "source": [
    "import pandas as pd\n",
    "\n",
    "\n",
    "version = 3\n",
    "df = pd.read_excel('patents/rpm-patents-0627b.xlsx')\n",
    "for i, row in df.iterrows():\n",
    "    pno, question, solution = row['no.'], row['question'], row['solution']\n",
    "    if pd.isna(question) or pd.isna(solution): continue\n",
    "    print(pno, question)\n",
    "    generate(pno, question, solution, version)"
   ]
  },
  {
   "cell_type": "code",
   "execution_count": null,
   "id": "09f79f6b-37fb-44fd-ba6c-6be313d36365",
   "metadata": {},
   "outputs": [],
   "source": []
  }
 ],
 "metadata": {
  "kernelspec": {
   "display_name": "Python 3 (ipykernel)",
   "language": "python",
   "name": "python3"
  },
  "language_info": {
   "codemirror_mode": {
    "name": "ipython",
    "version": 3
   },
   "file_extension": ".py",
   "mimetype": "text/x-python",
   "name": "python",
   "nbconvert_exporter": "python",
   "pygments_lexer": "ipython3",
   "version": "3.9.13"
  }
 },
 "nbformat": 4,
 "nbformat_minor": 5
}
